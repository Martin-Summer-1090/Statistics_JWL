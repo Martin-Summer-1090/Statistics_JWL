{
 "cells": [
  {
   "cell_type": "markdown",
   "metadata": {},
   "source": [
    "# Modelling relationships using regression\n",
    "\n",
    "## Contents \n",
    "\n",
    "Regression models provide a mathematical representation between a set of explanatory variables and a response. \n",
    "\n",
    "\n",
    "1. The coefficients in a regression represent how much we expect the response to change when the explanatory variable is observed to change. \n",
    "2. Regression to the mean\n",
    "3. Regression models can incorporate different types of response variable\n",
    "4. Explanatory variables and non-linear relationships\n",
    "5. Be cautious in interpreting models and don’t take them literally.\n",
    "\n",
    "\n",
    "## Outcome\n",
    "\n",
    "The students should understand the concept of regression and how it works and should be correctly interpreted. They should develop a good understanding that a method like regression does not provide an automatism for making predictions and will always need cautious interpretation. The students should learn some tools and example what cautious interpretation means and what is helpful in this respect. \n"
   ]
  }
 ],
 "metadata": {
  "kernelspec": {
   "display_name": "R",
   "language": "R",
   "name": "ir"
  },
  "language_info": {
   "codemirror_mode": "r",
   "file_extension": ".r",
   "mimetype": "text/x-r-source",
   "name": "R",
   "pygments_lexer": "r",
   "version": "4.2.1"
  }
 },
 "nbformat": 4,
 "nbformat_minor": 4
}
