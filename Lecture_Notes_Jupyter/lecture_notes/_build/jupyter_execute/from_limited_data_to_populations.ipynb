{
 "cells": [
  {
   "cell_type": "markdown",
   "metadata": {},
   "source": [
    "## From limited data to populations\n",
    "\n",
    "## Contents\n",
    "\n",
    "Inductive inference requires working from data to study sample and study population to target population. \n",
    "\n",
    "\n",
    "1. At each stage bias can crop up. \n",
    "2. The best way to proceed from sample to study population is if you have drawn a random sample. \n",
    "3. Introduce the idea that a population can be thought of as a group of individuals but also as a probability distribution for a random observation drawn from that population\n",
    "4. Populations can be summarized using parameters that mirror the summary statistics of sample data. \n",
    "5. It often occurs that data do not arise as a sample from a literal population. We can always imagine data as drawn from a metaphorical population of events that could have occurred but didn’t.\n",
    "\n",
    "\n",
    "## Outcome \n",
    "\n",
    "Make the concept of a random sample and a probability distribution tangible by using the computer."
   ]
  }
 ],
 "metadata": {
  "kernelspec": {
   "display_name": "R",
   "language": "R",
   "name": "ir"
  },
  "language_info": {
   "codemirror_mode": "r",
   "file_extension": ".r",
   "mimetype": "text/x-r-source",
   "name": "R",
   "pygments_lexer": "r",
   "version": "4.2.1"
  }
 },
 "nbformat": 4,
 "nbformat_minor": 4
}