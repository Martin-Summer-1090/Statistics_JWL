{
 "cells": [
  {
   "cell_type": "markdown",
   "metadata": {},
   "source": [
    "# Putting probability and statistics together\n",
    "\n",
    "## Contents \n",
    "\n",
    "This will be conceptually the most difficult part of the course. The main ideas that should be conveyed in this unit are\n",
    "\n",
    "\n",
    "1. Using probability theory we can derive the sampling distribution of summary statistics from which formulae for confidence intervals can be derived. \n",
    "2. Explain what a 95 \\% confidence interval means\n",
    "3. The central limit theorem and the normal distribution\n",
    "4. The role of systematic error due to non random causes and the role of judgment\n",
    "5. Explain the idea that confidence intervals can be calculated even when we observe all the data which then represent uncertainty about the parameters of an underlying metaphorical population.\n",
    "\n",
    "\n",
    "## Outcome\n",
    "\n",
    "The students should gain a firm understanding of confidence intervals and how they help us in quantifying uncertainty of predictions we make based on our available data. They should see and understand how and why it is sometimes more convenient and parsimonious to have formulae for confidence intervals rather than quantifying the uncertainty from simulation. The intuitive understanding of the limit theorems and when they can be legitimately applied will be important here."
   ]
  }
 ],
 "metadata": {
  "kernelspec": {
   "display_name": "R",
   "language": "R",
   "name": "ir"
  },
  "language_info": {
   "codemirror_mode": "r",
   "file_extension": ".r",
   "mimetype": "text/x-r-source",
   "name": "R",
   "pygments_lexer": "r",
   "version": "4.2.1"
  }
 },
 "nbformat": 4,
 "nbformat_minor": 4
}