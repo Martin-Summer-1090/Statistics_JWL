{
 "cells": [
  {
   "cell_type": "markdown",
   "metadata": {},
   "source": [
    "# Algorithmic prediction\n",
    "\n",
    "## Contents\n",
    "\n",
    "Algorithms built from data can be used for classification and prediction in  technological applications.\n",
    "\n",
    "1. Importance of guarding an algorithm against over fitting\n",
    "2. Algorithms can be evaluated according to classification accuracy, their ability to discriminate between groups and their overall predictive accuracy\n",
    "3. Complex algorithms can lack transparency and it may be worth trading off some accuracy for comprehension. \n",
    "4. There are many challenges in using algorithms and machine learning, be aware of them.\n",
    "\n",
    "\n",
    "## Outcome \n",
    "\n",
    "With respect to algorithmic prediction the students should have seen what it is and see a not too complex example, for instance in classification. They should be able to see the close similarity between regression and machine learning methods and be able to understand the jargon. Both regression and machine learning use sometimes different notions for the same thing."
   ]
  }
 ],
 "metadata": {
  "kernelspec": {
   "display_name": "R",
   "language": "R",
   "name": "ir"
  },
  "language_info": {
   "codemirror_mode": "r",
   "file_extension": ".r",
   "mimetype": "text/x-r-source",
   "name": "R",
   "pygments_lexer": "r",
   "version": "4.2.1"
  }
 },
 "nbformat": 4,
 "nbformat_minor": 4
}