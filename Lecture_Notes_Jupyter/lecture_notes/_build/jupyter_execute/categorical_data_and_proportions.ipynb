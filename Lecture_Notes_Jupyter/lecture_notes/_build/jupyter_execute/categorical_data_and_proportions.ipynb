{
 "cells": [
  {
   "cell_type": "markdown",
   "metadata": {},
   "source": [
    "# Categorical Data and Proportions\n",
    "\n",
    "\n",
    "## Contents\n",
    "\n",
    "Introduce binary variables, variables that can be imagined as yes-no questions and how they can be summarized as proportions.\n",
    "\n",
    "\n",
    "1. The importance of framing\n",
    "2. Relative and absolute risk\n",
    "3. How to think in expected frequencies can promote understanding and provide an appropriate sense of importance, what are odds rations, why we need to understand what they mean and why we should avoid them in communication.\n",
    "\n",
    "\n",
    "All these concepts and discussions should be accompanied by data visualization and students will learn how to visualize the data on the computer.\n",
    "\n",
    "## Outcome\n",
    "\n",
    "The outcome of learning from the introduction and this chapter, which together form \n",
    "unit 1, students should have an overview of \n",
    "\n",
    "1. The contents of the course\n",
    "2. Should have formed expectations that this course will actively involve them and require their hands on participation\n",
    "3. Know how to start and stop R (Python) and R studio (Jupyter notebooks) and have played with one or two meaningful visualizations right away. \n",
    "4. The way to achieve this is to prepare a visualization code in an interactive notebook, which students need not understand in all details. But they can change details, for instance if the variables contain countries, they could change the code such that the data for their own country are shown and rerun the visualization code. \n",
    "5. After this unit the students should feel familiar with proportions and their meaning and interpretation. \n",
    "6. We will also have gathered data from an activity which will be used later in the course.\n"
   ]
  },
  {
   "cell_type": "code",
   "execution_count": null,
   "metadata": {},
   "outputs": [],
   "source": []
  }
 ],
 "metadata": {
  "kernelspec": {
   "display_name": "R",
   "language": "R",
   "name": "ir"
  },
  "language_info": {
   "codemirror_mode": "r",
   "file_extension": ".r",
   "mimetype": "text/x-r-source",
   "name": "R",
   "pygments_lexer": "r",
   "version": "4.2.1"
  }
 },
 "nbformat": 4,
 "nbformat_minor": 4
}