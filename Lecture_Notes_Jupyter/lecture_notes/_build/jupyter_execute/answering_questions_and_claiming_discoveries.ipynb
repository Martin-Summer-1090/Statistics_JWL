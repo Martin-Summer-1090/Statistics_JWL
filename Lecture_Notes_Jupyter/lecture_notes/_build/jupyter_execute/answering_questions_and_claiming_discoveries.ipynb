{
 "cells": [
  {
   "cell_type": "markdown",
   "metadata": {},
   "source": [
    "# Answering questions and claiming discoveries\n",
    "\n",
    "## Contents\n",
    "\n",
    "Formal statistical testing as a major empirical tool for answering questions and claiming discoveries.\n",
    "\n",
    "\n",
    "1. Tests of null hypothesis as a major part of statistical practice\n",
    "2. p-value as the measure of incompatibility between the observed data and the null hypothesis\n",
    "3. The traditional p value thresholds.\n",
    "4. The need to adjust thresholds with multiple tests\n",
    "5. Correspondence between p-values and confidence intervals\n",
    "6. Neyman-Pearson theory (alternative hypothesis and type 1 and type 2 error). \n",
    "7. Sequential testing\n",
    "8. The misinterpretation of p-values.\n",
    "\n",
    "\n",
    "## Outcomes\n",
    "\n",
    "Students should learn the basic ideas of hypothesis testing and the terminology around it."
   ]
  }
 ],
 "metadata": {
  "kernelspec": {
   "display_name": "R",
   "language": "R",
   "name": "ir"
  },
  "language_info": {
   "codemirror_mode": "r",
   "file_extension": ".r",
   "mimetype": "text/x-r-source",
   "name": "R",
   "pygments_lexer": "r",
   "version": "4.2.1"
  }
 },
 "nbformat": 4,
 "nbformat_minor": 4
}