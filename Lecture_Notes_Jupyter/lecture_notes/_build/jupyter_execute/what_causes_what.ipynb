{
 "cells": [
  {
   "cell_type": "markdown",
   "metadata": {},
   "source": [
    "# What causes what?\n",
    "\n",
    "## Contents\n",
    "\n",
    "In this lecture we discuss what causation means in a statistical sense, why we need be careful to \n",
    "distinguish between causation and correlation.\n",
    "\n",
    "Causation in a statistical sense means that when we intervene, the chances of different outcomes vary systematically.\n",
    "1. Causation is difficult to establish statistically, but well designed randomized trials are the best available framework. \n",
    "2. Principles that helped clinical trials to identify effects. \n",
    "3. Observational data may have background factors influencing the apparent relationships between exposure and outcome which may be either observed confounders or lurking factors.\n",
    "4. Statistical methods do not suspend judgment which is always required for the confidence with which causation can be claimed.\n",
    "\n",
    "\n",
    "## Outcome\n",
    "\n",
    "This is a conceptually difficult topic. It is, however, not technically difficult but it will need lots of examples. Fortunately there are many good (and bad) real world examples that I hope will stick with the students as reference examples after the course. Students should understand the idea of randomized trials and observational studies as well as the general ideas of comparison in statistical analysis."
   ]
  }
 ],
 "metadata": {
  "kernelspec": {
   "display_name": "R",
   "language": "R",
   "name": "ir"
  },
  "language_info": {
   "codemirror_mode": "r",
   "file_extension": ".r",
   "mimetype": "text/x-r-source",
   "name": "R",
   "pygments_lexer": "r",
   "version": "4.2.1"
  }
 },
 "nbformat": 4,
 "nbformat_minor": 4
}