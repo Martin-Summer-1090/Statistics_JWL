{
 "cells": [
  {
   "cell_type": "markdown",
   "metadata": {},
   "source": [
    "# Summarizing and communicating lost of data\n",
    "\n",
    "## Contents \n",
    "\n",
    "Statistics usually involves lots of data and we need ways to communicate and summarize these data. This\n",
    "chapter introduces the most important concepts.\n",
    "\n",
    "\n",
    "1. The empirical distribution of data points\n",
    "2. Measures of location and spread.\n",
    "3. Skewed data distributions are common and some summary statistics are very sensitive to outlying values. \n",
    "4. Summaries always hide some detail. \n",
    "5. How to summarize sets of numbers graphically (histograms and box plots)\n",
    "6. Useful transformations to reveal patterns\n",
    "7. Looking at pairs of numbers, scatter plots, time series as line graphs. \n",
    "8. The primary aim in data exploration is to get an idea of the overall variation.\n",
    "\n",
    "\n",
    "## Outcome \n",
    "\n",
    "Understand these concepts and work through may examples showing how to apply these summary measures to data on the\n",
    "computer."
   ]
  }
 ],
 "metadata": {
  "kernelspec": {
   "display_name": "R",
   "language": "R",
   "name": "ir"
  },
  "language_info": {
   "codemirror_mode": "r",
   "file_extension": ".r",
   "mimetype": "text/x-r-source",
   "name": "R",
   "pygments_lexer": "r",
   "version": "4.2.1"
  }
 },
 "nbformat": 4,
 "nbformat_minor": 4
}