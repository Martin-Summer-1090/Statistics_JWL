{
 "cells": [
  {
   "cell_type": "markdown",
   "id": "967440f6",
   "metadata": {},
   "source": [
    "# Computer exercises for section 2: Summarizing and communicating lots of data\n",
    "\n",
    "In this exercise set we ask you to work with the computer using R. Please work out the problems by writing your\n",
    "own R code and submit the Jupyter-Notebook at the deatline set for this assignment."
   ]
  },
  {
   "cell_type": "markdown",
   "id": "af5aac78",
   "metadata": {},
   "source": [
    "## Exercise 1: Download data from the internet and load them into R\n",
    "\n",
    "Go to the website of **Our world in Data** (https://ourworldindata.org/) and find the data on energy use per person. Download this file locally to your machine. From this location load the file into R and store it in an\n",
    "object called \"energy_consumption_per_person\". Note that the path you use when reading your data will need to specify the location of the file on your own machine. Display the first 10 rows of the file.\n",
    "\n",
    "When I investigated the file, I noticed that there were empty cells for some variable values in the csv file. Use this information and the help function of read.csv to set the na.strings argument such that empty characters \"\" are replaced by NA"
   ]
  },
  {
   "cell_type": "code",
   "execution_count": 10,
   "id": "a40d97ed",
   "metadata": {},
   "outputs": [],
   "source": [
    "energy_consumption_per_person  <- read.csv(\n",
    "    \"~/R/Statistics_JWL/data/energy_use_per_capita/per-capita-energy-use.csv\",\n",
    "na.strings = c(\"\"))"
   ]
  },
  {
   "cell_type": "code",
   "execution_count": 11,
   "id": "4ba42080",
   "metadata": {},
   "outputs": [
    {
     "data": {
      "text/html": [
       "<table class=\"dataframe\">\n",
       "<caption>A data.frame: 10 × 4</caption>\n",
       "<thead>\n",
       "\t<tr><th></th><th scope=col>Entity</th><th scope=col>Code</th><th scope=col>Year</th><th scope=col>Primary.energy.consumption.per.capita..kWh.person.</th></tr>\n",
       "\t<tr><th></th><th scope=col>&lt;chr&gt;</th><th scope=col>&lt;chr&gt;</th><th scope=col>&lt;int&gt;</th><th scope=col>&lt;dbl&gt;</th></tr>\n",
       "</thead>\n",
       "<tbody>\n",
       "\t<tr><th scope=row>1</th><td>Afghanistan</td><td>AFG</td><td>1980</td><td> 583.2944</td></tr>\n",
       "\t<tr><th scope=row>2</th><td>Afghanistan</td><td>AFG</td><td>1981</td><td> 666.3782</td></tr>\n",
       "\t<tr><th scope=row>3</th><td>Afghanistan</td><td>AFG</td><td>1982</td><td> 725.6599</td></tr>\n",
       "\t<tr><th scope=row>4</th><td>Afghanistan</td><td>AFG</td><td>1983</td><td> 912.1396</td></tr>\n",
       "\t<tr><th scope=row>5</th><td>Afghanistan</td><td>AFG</td><td>1984</td><td> 941.3926</td></tr>\n",
       "\t<tr><th scope=row>6</th><td>Afghanistan</td><td>AFG</td><td>1985</td><td> 939.6124</td></tr>\n",
       "\t<tr><th scope=row>7</th><td>Afghanistan</td><td>AFG</td><td>1986</td><td> 976.6691</td></tr>\n",
       "\t<tr><th scope=row>8</th><td>Afghanistan</td><td>AFG</td><td>1987</td><td>1592.7023</td></tr>\n",
       "\t<tr><th scope=row>9</th><td>Afghanistan</td><td>AFG</td><td>1988</td><td>2805.6096</td></tr>\n",
       "\t<tr><th scope=row>10</th><td>Afghanistan</td><td>AFG</td><td>1989</td><td>2700.4739</td></tr>\n",
       "</tbody>\n",
       "</table>\n"
      ],
      "text/latex": [
       "A data.frame: 10 × 4\n",
       "\\begin{tabular}{r|llll}\n",
       "  & Entity & Code & Year & Primary.energy.consumption.per.capita..kWh.person.\\\\\n",
       "  & <chr> & <chr> & <int> & <dbl>\\\\\n",
       "\\hline\n",
       "\t1 & Afghanistan & AFG & 1980 &  583.2944\\\\\n",
       "\t2 & Afghanistan & AFG & 1981 &  666.3782\\\\\n",
       "\t3 & Afghanistan & AFG & 1982 &  725.6599\\\\\n",
       "\t4 & Afghanistan & AFG & 1983 &  912.1396\\\\\n",
       "\t5 & Afghanistan & AFG & 1984 &  941.3926\\\\\n",
       "\t6 & Afghanistan & AFG & 1985 &  939.6124\\\\\n",
       "\t7 & Afghanistan & AFG & 1986 &  976.6691\\\\\n",
       "\t8 & Afghanistan & AFG & 1987 & 1592.7023\\\\\n",
       "\t9 & Afghanistan & AFG & 1988 & 2805.6096\\\\\n",
       "\t10 & Afghanistan & AFG & 1989 & 2700.4739\\\\\n",
       "\\end{tabular}\n"
      ],
      "text/markdown": [
       "\n",
       "A data.frame: 10 × 4\n",
       "\n",
       "| <!--/--> | Entity &lt;chr&gt; | Code &lt;chr&gt; | Year &lt;int&gt; | Primary.energy.consumption.per.capita..kWh.person. &lt;dbl&gt; |\n",
       "|---|---|---|---|---|\n",
       "| 1 | Afghanistan | AFG | 1980 |  583.2944 |\n",
       "| 2 | Afghanistan | AFG | 1981 |  666.3782 |\n",
       "| 3 | Afghanistan | AFG | 1982 |  725.6599 |\n",
       "| 4 | Afghanistan | AFG | 1983 |  912.1396 |\n",
       "| 5 | Afghanistan | AFG | 1984 |  941.3926 |\n",
       "| 6 | Afghanistan | AFG | 1985 |  939.6124 |\n",
       "| 7 | Afghanistan | AFG | 1986 |  976.6691 |\n",
       "| 8 | Afghanistan | AFG | 1987 | 1592.7023 |\n",
       "| 9 | Afghanistan | AFG | 1988 | 2805.6096 |\n",
       "| 10 | Afghanistan | AFG | 1989 | 2700.4739 |\n",
       "\n"
      ],
      "text/plain": [
       "   Entity      Code Year Primary.energy.consumption.per.capita..kWh.person.\n",
       "1  Afghanistan AFG  1980  583.2944                                         \n",
       "2  Afghanistan AFG  1981  666.3782                                         \n",
       "3  Afghanistan AFG  1982  725.6599                                         \n",
       "4  Afghanistan AFG  1983  912.1396                                         \n",
       "5  Afghanistan AFG  1984  941.3926                                         \n",
       "6  Afghanistan AFG  1985  939.6124                                         \n",
       "7  Afghanistan AFG  1986  976.6691                                         \n",
       "8  Afghanistan AFG  1987 1592.7023                                         \n",
       "9  Afghanistan AFG  1988 2805.6096                                         \n",
       "10 Afghanistan AFG  1989 2700.4739                                         "
      ]
     },
     "metadata": {},
     "output_type": "display_data"
    }
   ],
   "source": [
    "head(energy_consumption_per_person, n = 10)"
   ]
  },
  {
   "cell_type": "markdown",
   "id": "6e6fa5a2",
   "metadata": {},
   "source": [
    " ## Exercise 2: Change variable names of your data object\n",
    " \n",
    " Use the `names()` function of R to change the variable names in the dataframe `energy_consumption_per_person` to\n",
    " \"Country\" instead of \"Entity\", \"ISO\" instead of \"Code, keep Year as it is and change \"Primary.energy.consumption.per.capita..kWh.person\" to \"Consumption\"."
   ]
  },
  {
   "cell_type": "code",
   "execution_count": 12,
   "id": "9505bdd1",
   "metadata": {},
   "outputs": [],
   "source": [
    "names(energy_consumption_per_person)  <- c(\"Country\", \"ISO\", \"Year\", \"Consumption\")"
   ]
  },
  {
   "cell_type": "markdown",
   "id": "caeb919c",
   "metadata": {},
   "source": [
    "## Exercise 3: Check the data before working further with them\n",
    "\n",
    "Let us first check how many rows and columns our dataframe has. Use the `dim()`function which reads this\n",
    "information from the attributes of your dataframe object."
   ]
  },
  {
   "cell_type": "code",
   "execution_count": 13,
   "id": "ae06fbda",
   "metadata": {},
   "outputs": [
    {
     "data": {
      "text/html": [
       "<style>\n",
       ".list-inline {list-style: none; margin:0; padding: 0}\n",
       ".list-inline>li {display: inline-block}\n",
       ".list-inline>li:not(:last-child)::after {content: \"\\00b7\"; padding: 0 .5ex}\n",
       "</style>\n",
       "<ol class=list-inline><li>10215</li><li>4</li></ol>\n"
      ],
      "text/latex": [
       "\\begin{enumerate*}\n",
       "\\item 10215\n",
       "\\item 4\n",
       "\\end{enumerate*}\n"
      ],
      "text/markdown": [
       "1. 10215\n",
       "2. 4\n",
       "\n",
       "\n"
      ],
      "text/plain": [
       "[1] 10215     4"
      ]
     },
     "metadata": {},
     "output_type": "display_data"
    }
   ],
   "source": [
    "dim(energy_consumption_per_person)"
   ]
  },
  {
   "cell_type": "markdown",
   "id": "a4948ca9",
   "metadata": {},
   "source": [
    "## Exercise 4: Select the data for the year 2020 and check their dimensionality\n",
    "\n",
    "Now use R to select the data for the year 2020 from the dataframe and write this selection into a new object called \"energy_consumption_per_person_2020\". Then check the dimensionality of these data. Find the entries in the\n",
    "dataframe which have NA for the ISO variable. To find the NA values use the R function `is.na()`. Explain what\n",
    "type of subsetting is applied by R if you use `is.na()`.\n",
    "\n",
    "Why do these entries have an NA? Remove these entries and plot a histogram of the cleaned data."
   ]
  },
  {
   "cell_type": "code",
   "execution_count": 20,
   "id": "14e67aed",
   "metadata": {},
   "outputs": [
    {
     "data": {
      "text/html": [
       "<style>\n",
       ".list-inline {list-style: none; margin:0; padding: 0}\n",
       ".list-inline>li {display: inline-block}\n",
       ".list-inline>li:not(:last-child)::after {content: \"\\00b7\"; padding: 0 .5ex}\n",
       "</style>\n",
       "<ol class=list-inline><li>90</li><li>4</li></ol>\n"
      ],
      "text/latex": [
       "\\begin{enumerate*}\n",
       "\\item 90\n",
       "\\item 4\n",
       "\\end{enumerate*}\n"
      ],
      "text/markdown": [
       "1. 90\n",
       "2. 4\n",
       "\n",
       "\n"
      ],
      "text/plain": [
       "[1] 90  4"
      ]
     },
     "metadata": {},
     "output_type": "display_data"
    }
   ],
   "source": [
    "energy_consumption_per_person_2020  <- energy_consumption_per_person[energy_consumption_per_person$Year == 2020, ]\n",
    "dim(energy_consumption_per_person_2020)"
   ]
  },
  {
   "cell_type": "code",
   "execution_count": 22,
   "id": "d86fc171",
   "metadata": {},
   "outputs": [
    {
     "data": {
      "text/html": [
       "<table class=\"dataframe\">\n",
       "<caption>A data.frame: 10 × 4</caption>\n",
       "<thead>\n",
       "\t<tr><th></th><th scope=col>Country</th><th scope=col>ISO</th><th scope=col>Year</th><th scope=col>Consumption</th></tr>\n",
       "\t<tr><th></th><th scope=col>&lt;chr&gt;</th><th scope=col>&lt;chr&gt;</th><th scope=col>&lt;int&gt;</th><th scope=col>&lt;dbl&gt;</th></tr>\n",
       "</thead>\n",
       "<tbody>\n",
       "\t<tr><th scope=row>96</th><td>Africa                       </td><td>NA</td><td>2020</td><td> 3913.185</td></tr>\n",
       "\t<tr><th scope=row>489</th><td>Asia                         </td><td>NA</td><td>2020</td><td>18001.008</td></tr>\n",
       "\t<tr><th scope=row>2925</th><td>Europe                       </td><td>NA</td><td>2020</td><td>37985.273</td></tr>\n",
       "\t<tr><th scope=row>2982</th><td>European Union (27)          </td><td>NA</td><td>2020</td><td>35601.789</td></tr>\n",
       "\t<tr><th scope=row>3975</th><td>High-income countries        </td><td>NA</td><td>2020</td><td>53872.859</td></tr>\n",
       "\t<tr><th scope=row>5295</th><td>Lower-middle-income countries</td><td>NA</td><td>2020</td><td> 6322.842</td></tr>\n",
       "\t<tr><th scope=row>6626</th><td>North America                </td><td>NA</td><td>2020</td><td>52011.910</td></tr>\n",
       "\t<tr><th scope=row>6852</th><td>Oceania                      </td><td>NA</td><td>2020</td><td>42945.570</td></tr>\n",
       "\t<tr><th scope=row>8419</th><td>South America                </td><td>NA</td><td>2020</td><td>15031.484</td></tr>\n",
       "\t<tr><th scope=row>9754</th><td>Upper-middle-income countries</td><td>NA</td><td>2020</td><td>25226.154</td></tr>\n",
       "</tbody>\n",
       "</table>\n"
      ],
      "text/latex": [
       "A data.frame: 10 × 4\n",
       "\\begin{tabular}{r|llll}\n",
       "  & Country & ISO & Year & Consumption\\\\\n",
       "  & <chr> & <chr> & <int> & <dbl>\\\\\n",
       "\\hline\n",
       "\t96 & Africa                        & NA & 2020 &  3913.185\\\\\n",
       "\t489 & Asia                          & NA & 2020 & 18001.008\\\\\n",
       "\t2925 & Europe                        & NA & 2020 & 37985.273\\\\\n",
       "\t2982 & European Union (27)           & NA & 2020 & 35601.789\\\\\n",
       "\t3975 & High-income countries         & NA & 2020 & 53872.859\\\\\n",
       "\t5295 & Lower-middle-income countries & NA & 2020 &  6322.842\\\\\n",
       "\t6626 & North America                 & NA & 2020 & 52011.910\\\\\n",
       "\t6852 & Oceania                       & NA & 2020 & 42945.570\\\\\n",
       "\t8419 & South America                 & NA & 2020 & 15031.484\\\\\n",
       "\t9754 & Upper-middle-income countries & NA & 2020 & 25226.154\\\\\n",
       "\\end{tabular}\n"
      ],
      "text/markdown": [
       "\n",
       "A data.frame: 10 × 4\n",
       "\n",
       "| <!--/--> | Country &lt;chr&gt; | ISO &lt;chr&gt; | Year &lt;int&gt; | Consumption &lt;dbl&gt; |\n",
       "|---|---|---|---|---|\n",
       "| 96 | Africa                        | NA | 2020 |  3913.185 |\n",
       "| 489 | Asia                          | NA | 2020 | 18001.008 |\n",
       "| 2925 | Europe                        | NA | 2020 | 37985.273 |\n",
       "| 2982 | European Union (27)           | NA | 2020 | 35601.789 |\n",
       "| 3975 | High-income countries         | NA | 2020 | 53872.859 |\n",
       "| 5295 | Lower-middle-income countries | NA | 2020 |  6322.842 |\n",
       "| 6626 | North America                 | NA | 2020 | 52011.910 |\n",
       "| 6852 | Oceania                       | NA | 2020 | 42945.570 |\n",
       "| 8419 | South America                 | NA | 2020 | 15031.484 |\n",
       "| 9754 | Upper-middle-income countries | NA | 2020 | 25226.154 |\n",
       "\n"
      ],
      "text/plain": [
       "     Country                       ISO Year Consumption\n",
       "96   Africa                        NA  2020  3913.185  \n",
       "489  Asia                          NA  2020 18001.008  \n",
       "2925 Europe                        NA  2020 37985.273  \n",
       "2982 European Union (27)           NA  2020 35601.789  \n",
       "3975 High-income countries         NA  2020 53872.859  \n",
       "5295 Lower-middle-income countries NA  2020  6322.842  \n",
       "6626 North America                 NA  2020 52011.910  \n",
       "6852 Oceania                       NA  2020 42945.570  \n",
       "8419 South America                 NA  2020 15031.484  \n",
       "9754 Upper-middle-income countries NA  2020 25226.154  "
      ]
     },
     "metadata": {},
     "output_type": "display_data"
    }
   ],
   "source": [
    "energy_consumption_per_person_2020[is.na(energy_consumption_per_person_2020$ISO), ]"
   ]
  },
  {
   "cell_type": "code",
   "execution_count": 23,
   "id": "07215528",
   "metadata": {},
   "outputs": [],
   "source": [
    "ecpp_2020_countries  <- energy_consumption_per_person_2020[!is.na(energy_consumption_per_person_2020$ISO), ]"
   ]
  },
  {
   "cell_type": "code",
   "execution_count": 27,
   "id": "3923c682",
   "metadata": {},
   "outputs": [
    {
     "data": {
      "image/png": "[encoded data removed]",
      "text/plain": [
       "Plot with title “Primary energy Consumption per Capita 2020”"
      ]
     },
     "metadata": {
      "image/png": {
       "height": 420,
       "width": 420
      }
     },
     "output_type": "display_data"
    }
   ],
   "source": [
    "hist(ecpp_2020_countries$Consumption, xlab = \"Primary energy consumption in kilowatt-hours per person per year.\", main = \"Primary energy Consumption per Capita 2020\")"
   ]
  },
  {
   "cell_type": "markdown",
   "id": "e944322f",
   "metadata": {},
   "source": [
    "## Exercise 4: Open ended question\n",
    "\n",
    "In this exercise I gave you the information that the dataframe contained country level data as well as data at the\n",
    "regional level. If I had not given you this information, how could you have learned this fact yourself using R?"
   ]
  },
  {
   "cell_type": "code",
   "execution_count": null,
   "id": "af69212b",
   "metadata": {},
   "outputs": [],
   "source": []
  }
 ],
 "metadata": {
  "kernelspec": {
   "display_name": "R",
   "language": "R",
   "name": "ir"
  },
  "language_info": {
   "codemirror_mode": "r",
   "file_extension": ".r",
   "mimetype": "text/x-r-source",
   "name": "R",
   "pygments_lexer": "r",
   "version": "4.2.1"
  }
 },
 "nbformat": 4,
 "nbformat_minor": 5
}
