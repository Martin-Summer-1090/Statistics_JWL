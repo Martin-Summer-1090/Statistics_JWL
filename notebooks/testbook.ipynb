{
 "cells": [
  {
   "cell_type": "code",
   "execution_count": 1,
   "id": "7dbd0d6a",
   "metadata": {},
   "outputs": [],
   "source": [
    "mr_1860 <- c(0.237, 0.139, 0.136, 0.150, 0.260, 0.102, 0.174, 0.124)"
   ]
  },
  {
   "cell_type": "code",
   "execution_count": 2,
   "id": "ed5c34a7",
   "metadata": {},
   "outputs": [
    {
     "data": {
      "text/html": [
       "<style>\n",
       ".list-inline {list-style: none; margin:0; padding: 0}\n",
       ".list-inline>li {display: inline-block}\n",
       ".list-inline>li:not(:last-child)::after {content: \"\\00b7\"; padding: 0 .5ex}\n",
       "</style>\n",
       "<ol class=list-inline><li>0.237</li><li>0.139</li><li>0.136</li><li>0.15</li><li>0.26</li><li>0.102</li><li>0.174</li><li>0.124</li></ol>\n"
      ],
      "text/latex": [
       "\\begin{enumerate*}\n",
       "\\item 0.237\n",
       "\\item 0.139\n",
       "\\item 0.136\n",
       "\\item 0.15\n",
       "\\item 0.26\n",
       "\\item 0.102\n",
       "\\item 0.174\n",
       "\\item 0.124\n",
       "\\end{enumerate*}\n"
      ],
      "text/markdown": [
       "1. 0.237\n",
       "2. 0.139\n",
       "3. 0.136\n",
       "4. 0.15\n",
       "5. 0.26\n",
       "6. 0.102\n",
       "7. 0.174\n",
       "8. 0.124\n",
       "\n",
       "\n"
      ],
      "text/plain": [
       "[1] 0.237 0.139 0.136 0.150 0.260 0.102 0.174 0.124"
      ]
     },
     "metadata": {},
     "output_type": "display_data"
    }
   ],
   "source": [
    "mr_1860"
   ]
  },
  {
   "cell_type": "markdown",
   "id": "4e576125",
   "metadata": {},
   "source": [
    "These are the percentages of\n",
    "infant mortality in 1860 in a group of European countries"
   ]
  },
  {
   "cell_type": "code",
   "execution_count": null,
   "id": "f44cff1a",
   "metadata": {},
   "outputs": [],
   "source": []
  }
 ],
 "metadata": {
  "kernelspec": {
   "display_name": "R",
   "language": "R",
   "name": "ir"
  },
  "language_info": {
   "codemirror_mode": "r",
   "file_extension": ".r",
   "mimetype": "text/x-r-source",
   "name": "R",
   "pygments_lexer": "r",
   "version": "4.3.2"
  }
 },
 "nbformat": 4,
 "nbformat_minor": 5
}
