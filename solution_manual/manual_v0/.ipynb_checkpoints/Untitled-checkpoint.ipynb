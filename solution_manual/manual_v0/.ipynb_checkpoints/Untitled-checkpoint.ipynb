{
 "cells": [
  {
   "cell_type": "markdown",
   "id": "4a0062a2",
   "metadata": {},
   "source": [
    "Dear Fatima,\n",
    "\n",
    "When you load data and select certain subsets, you need to know the material of unit 2 where this is disucssed in detail and of course the various computer exercisises where this was practiced.\n",
    "\n",
    "Let me remind you of the necessary steps with the example of, say Kenya.\n",
    "\n",
    "First you need to load the library that stores the data:"
   ]
  },
  {
   "cell_type": "code",
   "execution_count": 1,
   "id": "c23e2774",
   "metadata": {},
   "outputs": [],
   "source": [
    "library(JWL)"
   ]
  },
  {
   "cell_type": "markdown",
   "id": "52017ada",
   "metadata": {},
   "source": [
    "Now the computer has loaded the package with all the data in the package inclding the one we need `population_statistics_by_age_and_sex`, so we can use it in the section. These data have a long name, which is descriptive. It is easier to work with them if we - for this session - store them in an onbject with a simpler name, we can use for our work. Let's call this object - say - `df`"
   ]
  },
  {
   "cell_type": "code",
   "execution_count": 2,
   "id": "ab484145",
   "metadata": {},
   "outputs": [],
   "source": [
    "df  <- population_statistics_by_age_and_sex"
   ]
  },
  {
   "cell_type": "markdown",
   "id": "522b117f",
   "metadata": {},
   "source": [
    "This is a large datafile, containing observations for many countries and many years, as you can see when you check the size of the data by `dim`:"
   ]
  },
  {
   "cell_type": "code",
   "execution_count": 3,
   "id": "eba83077",
   "metadata": {},
   "outputs": [
    {
     "data": {
      "text/html": [
       "<style>\n",
       ".list-inline {list-style: none; margin:0; padding: 0}\n",
       ".list-inline>li {display: inline-block}\n",
       ".list-inline>li:not(:last-child)::after {content: \"\\00b7\"; padding: 0 .5ex}\n",
       "</style>\n",
       "<ol class=list-inline><li>1369480</li><li>6</li></ol>\n"
      ],
      "text/latex": [
       "\\begin{enumerate*}\n",
       "\\item 1369480\n",
       "\\item 6\n",
       "\\end{enumerate*}\n"
      ],
      "text/markdown": [
       "1. 1369480\n",
       "2. 6\n",
       "\n",
       "\n"
      ],
      "text/plain": [
       "[1] 1369480       6"
      ]
     },
     "metadata": {},
     "output_type": "display_data"
    }
   ],
   "source": [
    "dim(df)"
   ]
  },
  {
   "cell_type": "markdown",
   "id": "c1103423",
   "metadata": {},
   "source": [
    "It has 1.269.480 rows and 6 columns. We can check how they look like when we use the `head` function, like this:"
   ]
  },
  {
   "cell_type": "code",
   "execution_count": 4,
   "id": "877b0f1e",
   "metadata": {},
   "outputs": [
    {
     "data": {
      "text/html": [
       "<table class=\"dataframe\">\n",
       "<caption>A tibble: 6 × 6</caption>\n",
       "<thead>\n",
       "\t<tr><th></th><th scope=col>Country</th><th scope=col>ISO2</th><th scope=col>Year</th><th scope=col>Sex</th><th scope=col>Age</th><th scope=col>POP</th></tr>\n",
       "\t<tr><th></th><th scope=col>&lt;fct&gt;</th><th scope=col>&lt;fct&gt;</th><th scope=col>&lt;dbl&gt;</th><th scope=col>&lt;fct&gt;</th><th scope=col>&lt;fct&gt;</th><th scope=col>&lt;dbl&gt;</th></tr>\n",
       "</thead>\n",
       "<tbody>\n",
       "\t<tr><th scope=row>1</th><td>Andorra</td><td>AD</td><td>1950</td><td>F</td><td>0-4  </td><td>NA</td></tr>\n",
       "\t<tr><th scope=row>2</th><td>Andorra</td><td>AD</td><td>1950</td><td>F</td><td>5-9  </td><td>NA</td></tr>\n",
       "\t<tr><th scope=row>3</th><td>Andorra</td><td>AD</td><td>1950</td><td>F</td><td>10-14</td><td>NA</td></tr>\n",
       "\t<tr><th scope=row>4</th><td>Andorra</td><td>AD</td><td>1950</td><td>F</td><td>15-19</td><td>NA</td></tr>\n",
       "\t<tr><th scope=row>5</th><td>Andorra</td><td>AD</td><td>1950</td><td>F</td><td>20-24</td><td>NA</td></tr>\n",
       "\t<tr><th scope=row>6</th><td>Andorra</td><td>AD</td><td>1950</td><td>F</td><td>25-29</td><td>NA</td></tr>\n",
       "</tbody>\n",
       "</table>\n"
      ],
      "text/latex": [
       "A tibble: 6 × 6\n",
       "\\begin{tabular}{r|llllll}\n",
       "  & Country & ISO2 & Year & Sex & Age & POP\\\\\n",
       "  & <fct> & <fct> & <dbl> & <fct> & <fct> & <dbl>\\\\\n",
       "\\hline\n",
       "\t1 & Andorra & AD & 1950 & F & 0-4   & NA\\\\\n",
       "\t2 & Andorra & AD & 1950 & F & 5-9   & NA\\\\\n",
       "\t3 & Andorra & AD & 1950 & F & 10-14 & NA\\\\\n",
       "\t4 & Andorra & AD & 1950 & F & 15-19 & NA\\\\\n",
       "\t5 & Andorra & AD & 1950 & F & 20-24 & NA\\\\\n",
       "\t6 & Andorra & AD & 1950 & F & 25-29 & NA\\\\\n",
       "\\end{tabular}\n"
      ],
      "text/markdown": [
       "\n",
       "A tibble: 6 × 6\n",
       "\n",
       "| <!--/--> | Country &lt;fct&gt; | ISO2 &lt;fct&gt; | Year &lt;dbl&gt; | Sex &lt;fct&gt; | Age &lt;fct&gt; | POP &lt;dbl&gt; |\n",
       "|---|---|---|---|---|---|---|\n",
       "| 1 | Andorra | AD | 1950 | F | 0-4   | NA |\n",
       "| 2 | Andorra | AD | 1950 | F | 5-9   | NA |\n",
       "| 3 | Andorra | AD | 1950 | F | 10-14 | NA |\n",
       "| 4 | Andorra | AD | 1950 | F | 15-19 | NA |\n",
       "| 5 | Andorra | AD | 1950 | F | 20-24 | NA |\n",
       "| 6 | Andorra | AD | 1950 | F | 25-29 | NA |\n",
       "\n"
      ],
      "text/plain": [
       "  Country ISO2 Year Sex Age   POP\n",
       "1 Andorra AD   1950 F   0-4   NA \n",
       "2 Andorra AD   1950 F   5-9   NA \n",
       "3 Andorra AD   1950 F   10-14 NA \n",
       "4 Andorra AD   1950 F   15-19 NA \n",
       "5 Andorra AD   1950 F   20-24 NA \n",
       "6 Andorra AD   1950 F   25-29 NA "
      ]
     },
     "metadata": {},
     "output_type": "display_data"
    }
   ],
   "source": [
    "head(df)"
   ]
  },
  {
   "cell_type": "markdown",
   "id": "0bc3e9dc",
   "metadata": {},
   "source": [
    "Here you see there are 4 variables, one for the country. This variable is of type factor, the ISO2 a country abbreviation, which is of type fatcor as well, the year (type double) the age in groups of 5 year (type factor) and the population (type double). In the few lines that are displayed here you see NA because there are no observations of Andorra for the different age groups for the year 1950."
   ]
  },
  {
   "cell_type": "markdown",
   "id": "25d0ebca",
   "metadata": {},
   "source": []
  }
 ],
 "metadata": {
  "kernelspec": {
   "display_name": "R",
   "language": "R",
   "name": "ir"
  },
  "language_info": {
   "codemirror_mode": "r",
   "file_extension": ".r",
   "mimetype": "text/x-r-source",
   "name": "R",
   "pygments_lexer": "r",
   "version": "4.3.2"
  }
 },
 "nbformat": 4,
 "nbformat_minor": 5
}
