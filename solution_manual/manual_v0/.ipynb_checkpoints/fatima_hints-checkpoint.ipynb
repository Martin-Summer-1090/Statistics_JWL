{
 "cells": [
  {
   "cell_type": "markdown",
   "id": "f68252d8",
   "metadata": {},
   "source": [
    "Dear Fatima,\n",
    "\n",
    "When you load data and select certain subsets, you need to know the material of unit 2 where this is disucssed in detail and of course the various computer exercisises where this was practiced.\n",
    "\n",
    "Let me remind you of the necessary steps with the example of, say Kenya.\n",
    "\n",
    "First you need to load the library that stores the data:"
   ]
  },
  {
   "cell_type": "code",
   "execution_count": 1,
   "id": "f3be8b50",
   "metadata": {},
   "outputs": [],
   "source": [
    "library(JWL)"
   ]
  },
  {
   "cell_type": "markdown",
   "id": "aff02c1d",
   "metadata": {},
   "source": [
    "Now the computer has loaded the package with all the data in the package inclding the one we need `population_statistics_by_age_and_sex`, so we can use it in the section. These data have a long name, which is descriptive. It is easier to work with them if we - for this session - store them in an onbject with a simpler name, we can use for our work. Let's call this object - say - `df`"
   ]
  },
  {
   "cell_type": "code",
   "execution_count": 2,
   "id": "784aefce",
   "metadata": {},
   "outputs": [],
   "source": [
    "df  <- population_statistics_by_age_and_sex"
   ]
  },
  {
   "cell_type": "markdown",
   "id": "1a786d82",
   "metadata": {},
   "source": [
    "This is a large datafile, containing observations for many countries and many years, as you can see when you check the size of the data by `dim`:"
   ]
  },
  {
   "cell_type": "code",
   "execution_count": 3,
   "id": "9471b48b",
   "metadata": {},
   "outputs": [
    {
     "data": {
      "text/html": [
       "<style>\n",
       ".list-inline {list-style: none; margin:0; padding: 0}\n",
       ".list-inline>li {display: inline-block}\n",
       ".list-inline>li:not(:last-child)::after {content: \"\\00b7\"; padding: 0 .5ex}\n",
       "</style>\n",
       "<ol class=list-inline><li>1369480</li><li>6</li></ol>\n"
      ],
      "text/latex": [
       "\\begin{enumerate*}\n",
       "\\item 1369480\n",
       "\\item 6\n",
       "\\end{enumerate*}\n"
      ],
      "text/markdown": [
       "1. 1369480\n",
       "2. 6\n",
       "\n",
       "\n"
      ],
      "text/plain": [
       "[1] 1369480       6"
      ]
     },
     "metadata": {},
     "output_type": "display_data"
    }
   ],
   "source": [
    "dim(df)"
   ]
  },
  {
   "cell_type": "markdown",
   "id": "282123a9",
   "metadata": {},
   "source": [
    "It has 1.269.480 rows and 6 columns. We can check how they look like when we use the `head` function, like this:"
   ]
  },
  {
   "cell_type": "code",
   "execution_count": 4,
   "id": "50d36a0e",
   "metadata": {},
   "outputs": [
    {
     "data": {
      "text/html": [
       "<table class=\"dataframe\">\n",
       "<caption>A tibble: 6 × 6</caption>\n",
       "<thead>\n",
       "\t<tr><th></th><th scope=col>Country</th><th scope=col>ISO2</th><th scope=col>Year</th><th scope=col>Sex</th><th scope=col>Age</th><th scope=col>POP</th></tr>\n",
       "\t<tr><th></th><th scope=col>&lt;fct&gt;</th><th scope=col>&lt;fct&gt;</th><th scope=col>&lt;dbl&gt;</th><th scope=col>&lt;fct&gt;</th><th scope=col>&lt;fct&gt;</th><th scope=col>&lt;dbl&gt;</th></tr>\n",
       "</thead>\n",
       "<tbody>\n",
       "\t<tr><th scope=row>1</th><td>Andorra</td><td>AD</td><td>1950</td><td>F</td><td>0-4  </td><td>NA</td></tr>\n",
       "\t<tr><th scope=row>2</th><td>Andorra</td><td>AD</td><td>1950</td><td>F</td><td>5-9  </td><td>NA</td></tr>\n",
       "\t<tr><th scope=row>3</th><td>Andorra</td><td>AD</td><td>1950</td><td>F</td><td>10-14</td><td>NA</td></tr>\n",
       "\t<tr><th scope=row>4</th><td>Andorra</td><td>AD</td><td>1950</td><td>F</td><td>15-19</td><td>NA</td></tr>\n",
       "\t<tr><th scope=row>5</th><td>Andorra</td><td>AD</td><td>1950</td><td>F</td><td>20-24</td><td>NA</td></tr>\n",
       "\t<tr><th scope=row>6</th><td>Andorra</td><td>AD</td><td>1950</td><td>F</td><td>25-29</td><td>NA</td></tr>\n",
       "</tbody>\n",
       "</table>\n"
      ],
      "text/latex": [
       "A tibble: 6 × 6\n",
       "\\begin{tabular}{r|llllll}\n",
       "  & Country & ISO2 & Year & Sex & Age & POP\\\\\n",
       "  & <fct> & <fct> & <dbl> & <fct> & <fct> & <dbl>\\\\\n",
       "\\hline\n",
       "\t1 & Andorra & AD & 1950 & F & 0-4   & NA\\\\\n",
       "\t2 & Andorra & AD & 1950 & F & 5-9   & NA\\\\\n",
       "\t3 & Andorra & AD & 1950 & F & 10-14 & NA\\\\\n",
       "\t4 & Andorra & AD & 1950 & F & 15-19 & NA\\\\\n",
       "\t5 & Andorra & AD & 1950 & F & 20-24 & NA\\\\\n",
       "\t6 & Andorra & AD & 1950 & F & 25-29 & NA\\\\\n",
       "\\end{tabular}\n"
      ],
      "text/markdown": [
       "\n",
       "A tibble: 6 × 6\n",
       "\n",
       "| <!--/--> | Country &lt;fct&gt; | ISO2 &lt;fct&gt; | Year &lt;dbl&gt; | Sex &lt;fct&gt; | Age &lt;fct&gt; | POP &lt;dbl&gt; |\n",
       "|---|---|---|---|---|---|---|\n",
       "| 1 | Andorra | AD | 1950 | F | 0-4   | NA |\n",
       "| 2 | Andorra | AD | 1950 | F | 5-9   | NA |\n",
       "| 3 | Andorra | AD | 1950 | F | 10-14 | NA |\n",
       "| 4 | Andorra | AD | 1950 | F | 15-19 | NA |\n",
       "| 5 | Andorra | AD | 1950 | F | 20-24 | NA |\n",
       "| 6 | Andorra | AD | 1950 | F | 25-29 | NA |\n",
       "\n"
      ],
      "text/plain": [
       "  Country ISO2 Year Sex Age   POP\n",
       "1 Andorra AD   1950 F   0-4   NA \n",
       "2 Andorra AD   1950 F   5-9   NA \n",
       "3 Andorra AD   1950 F   10-14 NA \n",
       "4 Andorra AD   1950 F   15-19 NA \n",
       "5 Andorra AD   1950 F   20-24 NA \n",
       "6 Andorra AD   1950 F   25-29 NA "
      ]
     },
     "metadata": {},
     "output_type": "display_data"
    }
   ],
   "source": [
    "head(df)"
   ]
  },
  {
   "cell_type": "markdown",
   "id": "20678aee",
   "metadata": {},
   "source": [
    "Here you see there are 4 variables, one for the country. This variable is of type factor, the ISO2 a country abbreviation, which is of type fatcor as well, the year (type double) the age in groups of 5 year (type factor) and the population (type double). In the few lines that are displayed here you see NA because there are no observations of Andorra for the different age groups for the year 1950."
   ]
  },
  {
   "cell_type": "markdown",
   "id": "5d6bff40",
   "metadata": {},
   "source": [
    "Now suppose you want to extract the data for Kenya for the year 2022. Now you need the R subsetting rules, which you learned and studied in unit 2 of our course and then applyed many timed in various examples and exercises."
   ]
  },
  {
   "cell_type": "markdown",
   "id": "eea5c91b",
   "metadata": {},
   "source": [
    "The general rule is that you need the sytax `df[row adress, column adress]` and there are several tools how to specify these adresses. For instance, if you want to select the country Kenya, you need to tell R: Select the rows where the name of the country is Kenya and all columns. How would you do this. This is something you should know by this stage of the course. This would be:"
   ]
  },
  {
   "cell_type": "code",
   "execution_count": 5,
   "id": "fcb89ef8",
   "metadata": {},
   "outputs": [
    {
     "data": {
      "text/html": [
       "<table class=\"dataframe\">\n",
       "<caption>A tibble: 6 × 6</caption>\n",
       "<thead>\n",
       "\t<tr><th></th><th scope=col>Country</th><th scope=col>ISO2</th><th scope=col>Year</th><th scope=col>Sex</th><th scope=col>Age</th><th scope=col>POP</th></tr>\n",
       "\t<tr><th></th><th scope=col>&lt;fct&gt;</th><th scope=col>&lt;fct&gt;</th><th scope=col>&lt;dbl&gt;</th><th scope=col>&lt;fct&gt;</th><th scope=col>&lt;fct&gt;</th><th scope=col>&lt;dbl&gt;</th></tr>\n",
       "</thead>\n",
       "<tbody>\n",
       "\t<tr><th scope=row>610041</th><td>Kenya</td><td>KE</td><td>1950</td><td>F</td><td>0-4  </td><td>NA</td></tr>\n",
       "\t<tr><th scope=row>610042</th><td>Kenya</td><td>KE</td><td>1950</td><td>F</td><td>5-9  </td><td>NA</td></tr>\n",
       "\t<tr><th scope=row>610043</th><td>Kenya</td><td>KE</td><td>1950</td><td>F</td><td>10-14</td><td>NA</td></tr>\n",
       "\t<tr><th scope=row>610044</th><td>Kenya</td><td>KE</td><td>1950</td><td>F</td><td>15-19</td><td>NA</td></tr>\n",
       "\t<tr><th scope=row>610045</th><td>Kenya</td><td>KE</td><td>1950</td><td>F</td><td>20-24</td><td>NA</td></tr>\n",
       "\t<tr><th scope=row>610046</th><td>Kenya</td><td>KE</td><td>1950</td><td>F</td><td>25-29</td><td>NA</td></tr>\n",
       "</tbody>\n",
       "</table>\n"
      ],
      "text/latex": [
       "A tibble: 6 × 6\n",
       "\\begin{tabular}{r|llllll}\n",
       "  & Country & ISO2 & Year & Sex & Age & POP\\\\\n",
       "  & <fct> & <fct> & <dbl> & <fct> & <fct> & <dbl>\\\\\n",
       "\\hline\n",
       "\t610041 & Kenya & KE & 1950 & F & 0-4   & NA\\\\\n",
       "\t610042 & Kenya & KE & 1950 & F & 5-9   & NA\\\\\n",
       "\t610043 & Kenya & KE & 1950 & F & 10-14 & NA\\\\\n",
       "\t610044 & Kenya & KE & 1950 & F & 15-19 & NA\\\\\n",
       "\t610045 & Kenya & KE & 1950 & F & 20-24 & NA\\\\\n",
       "\t610046 & Kenya & KE & 1950 & F & 25-29 & NA\\\\\n",
       "\\end{tabular}\n"
      ],
      "text/markdown": [
       "\n",
       "A tibble: 6 × 6\n",
       "\n",
       "| <!--/--> | Country &lt;fct&gt; | ISO2 &lt;fct&gt; | Year &lt;dbl&gt; | Sex &lt;fct&gt; | Age &lt;fct&gt; | POP &lt;dbl&gt; |\n",
       "|---|---|---|---|---|---|---|\n",
       "| 610041 | Kenya | KE | 1950 | F | 0-4   | NA |\n",
       "| 610042 | Kenya | KE | 1950 | F | 5-9   | NA |\n",
       "| 610043 | Kenya | KE | 1950 | F | 10-14 | NA |\n",
       "| 610044 | Kenya | KE | 1950 | F | 15-19 | NA |\n",
       "| 610045 | Kenya | KE | 1950 | F | 20-24 | NA |\n",
       "| 610046 | Kenya | KE | 1950 | F | 25-29 | NA |\n",
       "\n"
      ],
      "text/plain": [
       "       Country ISO2 Year Sex Age   POP\n",
       "610041 Kenya   KE   1950 F   0-4   NA \n",
       "610042 Kenya   KE   1950 F   5-9   NA \n",
       "610043 Kenya   KE   1950 F   10-14 NA \n",
       "610044 Kenya   KE   1950 F   15-19 NA \n",
       "610045 Kenya   KE   1950 F   20-24 NA \n",
       "610046 Kenya   KE   1950 F   25-29 NA "
      ]
     },
     "metadata": {},
     "output_type": "display_data"
    }
   ],
   "source": [
    "head(df[df$Country == \"Kenya\", ])"
   ]
  },
  {
   "cell_type": "markdown",
   "id": "d93656f0",
   "metadata": {},
   "source": [
    "Again I wrapped this into the `head()` function to show only the first few lines.\n",
    "\n",
    "Now you want to have the data for Kenya but not all of them but for the year 2022. Then you need something like:"
   ]
  },
  {
   "cell_type": "code",
   "execution_count": 6,
   "id": "421638eb",
   "metadata": {},
   "outputs": [
    {
     "data": {
      "text/html": [
       "<table class=\"dataframe\">\n",
       "<caption>A tibble: 40 × 6</caption>\n",
       "<thead>\n",
       "\t<tr><th></th><th scope=col>Country</th><th scope=col>ISO2</th><th scope=col>Year</th><th scope=col>Sex</th><th scope=col>Age</th><th scope=col>POP</th></tr>\n",
       "\t<tr><th></th><th scope=col>&lt;fct&gt;</th><th scope=col>&lt;fct&gt;</th><th scope=col>&lt;dbl&gt;</th><th scope=col>&lt;fct&gt;</th><th scope=col>&lt;fct&gt;</th><th scope=col>&lt;dbl&gt;</th></tr>\n",
       "</thead>\n",
       "<tbody>\n",
       "\t<tr><th scope=row>612921</th><td>Kenya</td><td>KE</td><td>2022</td><td>F</td><td>0-4  </td><td>3487490</td></tr>\n",
       "\t<tr><th scope=row>612922</th><td>Kenya</td><td>KE</td><td>2022</td><td>F</td><td>5-9  </td><td>3404421</td></tr>\n",
       "\t<tr><th scope=row>612923</th><td>Kenya</td><td>KE</td><td>2022</td><td>F</td><td>10-14</td><td>3444606</td></tr>\n",
       "\t<tr><th scope=row>612924</th><td>Kenya</td><td>KE</td><td>2022</td><td>F</td><td>15-19</td><td>3225971</td></tr>\n",
       "\t<tr><th scope=row>612925</th><td>Kenya</td><td>KE</td><td>2022</td><td>F</td><td>20-24</td><td>2656730</td></tr>\n",
       "\t<tr><th scope=row>612926</th><td>Kenya</td><td>KE</td><td>2022</td><td>F</td><td>25-29</td><td>2139208</td></tr>\n",
       "\t<tr><th scope=row>612927</th><td>Kenya</td><td>KE</td><td>2022</td><td>F</td><td>30-34</td><td>1946994</td></tr>\n",
       "\t<tr><th scope=row>612928</th><td>Kenya</td><td>KE</td><td>2022</td><td>F</td><td>35-39</td><td>1849778</td></tr>\n",
       "\t<tr><th scope=row>612929</th><td>Kenya</td><td>KE</td><td>2022</td><td>F</td><td>40-44</td><td>1606763</td></tr>\n",
       "\t<tr><th scope=row>612930</th><td>Kenya</td><td>KE</td><td>2022</td><td>F</td><td>45-49</td><td>1170869</td></tr>\n",
       "\t<tr><th scope=row>612931</th><td>Kenya</td><td>KE</td><td>2022</td><td>F</td><td>50-54</td><td> 858998</td></tr>\n",
       "\t<tr><th scope=row>612932</th><td>Kenya</td><td>KE</td><td>2022</td><td>F</td><td>55-59</td><td> 672025</td></tr>\n",
       "\t<tr><th scope=row>612933</th><td>Kenya</td><td>KE</td><td>2022</td><td>F</td><td>60-64</td><td> 516769</td></tr>\n",
       "\t<tr><th scope=row>612934</th><td>Kenya</td><td>KE</td><td>2022</td><td>F</td><td>65-69</td><td> 387773</td></tr>\n",
       "\t<tr><th scope=row>612935</th><td>Kenya</td><td>KE</td><td>2022</td><td>F</td><td>70-74</td><td> 272320</td></tr>\n",
       "\t<tr><th scope=row>612936</th><td>Kenya</td><td>KE</td><td>2022</td><td>F</td><td>75-79</td><td> 168499</td></tr>\n",
       "\t<tr><th scope=row>612937</th><td>Kenya</td><td>KE</td><td>2022</td><td>F</td><td>80-84</td><td>  93724</td></tr>\n",
       "\t<tr><th scope=row>612938</th><td>Kenya</td><td>KE</td><td>2022</td><td>F</td><td>85-89</td><td>  39226</td></tr>\n",
       "\t<tr><th scope=row>612939</th><td>Kenya</td><td>KE</td><td>2022</td><td>F</td><td>90-94</td><td>  10461</td></tr>\n",
       "\t<tr><th scope=row>612940</th><td>Kenya</td><td>KE</td><td>2022</td><td>F</td><td>95-99</td><td>   1520</td></tr>\n",
       "\t<tr><th scope=row>612941</th><td>Kenya</td><td>KE</td><td>2022</td><td>M</td><td>0-4  </td><td>3531278</td></tr>\n",
       "\t<tr><th scope=row>612942</th><td>Kenya</td><td>KE</td><td>2022</td><td>M</td><td>5-9  </td><td>3431166</td></tr>\n",
       "\t<tr><th scope=row>612943</th><td>Kenya</td><td>KE</td><td>2022</td><td>M</td><td>10-14</td><td>3473103</td></tr>\n",
       "\t<tr><th scope=row>612944</th><td>Kenya</td><td>KE</td><td>2022</td><td>M</td><td>15-19</td><td>3249738</td></tr>\n",
       "\t<tr><th scope=row>612945</th><td>Kenya</td><td>KE</td><td>2022</td><td>M</td><td>20-24</td><td>2664966</td></tr>\n",
       "\t<tr><th scope=row>612946</th><td>Kenya</td><td>KE</td><td>2022</td><td>M</td><td>25-29</td><td>2119949</td></tr>\n",
       "\t<tr><th scope=row>612947</th><td>Kenya</td><td>KE</td><td>2022</td><td>M</td><td>30-34</td><td>1926219</td></tr>\n",
       "\t<tr><th scope=row>612948</th><td>Kenya</td><td>KE</td><td>2022</td><td>M</td><td>35-39</td><td>1830280</td></tr>\n",
       "\t<tr><th scope=row>612949</th><td>Kenya</td><td>KE</td><td>2022</td><td>M</td><td>40-44</td><td>1610246</td></tr>\n",
       "\t<tr><th scope=row>612950</th><td>Kenya</td><td>KE</td><td>2022</td><td>M</td><td>45-49</td><td>1196519</td></tr>\n",
       "\t<tr><th scope=row>612951</th><td>Kenya</td><td>KE</td><td>2022</td><td>M</td><td>50-54</td><td> 890662</td></tr>\n",
       "\t<tr><th scope=row>612952</th><td>Kenya</td><td>KE</td><td>2022</td><td>M</td><td>55-59</td><td> 679943</td></tr>\n",
       "\t<tr><th scope=row>612953</th><td>Kenya</td><td>KE</td><td>2022</td><td>M</td><td>60-64</td><td> 488074</td></tr>\n",
       "\t<tr><th scope=row>612954</th><td>Kenya</td><td>KE</td><td>2022</td><td>M</td><td>65-69</td><td> 340546</td></tr>\n",
       "\t<tr><th scope=row>612955</th><td>Kenya</td><td>KE</td><td>2022</td><td>M</td><td>70-74</td><td> 229912</td></tr>\n",
       "\t<tr><th scope=row>612956</th><td>Kenya</td><td>KE</td><td>2022</td><td>M</td><td>75-79</td><td> 138357</td></tr>\n",
       "\t<tr><th scope=row>612957</th><td>Kenya</td><td>KE</td><td>2022</td><td>M</td><td>80-84</td><td>  73093</td></tr>\n",
       "\t<tr><th scope=row>612958</th><td>Kenya</td><td>KE</td><td>2022</td><td>M</td><td>85-89</td><td>  28473</td></tr>\n",
       "\t<tr><th scope=row>612959</th><td>Kenya</td><td>KE</td><td>2022</td><td>M</td><td>90-94</td><td>   6918</td></tr>\n",
       "\t<tr><th scope=row>612960</th><td>Kenya</td><td>KE</td><td>2022</td><td>M</td><td>95-99</td><td>    902</td></tr>\n",
       "</tbody>\n",
       "</table>\n"
      ],
      "text/latex": [
       "A tibble: 40 × 6\n",
       "\\begin{tabular}{r|llllll}\n",
       "  & Country & ISO2 & Year & Sex & Age & POP\\\\\n",
       "  & <fct> & <fct> & <dbl> & <fct> & <fct> & <dbl>\\\\\n",
       "\\hline\n",
       "\t612921 & Kenya & KE & 2022 & F & 0-4   & 3487490\\\\\n",
       "\t612922 & Kenya & KE & 2022 & F & 5-9   & 3404421\\\\\n",
       "\t612923 & Kenya & KE & 2022 & F & 10-14 & 3444606\\\\\n",
       "\t612924 & Kenya & KE & 2022 & F & 15-19 & 3225971\\\\\n",
       "\t612925 & Kenya & KE & 2022 & F & 20-24 & 2656730\\\\\n",
       "\t612926 & Kenya & KE & 2022 & F & 25-29 & 2139208\\\\\n",
       "\t612927 & Kenya & KE & 2022 & F & 30-34 & 1946994\\\\\n",
       "\t612928 & Kenya & KE & 2022 & F & 35-39 & 1849778\\\\\n",
       "\t612929 & Kenya & KE & 2022 & F & 40-44 & 1606763\\\\\n",
       "\t612930 & Kenya & KE & 2022 & F & 45-49 & 1170869\\\\\n",
       "\t612931 & Kenya & KE & 2022 & F & 50-54 &  858998\\\\\n",
       "\t612932 & Kenya & KE & 2022 & F & 55-59 &  672025\\\\\n",
       "\t612933 & Kenya & KE & 2022 & F & 60-64 &  516769\\\\\n",
       "\t612934 & Kenya & KE & 2022 & F & 65-69 &  387773\\\\\n",
       "\t612935 & Kenya & KE & 2022 & F & 70-74 &  272320\\\\\n",
       "\t612936 & Kenya & KE & 2022 & F & 75-79 &  168499\\\\\n",
       "\t612937 & Kenya & KE & 2022 & F & 80-84 &   93724\\\\\n",
       "\t612938 & Kenya & KE & 2022 & F & 85-89 &   39226\\\\\n",
       "\t612939 & Kenya & KE & 2022 & F & 90-94 &   10461\\\\\n",
       "\t612940 & Kenya & KE & 2022 & F & 95-99 &    1520\\\\\n",
       "\t612941 & Kenya & KE & 2022 & M & 0-4   & 3531278\\\\\n",
       "\t612942 & Kenya & KE & 2022 & M & 5-9   & 3431166\\\\\n",
       "\t612943 & Kenya & KE & 2022 & M & 10-14 & 3473103\\\\\n",
       "\t612944 & Kenya & KE & 2022 & M & 15-19 & 3249738\\\\\n",
       "\t612945 & Kenya & KE & 2022 & M & 20-24 & 2664966\\\\\n",
       "\t612946 & Kenya & KE & 2022 & M & 25-29 & 2119949\\\\\n",
       "\t612947 & Kenya & KE & 2022 & M & 30-34 & 1926219\\\\\n",
       "\t612948 & Kenya & KE & 2022 & M & 35-39 & 1830280\\\\\n",
       "\t612949 & Kenya & KE & 2022 & M & 40-44 & 1610246\\\\\n",
       "\t612950 & Kenya & KE & 2022 & M & 45-49 & 1196519\\\\\n",
       "\t612951 & Kenya & KE & 2022 & M & 50-54 &  890662\\\\\n",
       "\t612952 & Kenya & KE & 2022 & M & 55-59 &  679943\\\\\n",
       "\t612953 & Kenya & KE & 2022 & M & 60-64 &  488074\\\\\n",
       "\t612954 & Kenya & KE & 2022 & M & 65-69 &  340546\\\\\n",
       "\t612955 & Kenya & KE & 2022 & M & 70-74 &  229912\\\\\n",
       "\t612956 & Kenya & KE & 2022 & M & 75-79 &  138357\\\\\n",
       "\t612957 & Kenya & KE & 2022 & M & 80-84 &   73093\\\\\n",
       "\t612958 & Kenya & KE & 2022 & M & 85-89 &   28473\\\\\n",
       "\t612959 & Kenya & KE & 2022 & M & 90-94 &    6918\\\\\n",
       "\t612960 & Kenya & KE & 2022 & M & 95-99 &     902\\\\\n",
       "\\end{tabular}\n"
      ],
      "text/markdown": [
       "\n",
       "A tibble: 40 × 6\n",
       "\n",
       "| <!--/--> | Country &lt;fct&gt; | ISO2 &lt;fct&gt; | Year &lt;dbl&gt; | Sex &lt;fct&gt; | Age &lt;fct&gt; | POP &lt;dbl&gt; |\n",
       "|---|---|---|---|---|---|---|\n",
       "| 612921 | Kenya | KE | 2022 | F | 0-4   | 3487490 |\n",
       "| 612922 | Kenya | KE | 2022 | F | 5-9   | 3404421 |\n",
       "| 612923 | Kenya | KE | 2022 | F | 10-14 | 3444606 |\n",
       "| 612924 | Kenya | KE | 2022 | F | 15-19 | 3225971 |\n",
       "| 612925 | Kenya | KE | 2022 | F | 20-24 | 2656730 |\n",
       "| 612926 | Kenya | KE | 2022 | F | 25-29 | 2139208 |\n",
       "| 612927 | Kenya | KE | 2022 | F | 30-34 | 1946994 |\n",
       "| 612928 | Kenya | KE | 2022 | F | 35-39 | 1849778 |\n",
       "| 612929 | Kenya | KE | 2022 | F | 40-44 | 1606763 |\n",
       "| 612930 | Kenya | KE | 2022 | F | 45-49 | 1170869 |\n",
       "| 612931 | Kenya | KE | 2022 | F | 50-54 |  858998 |\n",
       "| 612932 | Kenya | KE | 2022 | F | 55-59 |  672025 |\n",
       "| 612933 | Kenya | KE | 2022 | F | 60-64 |  516769 |\n",
       "| 612934 | Kenya | KE | 2022 | F | 65-69 |  387773 |\n",
       "| 612935 | Kenya | KE | 2022 | F | 70-74 |  272320 |\n",
       "| 612936 | Kenya | KE | 2022 | F | 75-79 |  168499 |\n",
       "| 612937 | Kenya | KE | 2022 | F | 80-84 |   93724 |\n",
       "| 612938 | Kenya | KE | 2022 | F | 85-89 |   39226 |\n",
       "| 612939 | Kenya | KE | 2022 | F | 90-94 |   10461 |\n",
       "| 612940 | Kenya | KE | 2022 | F | 95-99 |    1520 |\n",
       "| 612941 | Kenya | KE | 2022 | M | 0-4   | 3531278 |\n",
       "| 612942 | Kenya | KE | 2022 | M | 5-9   | 3431166 |\n",
       "| 612943 | Kenya | KE | 2022 | M | 10-14 | 3473103 |\n",
       "| 612944 | Kenya | KE | 2022 | M | 15-19 | 3249738 |\n",
       "| 612945 | Kenya | KE | 2022 | M | 20-24 | 2664966 |\n",
       "| 612946 | Kenya | KE | 2022 | M | 25-29 | 2119949 |\n",
       "| 612947 | Kenya | KE | 2022 | M | 30-34 | 1926219 |\n",
       "| 612948 | Kenya | KE | 2022 | M | 35-39 | 1830280 |\n",
       "| 612949 | Kenya | KE | 2022 | M | 40-44 | 1610246 |\n",
       "| 612950 | Kenya | KE | 2022 | M | 45-49 | 1196519 |\n",
       "| 612951 | Kenya | KE | 2022 | M | 50-54 |  890662 |\n",
       "| 612952 | Kenya | KE | 2022 | M | 55-59 |  679943 |\n",
       "| 612953 | Kenya | KE | 2022 | M | 60-64 |  488074 |\n",
       "| 612954 | Kenya | KE | 2022 | M | 65-69 |  340546 |\n",
       "| 612955 | Kenya | KE | 2022 | M | 70-74 |  229912 |\n",
       "| 612956 | Kenya | KE | 2022 | M | 75-79 |  138357 |\n",
       "| 612957 | Kenya | KE | 2022 | M | 80-84 |   73093 |\n",
       "| 612958 | Kenya | KE | 2022 | M | 85-89 |   28473 |\n",
       "| 612959 | Kenya | KE | 2022 | M | 90-94 |    6918 |\n",
       "| 612960 | Kenya | KE | 2022 | M | 95-99 |     902 |\n",
       "\n"
      ],
      "text/plain": [
       "       Country ISO2 Year Sex Age   POP    \n",
       "612921 Kenya   KE   2022 F   0-4   3487490\n",
       "612922 Kenya   KE   2022 F   5-9   3404421\n",
       "612923 Kenya   KE   2022 F   10-14 3444606\n",
       "612924 Kenya   KE   2022 F   15-19 3225971\n",
       "612925 Kenya   KE   2022 F   20-24 2656730\n",
       "612926 Kenya   KE   2022 F   25-29 2139208\n",
       "612927 Kenya   KE   2022 F   30-34 1946994\n",
       "612928 Kenya   KE   2022 F   35-39 1849778\n",
       "612929 Kenya   KE   2022 F   40-44 1606763\n",
       "612930 Kenya   KE   2022 F   45-49 1170869\n",
       "612931 Kenya   KE   2022 F   50-54  858998\n",
       "612932 Kenya   KE   2022 F   55-59  672025\n",
       "612933 Kenya   KE   2022 F   60-64  516769\n",
       "612934 Kenya   KE   2022 F   65-69  387773\n",
       "612935 Kenya   KE   2022 F   70-74  272320\n",
       "612936 Kenya   KE   2022 F   75-79  168499\n",
       "612937 Kenya   KE   2022 F   80-84   93724\n",
       "612938 Kenya   KE   2022 F   85-89   39226\n",
       "612939 Kenya   KE   2022 F   90-94   10461\n",
       "612940 Kenya   KE   2022 F   95-99    1520\n",
       "612941 Kenya   KE   2022 M   0-4   3531278\n",
       "612942 Kenya   KE   2022 M   5-9   3431166\n",
       "612943 Kenya   KE   2022 M   10-14 3473103\n",
       "612944 Kenya   KE   2022 M   15-19 3249738\n",
       "612945 Kenya   KE   2022 M   20-24 2664966\n",
       "612946 Kenya   KE   2022 M   25-29 2119949\n",
       "612947 Kenya   KE   2022 M   30-34 1926219\n",
       "612948 Kenya   KE   2022 M   35-39 1830280\n",
       "612949 Kenya   KE   2022 M   40-44 1610246\n",
       "612950 Kenya   KE   2022 M   45-49 1196519\n",
       "612951 Kenya   KE   2022 M   50-54  890662\n",
       "612952 Kenya   KE   2022 M   55-59  679943\n",
       "612953 Kenya   KE   2022 M   60-64  488074\n",
       "612954 Kenya   KE   2022 M   65-69  340546\n",
       "612955 Kenya   KE   2022 M   70-74  229912\n",
       "612956 Kenya   KE   2022 M   75-79  138357\n",
       "612957 Kenya   KE   2022 M   80-84   73093\n",
       "612958 Kenya   KE   2022 M   85-89   28473\n",
       "612959 Kenya   KE   2022 M   90-94    6918\n",
       "612960 Kenya   KE   2022 M   95-99     902"
      ]
     },
     "metadata": {},
     "output_type": "display_data"
    }
   ],
   "source": [
    "df[df$Year == 2022 & df$Country == \"Kenya\", ]"
   ]
  },
  {
   "cell_type": "markdown",
   "id": "9facf4a3",
   "metadata": {},
   "source": [
    "If you want to do computations on this subset of data, it is conventient to story them in a new object. Let's call this object `ke_2022`, so you would have:"
   ]
  },
  {
   "cell_type": "code",
   "execution_count": 7,
   "id": "5584692e",
   "metadata": {},
   "outputs": [],
   "source": [
    "ke_2022  <- df[df$Year == 2022 & df$Country == \"Kenya\", ]"
   ]
  },
  {
   "cell_type": "markdown",
   "id": "5bec1832",
   "metadata": {},
   "source": [
    "You can ceck:"
   ]
  },
  {
   "cell_type": "code",
   "execution_count": 8,
   "id": "e96f027f",
   "metadata": {},
   "outputs": [
    {
     "data": {
      "text/html": [
       "<table class=\"dataframe\">\n",
       "<caption>A tibble: 6 × 6</caption>\n",
       "<thead>\n",
       "\t<tr><th></th><th scope=col>Country</th><th scope=col>ISO2</th><th scope=col>Year</th><th scope=col>Sex</th><th scope=col>Age</th><th scope=col>POP</th></tr>\n",
       "\t<tr><th></th><th scope=col>&lt;fct&gt;</th><th scope=col>&lt;fct&gt;</th><th scope=col>&lt;dbl&gt;</th><th scope=col>&lt;fct&gt;</th><th scope=col>&lt;fct&gt;</th><th scope=col>&lt;dbl&gt;</th></tr>\n",
       "</thead>\n",
       "<tbody>\n",
       "\t<tr><th scope=row>612921</th><td>Kenya</td><td>KE</td><td>2022</td><td>F</td><td>0-4  </td><td>3487490</td></tr>\n",
       "\t<tr><th scope=row>612922</th><td>Kenya</td><td>KE</td><td>2022</td><td>F</td><td>5-9  </td><td>3404421</td></tr>\n",
       "\t<tr><th scope=row>612923</th><td>Kenya</td><td>KE</td><td>2022</td><td>F</td><td>10-14</td><td>3444606</td></tr>\n",
       "\t<tr><th scope=row>612924</th><td>Kenya</td><td>KE</td><td>2022</td><td>F</td><td>15-19</td><td>3225971</td></tr>\n",
       "\t<tr><th scope=row>612925</th><td>Kenya</td><td>KE</td><td>2022</td><td>F</td><td>20-24</td><td>2656730</td></tr>\n",
       "\t<tr><th scope=row>612926</th><td>Kenya</td><td>KE</td><td>2022</td><td>F</td><td>25-29</td><td>2139208</td></tr>\n",
       "</tbody>\n",
       "</table>\n"
      ],
      "text/latex": [
       "A tibble: 6 × 6\n",
       "\\begin{tabular}{r|llllll}\n",
       "  & Country & ISO2 & Year & Sex & Age & POP\\\\\n",
       "  & <fct> & <fct> & <dbl> & <fct> & <fct> & <dbl>\\\\\n",
       "\\hline\n",
       "\t612921 & Kenya & KE & 2022 & F & 0-4   & 3487490\\\\\n",
       "\t612922 & Kenya & KE & 2022 & F & 5-9   & 3404421\\\\\n",
       "\t612923 & Kenya & KE & 2022 & F & 10-14 & 3444606\\\\\n",
       "\t612924 & Kenya & KE & 2022 & F & 15-19 & 3225971\\\\\n",
       "\t612925 & Kenya & KE & 2022 & F & 20-24 & 2656730\\\\\n",
       "\t612926 & Kenya & KE & 2022 & F & 25-29 & 2139208\\\\\n",
       "\\end{tabular}\n"
      ],
      "text/markdown": [
       "\n",
       "A tibble: 6 × 6\n",
       "\n",
       "| <!--/--> | Country &lt;fct&gt; | ISO2 &lt;fct&gt; | Year &lt;dbl&gt; | Sex &lt;fct&gt; | Age &lt;fct&gt; | POP &lt;dbl&gt; |\n",
       "|---|---|---|---|---|---|---|\n",
       "| 612921 | Kenya | KE | 2022 | F | 0-4   | 3487490 |\n",
       "| 612922 | Kenya | KE | 2022 | F | 5-9   | 3404421 |\n",
       "| 612923 | Kenya | KE | 2022 | F | 10-14 | 3444606 |\n",
       "| 612924 | Kenya | KE | 2022 | F | 15-19 | 3225971 |\n",
       "| 612925 | Kenya | KE | 2022 | F | 20-24 | 2656730 |\n",
       "| 612926 | Kenya | KE | 2022 | F | 25-29 | 2139208 |\n",
       "\n"
      ],
      "text/plain": [
       "       Country ISO2 Year Sex Age   POP    \n",
       "612921 Kenya   KE   2022 F   0-4   3487490\n",
       "612922 Kenya   KE   2022 F   5-9   3404421\n",
       "612923 Kenya   KE   2022 F   10-14 3444606\n",
       "612924 Kenya   KE   2022 F   15-19 3225971\n",
       "612925 Kenya   KE   2022 F   20-24 2656730\n",
       "612926 Kenya   KE   2022 F   25-29 2139208"
      ]
     },
     "metadata": {},
     "output_type": "display_data"
    }
   ],
   "source": [
    "head(ke_2022)"
   ]
  },
  {
   "cell_type": "markdown",
   "id": "12775844",
   "metadata": {},
   "source": [
    "Now you can do computations for this. Say you want to know the total population of Kenya in this year, you need to add the female (F) and male (M) poulation numbers. One way to do this we learned in the course is to use the `tapply()`function for example:"
   ]
  },
  {
   "cell_type": "code",
   "execution_count": 9,
   "id": "3514d0c4",
   "metadata": {},
   "outputs": [
    {
     "data": {
      "text/html": [
       "<style>\n",
       ".dl-inline {width: auto; margin:0; padding: 0}\n",
       ".dl-inline>dt, .dl-inline>dd {float: none; width: auto; display: inline-block}\n",
       ".dl-inline>dt::after {content: \":\\0020\"; padding-right: .5ex}\n",
       ".dl-inline>dt:not(:first-of-type) {padding-left: .5ex}\n",
       "</style><dl class=dl-inline><dt>F</dt><dd>27954145</dd><dt>M</dt><dd>27910344</dd></dl>\n"
      ],
      "text/latex": [
       "\\begin{description*}\n",
       "\\item[F] 27954145\n",
       "\\item[M] 27910344\n",
       "\\end{description*}\n"
      ],
      "text/markdown": [
       "F\n",
       ":   27954145M\n",
       ":   27910344\n",
       "\n"
      ],
      "text/plain": [
       "       F        M \n",
       "27954145 27910344 "
      ]
     },
     "metadata": {},
     "output_type": "display_data"
    }
   ],
   "source": [
    "tapply(ke_2022$POP, ke_2022$Sex, sum)"
   ]
  },
  {
   "cell_type": "code",
   "execution_count": null,
   "id": "9b1fc98d",
   "metadata": {},
   "outputs": [],
   "source": []
  }
 ],
 "metadata": {
  "kernelspec": {
   "display_name": "R",
   "language": "R",
   "name": "ir"
  },
  "language_info": {
   "codemirror_mode": "r",
   "file_extension": ".r",
   "mimetype": "text/x-r-source",
   "name": "R",
   "pygments_lexer": "r",
   "version": "4.3.2"
  }
 },
 "nbformat": 4,
 "nbformat_minor": 5
}
