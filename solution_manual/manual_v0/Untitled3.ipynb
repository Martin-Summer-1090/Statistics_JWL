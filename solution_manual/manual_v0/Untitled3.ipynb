{
 "cells": [
  {
   "cell_type": "markdown",
   "id": "e9c15e82",
   "metadata": {},
   "source": [
    "### Exercise 2: Computing the percentage decrease in infant mortality rates of 8 European countries between 1860 and 2020"
   ]
  },
  {
   "cell_type": "markdown",
   "id": "d3c5b7f9",
   "metadata": {},
   "source": [
    "Here are the numbers we discussed in the text in a table. I named the variables for the infant mortality rate in this exercise MR-1860 for  the infant mortality rate in 1860 and MR-2020 for the corresponding mortality rate in 2020.\n",
    "\n",
    "|Country |Continent | MR-1860| MR-2020|\n",
    "|:-------|:---------|-------:|-------:|\n",
    "|Austria |Europe    |   0.237|  0.0030|\n",
    "|Belgium |Europe    |   0.139|  0.0034|\n",
    "|Denmark |Europe    |   0.136|  0.0031|\n",
    "|France  |Europe    |   0.150|  0.0034|\n",
    "|Germany |Europe    |   0.260|  0.0031|\n",
    "|Norway  |Europe    |   0.102|  0.0018|\n",
    "|Spain   |Europe    |   0.174|  0.0027|\n",
    "|Sweden  |Europe    |   0.124|  0.0021|"
   ]
  },
  {
   "cell_type": "markdown",
   "id": "faefb87d",
   "metadata": {},
   "source": [
    "In case you wonder how I did this table in the Jupyter notebook, look at the cell input and study the code. For\n",
    "textcells in Jupyter you can use a markup language called Markdown. Mardown will allow you to format text by using certain markup symbols that the Jupyter notebook can interpret and process. Here is a link to a cheat sheet summarizing the most important markup instructions: https://www.markdownguide.org/cheat-sheet/\n",
    "\n",
    "I encourage you as facilitators to familiarize yourself with markup and teach it to the students you work with when working with the Jupyter Notebooks."
   ]
  },
  {
   "cell_type": "markdown",
   "id": "c1b599a8",
   "metadata": {},
   "source": [
    "The infant mortality rate in Austria was $0.237$ in 1860 and was $0.0030$ 160 years later in 2020. The percentage decrease over this period is computed as:\n",
    "\\begin{equation*}\n",
    "\\frac{0.237 - 0.003}{0.237}\n",
    "\\end{equation*}\n",
    "\n",
    "you can compute this by hand or by calculator or by R. Let me use R for the sake of the example"
   ]
  },
  {
   "cell_type": "code",
   "execution_count": 1,
   "id": "46dce051",
   "metadata": {},
   "outputs": [
    {
     "data": {
      "text/html": [
       "98.7341772151899"
      ],
      "text/latex": [
       "98.7341772151899"
      ],
      "text/markdown": [
       "98.7341772151899"
      ],
      "text/plain": [
       "[1] 98.73418"
      ]
     },
     "metadata": {},
     "output_type": "display_data"
    }
   ],
   "source": [
    "((0.237 - 0.003)/0.237)*100"
   ]
  },
  {
   "cell_type": "markdown",
   "id": "ca75455e",
   "metadata": {},
   "source": [
    "This is a reduction of roughly 99 % percent. One could also say that the mortality rate decreased by a factor of 78. If you express the change as a relative change in percent you see how enormous the reduction was over a period of 160 years. This is next to a miracle, after centuries of extremely high rates.\n",
    "\n",
    "In case you are uncertain how to compute percentage changes, let us discuss some examples: \n",
    "\n",
    "Example 1: Suppose you have worked in a Supermarket for a wage of 10 (in some monetary unit) and your pay is increased to 12. What is your pay increase in percent? The way to compute the percentage increase is:\n",
    "\\begin{equation*}\n",
    "\\frac{(12-10)}{10}\n",
    "\\end{equation*}\n",
    "\n",
    "which is $0.20$. Take this times 100 and you have the increase in percent, which is $20$ %.\n",
    "\n",
    "Example 2: The staff of a company decreased from 40 to 29. What was the percentage decrease in its labor force?\n",
    "\\begin{equation*}\n",
    "\\frac{(29 - 40)}{29}\n",
    "\\end{equation*}\n",
    "\n",
    "which is $0.275$. Take this by 100 and you have  $27.5$ %.\n",
    "\n",
    "Did you see the general pattern. When computing a percentage change, the formula you apply is\n",
    "\n",
    "\\begin{equation*}\n",
    "\\frac{(final - initial)}{initial} \\times 100\n",
    "\\end{equation*}\n",
    "\n",
    "This is the formula for a percentage change. When this change is positive, we say naturally that we have an increase, when it is negative we say we have a decrease and fold the minus sign into the workd decrease. So in the second example, we would say that the labor force of the company decreased by$27.5$ %.\n",
    "\n",
    "When the percentage change is 100 it means that something doubled, when it is 1000 it means that something has increased 10 fold, or as in the case of infant mortality in Austria between 1860 and 2020 has decreased 78 fold. "
   ]
  },
  {
   "cell_type": "markdown",
   "id": "b5ba8ee7",
   "metadata": {},
   "source": [
    "We can also do the computations with R based on what we have learned in the course so far. Let's first store the values in two objects, which we call 'mr_1860' and 'mr_2020'."
   ]
  },
  {
   "cell_type": "code",
   "execution_count": 2,
   "id": "acf99715",
   "metadata": {},
   "outputs": [],
   "source": [
    "mr_1860  <- c(0.237, 0.139, 0.136, 0.15, 0.26, 0.102, 0.174, 0.124)\n",
    "mr_2020  <- c(0.003, 0.0034, 0.0031, 0.0034, 0.0031, 0.0018, 0.0027, 0.0021)"
   ]
  },
  {
   "cell_type": "markdown",
   "id": "6ecdaec2",
   "metadata": {},
   "source": [
    "Now we use the fact that R can compute component wise and apply the formula for the percentage change and round to 2 digits:"
   ]
  },
  {
   "cell_type": "code",
   "execution_count": 3,
   "id": "4c388b69",
   "metadata": {},
   "outputs": [
    {
     "data": {
      "text/html": [
       "<style>\n",
       ".list-inline {list-style: none; margin:0; padding: 0}\n",
       ".list-inline>li {display: inline-block}\n",
       ".list-inline>li:not(:last-child)::after {content: \"\\00b7\"; padding: 0 .5ex}\n",
       "</style>\n",
       "<ol class=list-inline><li>98.73</li><li>97.55</li><li>97.72</li><li>97.73</li><li>98.81</li><li>98.24</li><li>98.45</li><li>98.31</li></ol>\n"
      ],
      "text/latex": [
       "\\begin{enumerate*}\n",
       "\\item 98.73\n",
       "\\item 97.55\n",
       "\\item 97.72\n",
       "\\item 97.73\n",
       "\\item 98.81\n",
       "\\item 98.24\n",
       "\\item 98.45\n",
       "\\item 98.31\n",
       "\\end{enumerate*}\n"
      ],
      "text/markdown": [
       "1. 98.73\n",
       "2. 97.55\n",
       "3. 97.72\n",
       "4. 97.73\n",
       "5. 98.81\n",
       "6. 98.24\n",
       "7. 98.45\n",
       "8. 98.31\n",
       "\n",
       "\n"
      ],
      "text/plain": [
       "[1] 98.73 97.55 97.72 97.73 98.81 98.24 98.45 98.31"
      ]
     },
     "metadata": {},
     "output_type": "display_data"
    }
   ],
   "source": [
    "round(((mr_1860 - mr_2020)/mr_1860)*100, 2)"
   ]
  },
  {
   "cell_type": "markdown",
   "id": "2533c62c",
   "metadata": {},
   "source": [
    "So this means we have:\n",
    "\n",
    "|Country |Percentage decrease in infant mortality from 1860 - 2020 |\n",
    "|:-------|:-------------------------------------------------------:|\n",
    "|Austria |98.73 %                                                  |\n",
    "|Belgium |97.55 %                                                  | \n",
    "|Denmark |97.72 %                                                  |   \n",
    "|France  |97.73 %                                                  |   \n",
    "|Germany |98.81 %                                                  |   \n",
    "|Norway  |98.24 %                                                  |   \n",
    "|Spain   |98.45 %                                                  |   \n",
    "|Sweden  |98.31 %                                                  |\n",
    "\n",
    "Usually you dp not encounter percentage number like this, because the difference in the mortality rates are so enormous. Suppose you were a bit unsure whether this could be indeed correct. Here is a way to check your calculation. A decrease by, for example of 98.73 %, is a decrease by 0.9873 in decimal notation. So if your rate was initially 0.237 and you subtract $0.237 \\times 0.9873$ you get 0.0030099 as you should if rounded to the last four digits."
   ]
  },
  {
   "cell_type": "code",
   "execution_count": null,
   "id": "cd31c639",
   "metadata": {},
   "outputs": [],
   "source": []
  }
 ],
 "metadata": {
  "kernelspec": {
   "display_name": "R",
   "language": "R",
   "name": "ir"
  },
  "language_info": {
   "codemirror_mode": "r",
   "file_extension": ".r",
   "mimetype": "text/x-r-source",
   "name": "R",
   "pygments_lexer": "r",
   "version": "4.3.2"
  }
 },
 "nbformat": 4,
 "nbformat_minor": 5
}
