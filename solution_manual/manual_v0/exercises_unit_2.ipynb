{
 "cells": [
  {
   "cell_type": "markdown",
   "id": "207033e5",
   "metadata": {},
   "source": [
    "# Exercises: Summarizing and communication lot's of data"
   ]
  },
  {
   "cell_type": "markdown",
   "id": "ae644c8a",
   "metadata": {},
   "source": [
    "## Now you try:"
   ]
  },
  {
   "cell_type": "markdown",
   "id": "66fae661",
   "metadata": {},
   "source": [
    "The standard deviation of (ii) is highter than (i). If we compute we get:"
   ]
  },
  {
   "cell_type": "code",
   "execution_count": 1,
   "id": "d9ee30cb",
   "metadata": {},
   "outputs": [
    {
     "data": {
      "text/html": [
       "1"
      ],
      "text/latex": [
       "1"
      ],
      "text/markdown": [
       "1"
      ],
      "text/plain": [
       "[1] 1"
      ]
     },
     "metadata": {},
     "output_type": "display_data"
    },
    {
     "data": {
      "text/html": [
       "2"
      ],
      "text/latex": [
       "2"
      ],
      "text/markdown": [
       "2"
      ],
      "text/plain": [
       "[1] 2"
      ]
     },
     "metadata": {},
     "output_type": "display_data"
    }
   ],
   "source": [
    "sd(c(9,9,10,10,10,12))*sqrt(5/6)\n",
    "sd(c(7,8,10,11,11,13))*sqrt(5/6)"
   ]
  },
  {
   "cell_type": "markdown",
   "id": "4348637f",
   "metadata": {},
   "source": [
    "No, this is not possible"
   ]
  },
  {
   "cell_type": "markdown",
   "id": "7d35b875",
   "metadata": {},
   "source": [
    "Yes, an example would be 1,1,16. This list has an average of 6 and a standard deviation of about 7"
   ]
  },
  {
   "cell_type": "markdown",
   "id": "7d681a9f",
   "metadata": {},
   "source": [
    "## Exercises"
   ]
  },
  {
   "cell_type": "markdown",
   "id": "03b10631",
   "metadata": {},
   "source": [
    "### Exercise 1: Histogram of monthly wages"
   ]
  },
  {
   "cell_type": "markdown",
   "id": "add911a8",
   "metadata": {},
   "source": [
    "It must be 25 %"
   ]
  },
  {
   "cell_type": "markdown",
   "id": "5ba66866",
   "metadata": {},
   "source": [
    "### Exercise 2: Which histogram is right?"
   ]
  },
  {
   "cell_type": "markdown",
   "id": "6d445340",
   "metadata": {},
   "source": [
    "The answer is version 2 because version 1 does not have units and version 3 has the wrong units for the relative frequency scale"
   ]
  },
  {
   "cell_type": "markdown",
   "id": "86aacac2",
   "metadata": {},
   "source": [
    "### Exercise 3: Different scales in a histogram"
   ]
  },
  {
   "cell_type": "markdown",
   "id": "41845311",
   "metadata": {},
   "source": [
    "1750, 2000, 1, 0.5. The idea on density: If you spread 10 % evenly over 1 cm = 10 mm, there is 1 percent in each mm, i.e. 1 percent per mm."
   ]
  },
  {
   "cell_type": "markdown",
   "id": "a4ef9058",
   "metadata": {},
   "source": [
    "### Exercise 4: Find the average"
   ]
  },
  {
   "cell_type": "markdown",
   "id": "8edcee59",
   "metadata": {},
   "source": [
    "The average is at 4 and the mark must be at half the distance between 3 and 5"
   ]
  },
  {
   "cell_type": "markdown",
   "id": "b06cfc2c",
   "metadata": {},
   "source": [
    "For th next list the average is at 4.33 and the mark must be accordingly nearer to 5."
   ]
  },
  {
   "cell_type": "markdown",
   "id": "28ec2759",
   "metadata": {},
   "source": [
    "The average must exactly hald the distance between the two crosses on the line"
   ]
  },
  {
   "cell_type": "markdown",
   "id": "ca9e4049",
   "metadata": {},
   "source": [
    "### Exercise 5: Questions about averages"
   ]
  },
  {
   "cell_type": "markdown",
   "id": "09611c85",
   "metadata": {},
   "source": [
    "If the average is 1 the list consists of 10 1s, if the average is 3 the list consists of 10 3's. The average can not be 4. It has to be between 3 and 4."
   ]
  },
  {
   "cell_type": "markdown",
   "id": "2837c044",
   "metadata": {},
   "source": [
    "### Exercise 6: Comparing averages without computation"
   ]
  },
  {
   "cell_type": "markdown",
   "id": "664cc5c0",
   "metadata": {},
   "source": [
    "The average of (ii) is bigger because it has one larger entry"
   ]
  },
  {
   "cell_type": "markdown",
   "id": "41ab8288",
   "metadata": {},
   "source": [
    "### Exercise 7: Adding data and the change of averages"
   ]
  },
  {
   "cell_type": "markdown",
   "id": "0b50613a",
   "metadata": {},
   "source": [
    "$(10 \\times 1.69 + 1.96)/11 = 1.71$"
   ]
  },
  {
   "cell_type": "markdown",
   "id": "def9005a",
   "metadata": {},
   "source": [
    "You could also reason as follows: The new person is 27 cm taller than the old average. So it adds 27/11 to the old average of 169 cm"
   ]
  },
  {
   "cell_type": "markdown",
   "id": "084aa6f0",
   "metadata": {},
   "source": [
    "$(1.68 \\times 21 + 1.96)/22 = 1.69$"
   ]
  },
  {
   "cell_type": "markdown",
   "id": "0f5be140",
   "metadata": {},
   "source": [
    "As the number of people goes up each new person has less affect on the average"
   ]
  },
  {
   "cell_type": "markdown",
   "id": "ef6543b7",
   "metadata": {},
   "source": [
    "2.34 m, the person would have to be a giant. Solve the equation $(1.68 \\times 21 + x)/22 = 1.71$ for $x$."
   ]
  },
  {
   "cell_type": "markdown",
   "id": "93b6709f",
   "metadata": {},
   "source": [
    "### Exercise 8: True or false?"
   ]
  },
  {
   "cell_type": "markdown",
   "id": "7086da94",
   "metadata": {},
   "source": [
    "The conclusion does not follow. The data are cross sectional and not over time (longitudinal). The men with higher diastolic blood pressure are likely to die earlier, they will not be represented in the graph. Furthermore"
   ]
  }
 ],
 "metadata": {
  "kernelspec": {
   "display_name": "R",
   "language": "R",
   "name": "ir"
  },
  "language_info": {
   "codemirror_mode": "r",
   "file_extension": ".r",
   "mimetype": "text/x-r-source",
   "name": "R",
   "pygments_lexer": "r",
   "version": "4.3.2"
  }
 },
 "nbformat": 4,
 "nbformat_minor": 5
}
