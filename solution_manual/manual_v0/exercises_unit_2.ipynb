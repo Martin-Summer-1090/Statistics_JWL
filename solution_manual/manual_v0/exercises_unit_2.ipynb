{
 "cells": [
  {
   "cell_type": "markdown",
   "id": "207033e5",
   "metadata": {},
   "source": [
    "# Exercises: Summarizing and communication lot's of data"
   ]
  },
  {
   "cell_type": "markdown",
   "id": "09ef5287",
   "metadata": {},
   "source": [
    "## Now you try:"
   ]
  },
  {
   "cell_type": "markdown",
   "id": "d44d7f2d",
   "metadata": {},
   "source": [
    "The standard deviation of (ii) is highter than (i). If we compute we get:"
   ]
  },
  {
   "cell_type": "code",
   "execution_count": 1,
   "id": "216c13ed",
   "metadata": {},
   "outputs": [
    {
     "data": {
      "text/html": [
       "1"
      ],
      "text/latex": [
       "1"
      ],
      "text/markdown": [
       "1"
      ],
      "text/plain": [
       "[1] 1"
      ]
     },
     "metadata": {},
     "output_type": "display_data"
    },
    {
     "data": {
      "text/html": [
       "2"
      ],
      "text/latex": [
       "2"
      ],
      "text/markdown": [
       "2"
      ],
      "text/plain": [
       "[1] 2"
      ]
     },
     "metadata": {},
     "output_type": "display_data"
    }
   ],
   "source": [
    "sd(c(9,9,10,10,10,12))*sqrt(5/6)\n",
    "sd(c(7,8,10,11,11,13))*sqrt(5/6)"
   ]
  },
  {
   "cell_type": "markdown",
   "id": "1eaa345e",
   "metadata": {},
   "source": [
    "No, this is not possible"
   ]
  },
  {
   "cell_type": "markdown",
   "id": "3c741750",
   "metadata": {},
   "source": [
    "Yes, an example would be 1,1,16. This list has an average of 6 and a standard deviation of about 7"
   ]
  },
  {
   "cell_type": "markdown",
   "id": "3aced3a6",
   "metadata": {},
   "source": [
    "## Exercises"
   ]
  },
  {
   "cell_type": "markdown",
   "id": "f9e99694",
   "metadata": {},
   "source": [
    "### Exercise 1: Histogram of monthly wages"
   ]
  },
  {
   "cell_type": "markdown",
   "id": "cbd4e7d1",
   "metadata": {},
   "source": [
    "It must be 25 %"
   ]
  },
  {
   "cell_type": "markdown",
   "id": "1d0743b5",
   "metadata": {},
   "source": [
    "### Exercise 2: Which histogram is right?"
   ]
  },
  {
   "cell_type": "markdown",
   "id": "570851d4",
   "metadata": {},
   "source": [
    "The answer is version 2 because version 1 does not have units and version 3 has the wrong units for the relative frequency scale"
   ]
  },
  {
   "cell_type": "markdown",
   "id": "0798b956",
   "metadata": {},
   "source": [
    "### Exercise 3: Different scales in a histogram"
   ]
  },
  {
   "cell_type": "markdown",
   "id": "2aba95bc",
   "metadata": {},
   "source": [
    "1750, 2000, 1, 0.5. The idea on density: If you spread 10 % evenly over 1 cm = 10 mm, there is 1 percent in each mm, i.e. 1 percent per mm."
   ]
  },
  {
   "cell_type": "markdown",
   "id": "cc472fbe",
   "metadata": {},
   "source": [
    "### Exercise 4: Find the average"
   ]
  },
  {
   "cell_type": "markdown",
   "id": "fb1ec2e3",
   "metadata": {},
   "source": [
    "The average is at 4 and the mark must be at half the distance between 3 and 5"
   ]
  },
  {
   "cell_type": "markdown",
   "id": "cc8952ea",
   "metadata": {},
   "source": [
    "For th next list the average is at 4.33 and the mark must be accordingly nearer to 5."
   ]
  },
  {
   "cell_type": "markdown",
   "id": "5125f631",
   "metadata": {},
   "source": [
    "The average must exactly hald the distance between the two crosses on the line"
   ]
  },
  {
   "cell_type": "markdown",
   "id": "cd5caf76",
   "metadata": {},
   "source": [
    "### Exercise 5: Questions about averages"
   ]
  },
  {
   "cell_type": "markdown",
   "id": "3233f691",
   "metadata": {},
   "source": [
    "If the average is 1 the list consists of 10 1s, if the average is 3 the list consists of 10 3's. The average can not be 4. It has to be between 3 and 4."
   ]
  },
  {
   "cell_type": "markdown",
   "id": "9c249cbf",
   "metadata": {},
   "source": [
    "### Exercise 6: Comparing averages without computation"
   ]
  },
  {
   "cell_type": "markdown",
   "id": "ab95cd48",
   "metadata": {},
   "source": [
    "The average of (ii) is bigger because it has one larger entry"
   ]
  },
  {
   "cell_type": "markdown",
   "id": "14a243ad",
   "metadata": {},
   "source": [
    "### Exercise 7: Adding data and the change of averages"
   ]
  },
  {
   "cell_type": "markdown",
   "id": "c4da1bd9",
   "metadata": {},
   "source": [
    "$(10 \\times 1.69 + 1.96)/11 = 1.71$"
   ]
  },
  {
   "cell_type": "markdown",
   "id": "13cbba5e",
   "metadata": {},
   "source": [
    "You could also reason as follows: The new person is 27 cm taller than the old average. So it adds 27/11 to the old average of 169 cm"
   ]
  },
  {
   "cell_type": "markdown",
   "id": "ae50b5a7",
   "metadata": {},
   "source": [
    "$(1.68 \\times 21 + 1.96)/22 = 1.69$"
   ]
  },
  {
   "cell_type": "markdown",
   "id": "49c3aaed",
   "metadata": {},
   "source": [
    "As the number of people goes up each new person has less affect on the average"
   ]
  },
  {
   "cell_type": "markdown",
   "id": "9e8bbc7e",
   "metadata": {},
   "source": [
    "2.34 m, the person would have to be a giant. Solve the equation $(1.68 \\times 21 + x)/22 = 1.71$ for $x$."
   ]
  },
  {
   "cell_type": "markdown",
   "id": "ec71fb0b",
   "metadata": {},
   "source": [
    "### Exercise 8: True or false?"
   ]
  },
  {
   "cell_type": "markdown",
   "id": "1e328e3d",
   "metadata": {},
   "source": [
    "The conclusion does not follow. The data are cross sectional and not over time (longitudinal). The men with higher diastolic blood pressure are likely to die earlier, they will not be represented in the graph. Furthermore men with higher blood pressure are likely to be put on medications that reduce blood pressure."
   ]
  },
  {
   "cell_type": "code",
   "execution_count": null,
   "id": "6876105a",
   "metadata": {},
   "outputs": [],
   "source": []
  }
 ],
 "metadata": {
  "kernelspec": {
   "display_name": "R",
   "language": "R",
   "name": "ir"
  },
  "language_info": {
   "codemirror_mode": "r",
   "file_extension": ".r",
   "mimetype": "text/x-r-source",
   "name": "R",
   "pygments_lexer": "r",
   "version": "4.3.2"
  }
 },
 "nbformat": 4,
 "nbformat_minor": 5
}
