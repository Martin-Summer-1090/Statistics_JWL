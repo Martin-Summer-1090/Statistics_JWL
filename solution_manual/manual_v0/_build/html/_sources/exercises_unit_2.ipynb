{
 "cells": [
  {
   "cell_type": "markdown",
   "id": "207033e5",
   "metadata": {},
   "source": [
    "# Exercises: Unit 2, Summarizing and communication lot's of data"
   ]
  },
  {
   "cell_type": "markdown",
   "id": "09ef5287",
   "metadata": {},
   "source": [
    "## Now you try:"
   ]
  },
  {
   "cell_type": "markdown",
   "id": "d44d7f2d",
   "metadata": {},
   "source": [
    "The standard deviation of (ii) is highter than (i). If we compute we get:"
   ]
  },
  {
   "cell_type": "code",
   "execution_count": 1,
   "id": "216c13ed",
   "metadata": {},
   "outputs": [
    {
     "data": {
      "text/html": [
       "1"
      ],
      "text/latex": [
       "1"
      ],
      "text/markdown": [
       "1"
      ],
      "text/plain": [
       "[1] 1"
      ]
     },
     "metadata": {},
     "output_type": "display_data"
    },
    {
     "data": {
      "text/html": [
       "2"
      ],
      "text/latex": [
       "2"
      ],
      "text/markdown": [
       "2"
      ],
      "text/plain": [
       "[1] 2"
      ]
     },
     "metadata": {},
     "output_type": "display_data"
    }
   ],
   "source": [
    "sd(c(9,9,10,10,10,12))*sqrt(5/6)\n",
    "sd(c(7,8,10,11,11,13))*sqrt(5/6)"
   ]
  },
  {
   "cell_type": "markdown",
   "id": "1eaa345e",
   "metadata": {},
   "source": [
    "No, this is not possible"
   ]
  },
  {
   "cell_type": "markdown",
   "id": "3c741750",
   "metadata": {},
   "source": [
    "Yes, an example would be 1,1,16. This list has an average of 6 and a standard deviation of about 7"
   ]
  },
  {
   "cell_type": "markdown",
   "id": "3aced3a6",
   "metadata": {},
   "source": [
    "## Exercises"
   ]
  },
  {
   "cell_type": "markdown",
   "id": "f9e99694",
   "metadata": {},
   "source": [
    "### Exercise 1: Histogram of monthly wages"
   ]
  },
  {
   "cell_type": "markdown",
   "id": "cbd4e7d1",
   "metadata": {},
   "source": [
    "It must be 25 %"
   ]
  },
  {
   "cell_type": "markdown",
   "id": "1d0743b5",
   "metadata": {},
   "source": [
    "### Exercise 2: Which histogram is right?"
   ]
  },
  {
   "cell_type": "markdown",
   "id": "570851d4",
   "metadata": {},
   "source": [
    "The answer is version 2 because version 1 does not have units and version 3 has the wrong units for the relative frequency scale"
   ]
  },
  {
   "cell_type": "markdown",
   "id": "0798b956",
   "metadata": {},
   "source": [
    "### Exercise 3: Different scales in a histogram"
   ]
  },
  {
   "cell_type": "markdown",
   "id": "2aba95bc",
   "metadata": {},
   "source": [
    "1750, 2000, 1, 0.5. The idea on density: If you spread 10 % evenly over 1 cm = 10 mm, there is 1 percent in each mm, i.e. 1 percent per mm."
   ]
  },
  {
   "cell_type": "markdown",
   "id": "cc472fbe",
   "metadata": {},
   "source": [
    "### Exercise 4: Find the average"
   ]
  },
  {
   "cell_type": "markdown",
   "id": "fb1ec2e3",
   "metadata": {},
   "source": [
    "The average is at 4 and the mark must be at half the distance between 3 and 5"
   ]
  },
  {
   "cell_type": "markdown",
   "id": "cc8952ea",
   "metadata": {},
   "source": [
    "For th next list the average is at 4.33 and the mark must be accordingly nearer to 5."
   ]
  },
  {
   "cell_type": "markdown",
   "id": "5125f631",
   "metadata": {},
   "source": [
    "The average must exactly hald the distance between the two crosses on the line"
   ]
  },
  {
   "cell_type": "markdown",
   "id": "cd5caf76",
   "metadata": {},
   "source": [
    "### Exercise 5: Questions about averages"
   ]
  },
  {
   "cell_type": "markdown",
   "id": "3233f691",
   "metadata": {},
   "source": [
    "If the average is 1 the list consists of 10 1s, if the average is 3 the list consists of 10 3's. The average can not be 4. It has to be between 3 and 4."
   ]
  },
  {
   "cell_type": "markdown",
   "id": "9c249cbf",
   "metadata": {},
   "source": [
    "### Exercise 6: Comparing averages without computation"
   ]
  },
  {
   "cell_type": "markdown",
   "id": "ab95cd48",
   "metadata": {},
   "source": [
    "The average of (ii) is bigger because it has one larger entry"
   ]
  },
  {
   "cell_type": "markdown",
   "id": "14a243ad",
   "metadata": {},
   "source": [
    "### Exercise 7: Adding data and the change of averages"
   ]
  },
  {
   "cell_type": "markdown",
   "id": "c4da1bd9",
   "metadata": {},
   "source": [
    "$(10 \\times 1.69 + 1.96)/11 = 1.71$"
   ]
  },
  {
   "cell_type": "markdown",
   "id": "13cbba5e",
   "metadata": {},
   "source": [
    "You could also reason as follows: The new person is 27 cm taller than the old average. So it adds 27/11 to the old average of 169 cm"
   ]
  },
  {
   "cell_type": "markdown",
   "id": "ae50b5a7",
   "metadata": {},
   "source": [
    "$(1.68 \\times 21 + 1.96)/22 = 1.69$"
   ]
  },
  {
   "cell_type": "markdown",
   "id": "49c3aaed",
   "metadata": {},
   "source": [
    "As the number of people goes up each new person has less affect on the average"
   ]
  },
  {
   "cell_type": "markdown",
   "id": "9e8bbc7e",
   "metadata": {},
   "source": [
    "2.34 m, the person would have to be a giant. Solve the equation $(1.68 \\times 21 + x)/22 = 1.71$ for $x$."
   ]
  },
  {
   "cell_type": "markdown",
   "id": "ec71fb0b",
   "metadata": {},
   "source": [
    "### Exercise 8: True or false?"
   ]
  },
  {
   "cell_type": "markdown",
   "id": "1e328e3d",
   "metadata": {},
   "source": [
    "The conclusion does not follow. The data are cross sectional and not over time (longitudinal). The men with higher diastolic blood pressure are likely to die earlier, they will not be represented in the graph. Furthermore men with higher blood pressure are likely to be put on medications that reduce blood pressure."
   ]
  },
  {
   "cell_type": "markdown",
   "id": "dbf4d365",
   "metadata": {},
   "source": [
    "### Exercise 9: Can you explain this?"
   ]
  },
  {
   "cell_type": "markdown",
   "id": "6a27f67b",
   "metadata": {},
   "source": [
    "During recessions, firms tend to lay off workers with the lowest seniority, who are also usually the lowest paid. This raises the average wage of those left on the payroll. When the recession ends, these low paid workers are rehired."
   ]
  },
  {
   "cell_type": "markdown",
   "id": "a393e9fe",
   "metadata": {},
   "source": [
    "### Exercise 10: Working with standard deviations"
   ]
  },
  {
   "cell_type": "markdown",
   "id": "1cf59e8d",
   "metadata": {},
   "source": [
    "$(188-173)/5$. This individual is thus away 3 standard deviations from the mean. $(174.66 -173)/5$ which is 0.33 standard deviations above average. $173 - 1.5 \\times 5$ which is 165.5 cm. This would be $173 - 2.25 \\times 5$ which amounts to 161.75 cm. The highest height would thus be $173 + 2.25 \\times 5$ which amounts to 185.25 cm."
   ]
  },
  {
   "cell_type": "markdown",
   "id": "c77c033d",
   "metadata": {},
   "source": [
    "### Exercise 11: Match the height"
   ]
  },
  {
   "cell_type": "markdown",
   "id": "e3a102bf",
   "metadata": {},
   "source": [
    "We compute the mean and the standard deviation"
   ]
  },
  {
   "cell_type": "code",
   "execution_count": 1,
   "id": "eeef6099",
   "metadata": {},
   "outputs": [
    {
     "data": {
      "text/html": [
       "158"
      ],
      "text/latex": [
       "158"
      ],
      "text/markdown": [
       "158"
      ],
      "text/plain": [
       "[1] 158"
      ]
     },
     "metadata": {},
     "output_type": "display_data"
    },
    {
     "data": {
      "text/html": [
       "19.5448202856921"
      ],
      "text/latex": [
       "19.5448202856921"
      ],
      "text/markdown": [
       "19.5448202856921"
      ],
      "text/plain": [
       "[1] 19.54482"
      ]
     },
     "metadata": {},
     "output_type": "display_data"
    }
   ],
   "source": [
    "x <- c(150, 130, 180, 172)\n",
    "mean(x)\n",
    "sd(x)*sqrt(3/4)"
   ]
  },
  {
   "cell_type": "markdown",
   "id": "ea90d2ec",
   "metadata": {},
   "source": [
    "The mean is 158 and the standard deviation is about 20. The first individual would be about average. The second would be at the lower boundary of usual height. The third is unusually high and the fourth is also unusally high."
   ]
  },
  {
   "cell_type": "markdown",
   "id": "e23a2766",
   "metadata": {},
   "source": [
    "### Exercise 12: Recognizing the spread of lists"
   ]
  },
  {
   "cell_type": "markdown",
   "id": "e7f909bb",
   "metadata": {},
   "source": [
    "Biggest c, smallest b"
   ]
  },
  {
   "cell_type": "markdown",
   "id": "1eca7ba0",
   "metadata": {},
   "source": [
    "### Exercise 13: Guess the standard deviation"
   ]
  },
  {
   "cell_type": "markdown",
   "id": "c94d3fa3",
   "metadata": {},
   "source": [
    "(a) 1, since all deviations from the average of 50 are plus or minus 1, (b) 2, (c) 2, (e) 10"
   ]
  },
  {
   "cell_type": "markdown",
   "id": "41f7addc",
   "metadata": {},
   "source": [
    "### Exercise 14: Stylized histograms, average and standard deviation"
   ]
  },
  {
   "cell_type": "markdown",
   "id": "be587f47",
   "metadata": {},
   "source": [
    "(a) (i), (b) (ii), (c) (v)"
   ]
  },
  {
   "cell_type": "markdown",
   "id": "f12f222a",
   "metadata": {},
   "source": [
    "### Exercise 15: Estimating the size of average and standard deviation"
   ]
  },
  {
   "cell_type": "markdown",
   "id": "ddba5529",
   "metadata": {},
   "source": [
    "The avarages and standard deviations should be about the same, but the investigator with the biggest sample is likely to get the tallest man as well as the shortest. The bigger the sample, the bigger teh range between smallest and largest element."
   ]
  },
  {
   "cell_type": "markdown",
   "id": "acc57f72",
   "metadata": {},
   "source": [
    "## Exercises R"
   ]
  },
  {
   "cell_type": "markdown",
   "id": "41565201",
   "metadata": {},
   "source": [
    "### Exercise 1: A histogram of the Nile river flow data"
   ]
  },
  {
   "cell_type": "code",
   "execution_count": 2,
   "id": "09b88a56",
   "metadata": {},
   "outputs": [],
   "source": [
    "?Nile"
   ]
  },
  {
   "cell_type": "markdown",
   "id": "1603670a",
   "metadata": {},
   "source": [
    "Data are measurments of the annual flow of the river Nile at Aswan (formerly Assuan), 1871–1970, in $10^8 m^3$"
   ]
  },
  {
   "cell_type": "code",
   "execution_count": 3,
   "id": "87aaec31",
   "metadata": {},
   "outputs": [
    {
     "data": {
      "image/png": "[encoded data removed]",
      "text/plain": [
       "Plot with title “Histogram of Nile”"
      ]
     },
     "metadata": {
      "image/png": {
       "height": 420,
       "width": 420
      }
     },
     "output_type": "display_data"
    }
   ],
   "source": [
    "hist(Nile)"
   ]
  },
  {
   "cell_type": "code",
   "execution_count": 4,
   "id": "003c0349",
   "metadata": {},
   "outputs": [
    {
     "data": {
      "image/png": "[encoded data removed]",
      "text/plain": [
       "Plot with title “Histogram of Nile river flow data at Aswan Egypt”"
      ]
     },
     "metadata": {
      "image/png": {
       "height": 420,
       "width": 420
      }
     },
     "output_type": "display_data"
    }
   ],
   "source": [
    "hist(Nile, main = \"Histogram of Nile river flow data at Aswan Egypt\",\n",
    "    xlab = \"Annual flow is recorded are 100 millions of cubic meters\")"
   ]
  },
  {
   "cell_type": "markdown",
   "id": "75633f08",
   "metadata": {},
   "source": [
    "### Exercise 2: Analyze the full height dataset"
   ]
  },
  {
   "cell_type": "code",
   "execution_count": 5,
   "id": "b45fa8a5",
   "metadata": {},
   "outputs": [],
   "source": [
    "library(JWL)\n",
    "dat  <- socr_height_weight"
   ]
  },
  {
   "cell_type": "code",
   "execution_count": 7,
   "id": "626c49bd",
   "metadata": {},
   "outputs": [],
   "source": [
    "dat$Height  <- dat$Height*2.54\n",
    "dat$Weight  <- dat$Weight*0.4535924"
   ]
  },
  {
   "cell_type": "code",
   "execution_count": 8,
   "id": "90fcaf38",
   "metadata": {},
   "outputs": [
    {
     "data": {
      "image/png": "[encoded data removed]",
      "text/plain": [
       "Plot with title “Histogram of dat$Height”"
      ]
     },
     "metadata": {
      "image/png": {
       "height": 420,
       "width": 420
      }
     },
     "output_type": "display_data"
    }
   ],
   "source": [
    "hist(dat$Height)"
   ]
  },
  {
   "cell_type": "code",
   "execution_count": 9,
   "id": "d566b66c",
   "metadata": {},
   "outputs": [
    {
     "data": {
      "image/png": "[encoded data removed]",
      "text/plain": [
       "Plot with title “Histogram of dat$Weight”"
      ]
     },
     "metadata": {
      "image/png": {
       "height": 420,
       "width": 420
      }
     },
     "output_type": "display_data"
    }
   ],
   "source": [
    "hist(dat$Weight)"
   ]
  },
  {
   "cell_type": "code",
   "execution_count": 10,
   "id": "d8a81711",
   "metadata": {},
   "outputs": [
    {
     "data": {
      "text/html": [
       "172.702508535872"
      ],
      "text/latex": [
       "172.702508535872"
      ],
      "text/markdown": [
       "172.702508535872"
      ],
      "text/plain": [
       "[1] 172.7025"
      ]
     },
     "metadata": {},
     "output_type": "display_data"
    },
    {
     "data": {
      "text/html": [
       "4.83026407886225"
      ],
      "text/latex": [
       "4.83026407886225"
      ],
      "text/markdown": [
       "4.83026407886225"
      ],
      "text/plain": [
       "[1] 4.830264"
      ]
     },
     "metadata": {},
     "output_type": "display_data"
    },
    {
     "data": {
      "text/html": [
       "57.6422596349381"
      ],
      "text/latex": [
       "57.6422596349381"
      ],
      "text/markdown": [
       "57.6422596349381"
      ],
      "text/plain": [
       "[1] 57.64226"
      ]
     },
     "metadata": {},
     "output_type": "display_data"
    },
    {
     "data": {
      "text/html": [
       "5.28929451202942"
      ],
      "text/latex": [
       "5.28929451202942"
      ],
      "text/markdown": [
       "5.28929451202942"
      ],
      "text/plain": [
       "[1] 5.289295"
      ]
     },
     "metadata": {},
     "output_type": "display_data"
    }
   ],
   "source": [
    "mean(dat$Height)\n",
    "sd(dat$Height)\n",
    "\n",
    "mean(dat$Weight)\n",
    "sd(dat$Weight)"
   ]
  },
  {
   "cell_type": "code",
   "execution_count": 13,
   "id": "f9f1052e",
   "metadata": {},
   "outputs": [
    {
     "data": {
      "text/html": [
       "0.68356"
      ],
      "text/latex": [
       "0.68356"
      ],
      "text/markdown": [
       "0.68356"
      ],
      "text/plain": [
       "[1] 0.68356"
      ]
     },
     "metadata": {},
     "output_type": "display_data"
    }
   ],
   "source": [
    "mean(dat$Height >= mean(dat$Height) - sd(dat$Height) & dat$Height <= mean(dat$Height) + sd(dat$Height))"
   ]
  },
  {
   "cell_type": "code",
   "execution_count": 14,
   "id": "98e8a88a",
   "metadata": {},
   "outputs": [
    {
     "data": {
      "text/html": [
       "0.9546"
      ],
      "text/latex": [
       "0.9546"
      ],
      "text/markdown": [
       "0.9546"
      ],
      "text/plain": [
       "[1] 0.9546"
      ]
     },
     "metadata": {},
     "output_type": "display_data"
    }
   ],
   "source": [
    "mean(dat$Height >= mean(dat$Height) - 2*sd(dat$Height) & dat$Height <= mean(dat$Height) + 2*sd(dat$Height))"
   ]
  },
  {
   "cell_type": "code",
   "execution_count": 15,
   "id": "30ca5f85",
   "metadata": {},
   "outputs": [
    {
     "data": {
      "text/html": [
       "0.99796"
      ],
      "text/latex": [
       "0.99796"
      ],
      "text/markdown": [
       "0.99796"
      ],
      "text/plain": [
       "[1] 0.99796"
      ]
     },
     "metadata": {},
     "output_type": "display_data"
    }
   ],
   "source": [
    "mean(dat$Height >= mean(dat$Height) - 3*sd(dat$Height) & dat$Height <= mean(dat$Height) + 3*sd(dat$Height))"
   ]
  },
  {
   "cell_type": "markdown",
   "id": "d25dc6b9",
   "metadata": {},
   "source": [
    "### Exercise 3: Energy consumption per capita accross countries in the world"
   ]
  },
  {
   "cell_type": "code",
   "execution_count": 16,
   "id": "f5235842",
   "metadata": {},
   "outputs": [],
   "source": [
    "?energy_consumption_per_capita"
   ]
  },
  {
   "cell_type": "markdown",
   "id": "74694811",
   "metadata": {},
   "source": [
    "Data points show primary energy consumption per capita measured in kwh per person per year for various countries around the globe from 1965 - 2021"
   ]
  },
  {
   "cell_type": "code",
   "execution_count": 17,
   "id": "e7fbea04",
   "metadata": {},
   "outputs": [],
   "source": [
    "df  <- energy_consumption_per_capita"
   ]
  },
  {
   "cell_type": "code",
   "execution_count": 18,
   "id": "224b52a1",
   "metadata": {},
   "outputs": [
    {
     "data": {
      "text/html": [
       "<table class=\"dataframe\">\n",
       "<caption>A data.frame: 6 × 4</caption>\n",
       "<thead>\n",
       "\t<tr><th></th><th scope=col>Country</th><th scope=col>Code</th><th scope=col>Year</th><th scope=col>Cons</th></tr>\n",
       "\t<tr><th></th><th scope=col>&lt;chr&gt;</th><th scope=col>&lt;chr&gt;</th><th scope=col>&lt;int&gt;</th><th scope=col>&lt;dbl&gt;</th></tr>\n",
       "</thead>\n",
       "<tbody>\n",
       "\t<tr><th scope=row>39</th><td>Afghanistan        </td><td>AFG</td><td>2018</td><td> 1129.595</td></tr>\n",
       "\t<tr><th scope=row>136</th><td>Albania            </td><td>ALB</td><td>2018</td><td>14455.136</td></tr>\n",
       "\t<tr><th scope=row>191</th><td>Algeria            </td><td>DZA</td><td>2018</td><td>15898.334</td></tr>\n",
       "\t<tr><th scope=row>233</th><td>American Samoa     </td><td>ASM</td><td>2018</td><td>25953.754</td></tr>\n",
       "\t<tr><th scope=row>273</th><td>Angola             </td><td>AGO</td><td>2018</td><td> 3212.779</td></tr>\n",
       "\t<tr><th scope=row>313</th><td>Antigua and Barbuda</td><td>ATG</td><td>2018</td><td>31520.479</td></tr>\n",
       "</tbody>\n",
       "</table>\n"
      ],
      "text/latex": [
       "A data.frame: 6 × 4\n",
       "\\begin{tabular}{r|llll}\n",
       "  & Country & Code & Year & Cons\\\\\n",
       "  & <chr> & <chr> & <int> & <dbl>\\\\\n",
       "\\hline\n",
       "\t39 & Afghanistan         & AFG & 2018 &  1129.595\\\\\n",
       "\t136 & Albania             & ALB & 2018 & 14455.136\\\\\n",
       "\t191 & Algeria             & DZA & 2018 & 15898.334\\\\\n",
       "\t233 & American Samoa      & ASM & 2018 & 25953.754\\\\\n",
       "\t273 & Angola              & AGO & 2018 &  3212.779\\\\\n",
       "\t313 & Antigua and Barbuda & ATG & 2018 & 31520.479\\\\\n",
       "\\end{tabular}\n"
      ],
      "text/markdown": [
       "\n",
       "A data.frame: 6 × 4\n",
       "\n",
       "| <!--/--> | Country &lt;chr&gt; | Code &lt;chr&gt; | Year &lt;int&gt; | Cons &lt;dbl&gt; |\n",
       "|---|---|---|---|---|\n",
       "| 39 | Afghanistan         | AFG | 2018 |  1129.595 |\n",
       "| 136 | Albania             | ALB | 2018 | 14455.136 |\n",
       "| 191 | Algeria             | DZA | 2018 | 15898.334 |\n",
       "| 233 | American Samoa      | ASM | 2018 | 25953.754 |\n",
       "| 273 | Angola              | AGO | 2018 |  3212.779 |\n",
       "| 313 | Antigua and Barbuda | ATG | 2018 | 31520.479 |\n",
       "\n"
      ],
      "text/plain": [
       "    Country             Code Year Cons     \n",
       "39  Afghanistan         AFG  2018  1129.595\n",
       "136 Albania             ALB  2018 14455.136\n",
       "191 Algeria             DZA  2018 15898.334\n",
       "233 American Samoa      ASM  2018 25953.754\n",
       "273 Angola              AGO  2018  3212.779\n",
       "313 Antigua and Barbuda ATG  2018 31520.479"
      ]
     },
     "metadata": {},
     "output_type": "display_data"
    }
   ],
   "source": [
    "p <- df[df$Year == \"2018\", ]\n",
    "head(p)"
   ]
  },
  {
   "cell_type": "code",
   "execution_count": 19,
   "id": "6a34d0b3",
   "metadata": {},
   "outputs": [
    {
     "data": {
      "text/html": [
       "<table class=\"dataframe\">\n",
       "<caption>A data.frame: 9662 × 4</caption>\n",
       "<thead>\n",
       "\t<tr><th></th><th scope=col>Country</th><th scope=col>Code</th><th scope=col>Year</th><th scope=col>Cons</th></tr>\n",
       "\t<tr><th></th><th scope=col>&lt;chr&gt;</th><th scope=col>&lt;chr&gt;</th><th scope=col>&lt;int&gt;</th><th scope=col>&lt;dbl&gt;</th></tr>\n",
       "</thead>\n",
       "<tbody>\n",
       "\t<tr><th scope=row>1</th><td>Afghanistan</td><td>AFG</td><td>1980</td><td> 583.2944</td></tr>\n",
       "\t<tr><th scope=row>2</th><td>Afghanistan</td><td>AFG</td><td>1981</td><td> 666.3782</td></tr>\n",
       "\t<tr><th scope=row>3</th><td>Afghanistan</td><td>AFG</td><td>1982</td><td> 725.6599</td></tr>\n",
       "\t<tr><th scope=row>4</th><td>Afghanistan</td><td>AFG</td><td>1983</td><td> 912.1396</td></tr>\n",
       "\t<tr><th scope=row>5</th><td>Afghanistan</td><td>AFG</td><td>1984</td><td> 941.3926</td></tr>\n",
       "\t<tr><th scope=row>6</th><td>Afghanistan</td><td>AFG</td><td>1985</td><td> 939.6124</td></tr>\n",
       "\t<tr><th scope=row>7</th><td>Afghanistan</td><td>AFG</td><td>1986</td><td> 976.6691</td></tr>\n",
       "\t<tr><th scope=row>8</th><td>Afghanistan</td><td>AFG</td><td>1987</td><td>1592.7023</td></tr>\n",
       "\t<tr><th scope=row>9</th><td>Afghanistan</td><td>AFG</td><td>1988</td><td>2805.6096</td></tr>\n",
       "\t<tr><th scope=row>10</th><td>Afghanistan</td><td>AFG</td><td>1989</td><td>2700.4739</td></tr>\n",
       "\t<tr><th scope=row>11</th><td>Afghanistan</td><td>AFG</td><td>1990</td><td>2557.5864</td></tr>\n",
       "\t<tr><th scope=row>12</th><td>Afghanistan</td><td>AFG</td><td>1991</td><td>1045.3979</td></tr>\n",
       "\t<tr><th scope=row>13</th><td>Afghanistan</td><td>AFG</td><td>1992</td><td> 632.8918</td></tr>\n",
       "\t<tr><th scope=row>14</th><td>Afghanistan</td><td>AFG</td><td>1993</td><td> 575.6830</td></tr>\n",
       "\t<tr><th scope=row>15</th><td>Afghanistan</td><td>AFG</td><td>1994</td><td> 516.2827</td></tr>\n",
       "\t<tr><th scope=row>16</th><td>Afghanistan</td><td>AFG</td><td>1995</td><td> 410.1951</td></tr>\n",
       "\t<tr><th scope=row>17</th><td>Afghanistan</td><td>AFG</td><td>1996</td><td> 386.4446</td></tr>\n",
       "\t<tr><th scope=row>18</th><td>Afghanistan</td><td>AFG</td><td>1997</td><td> 358.4202</td></tr>\n",
       "\t<tr><th scope=row>19</th><td>Afghanistan</td><td>AFG</td><td>1998</td><td> 342.0968</td></tr>\n",
       "\t<tr><th scope=row>20</th><td>Afghanistan</td><td>AFG</td><td>1999</td><td> 334.5757</td></tr>\n",
       "\t<tr><th scope=row>21</th><td>Afghanistan</td><td>AFG</td><td>2000</td><td> 284.5822</td></tr>\n",
       "\t<tr><th scope=row>22</th><td>Afghanistan</td><td>AFG</td><td>2001</td><td> 215.8596</td></tr>\n",
       "\t<tr><th scope=row>23</th><td>Afghanistan</td><td>AFG</td><td>2002</td><td> 195.9296</td></tr>\n",
       "\t<tr><th scope=row>24</th><td>Afghanistan</td><td>AFG</td><td>2003</td><td> 219.9100</td></tr>\n",
       "\t<tr><th scope=row>25</th><td>Afghanistan</td><td>AFG</td><td>2004</td><td> 194.5417</td></tr>\n",
       "\t<tr><th scope=row>26</th><td>Afghanistan</td><td>AFG</td><td>2005</td><td> 239.8551</td></tr>\n",
       "\t<tr><th scope=row>27</th><td>Afghanistan</td><td>AFG</td><td>2006</td><td> 293.0181</td></tr>\n",
       "\t<tr><th scope=row>28</th><td>Afghanistan</td><td>AFG</td><td>2007</td><td> 370.4378</td></tr>\n",
       "\t<tr><th scope=row>29</th><td>Afghanistan</td><td>AFG</td><td>2008</td><td> 618.7231</td></tr>\n",
       "\t<tr><th scope=row>30</th><td>Afghanistan</td><td>AFG</td><td>2009</td><td> 984.1227</td></tr>\n",
       "\t<tr><th scope=row>⋮</th><td>⋮</td><td>⋮</td><td>⋮</td><td>⋮</td></tr>\n",
       "\t<tr><th scope=row>10186</th><td>Zimbabwe</td><td>ZWE</td><td>1990</td><td>5872.587</td></tr>\n",
       "\t<tr><th scope=row>10187</th><td>Zimbabwe</td><td>ZWE</td><td>1991</td><td>5864.751</td></tr>\n",
       "\t<tr><th scope=row>10188</th><td>Zimbabwe</td><td>ZWE</td><td>1992</td><td>5283.862</td></tr>\n",
       "\t<tr><th scope=row>10189</th><td>Zimbabwe</td><td>ZWE</td><td>1993</td><td>5009.730</td></tr>\n",
       "\t<tr><th scope=row>10190</th><td>Zimbabwe</td><td>ZWE</td><td>1994</td><td>4723.183</td></tr>\n",
       "\t<tr><th scope=row>10191</th><td>Zimbabwe</td><td>ZWE</td><td>1995</td><td>4619.312</td></tr>\n",
       "\t<tr><th scope=row>10192</th><td>Zimbabwe</td><td>ZWE</td><td>1996</td><td>4692.042</td></tr>\n",
       "\t<tr><th scope=row>10193</th><td>Zimbabwe</td><td>ZWE</td><td>1997</td><td>4585.107</td></tr>\n",
       "\t<tr><th scope=row>10194</th><td>Zimbabwe</td><td>ZWE</td><td>1998</td><td>4584.613</td></tr>\n",
       "\t<tr><th scope=row>10195</th><td>Zimbabwe</td><td>ZWE</td><td>1999</td><td>5247.149</td></tr>\n",
       "\t<tr><th scope=row>10196</th><td>Zimbabwe</td><td>ZWE</td><td>2000</td><td>4900.144</td></tr>\n",
       "\t<tr><th scope=row>10197</th><td>Zimbabwe</td><td>ZWE</td><td>2001</td><td>4609.955</td></tr>\n",
       "\t<tr><th scope=row>10198</th><td>Zimbabwe</td><td>ZWE</td><td>2002</td><td>4572.823</td></tr>\n",
       "\t<tr><th scope=row>10199</th><td>Zimbabwe</td><td>ZWE</td><td>2003</td><td>4431.698</td></tr>\n",
       "\t<tr><th scope=row>10200</th><td>Zimbabwe</td><td>ZWE</td><td>2004</td><td>4092.676</td></tr>\n",
       "\t<tr><th scope=row>10201</th><td>Zimbabwe</td><td>ZWE</td><td>2005</td><td>4211.419</td></tr>\n",
       "\t<tr><th scope=row>10202</th><td>Zimbabwe</td><td>ZWE</td><td>2006</td><td>4194.021</td></tr>\n",
       "\t<tr><th scope=row>10203</th><td>Zimbabwe</td><td>ZWE</td><td>2007</td><td>4085.941</td></tr>\n",
       "\t<tr><th scope=row>10204</th><td>Zimbabwe</td><td>ZWE</td><td>2008</td><td>3370.732</td></tr>\n",
       "\t<tr><th scope=row>10205</th><td>Zimbabwe</td><td>ZWE</td><td>2009</td><td>3293.989</td></tr>\n",
       "\t<tr><th scope=row>10206</th><td>Zimbabwe</td><td>ZWE</td><td>2010</td><td>3632.863</td></tr>\n",
       "\t<tr><th scope=row>10207</th><td>Zimbabwe</td><td>ZWE</td><td>2011</td><td>3900.153</td></tr>\n",
       "\t<tr><th scope=row>10208</th><td>Zimbabwe</td><td>ZWE</td><td>2012</td><td>4153.979</td></tr>\n",
       "\t<tr><th scope=row>10209</th><td>Zimbabwe</td><td>ZWE</td><td>2013</td><td>4148.077</td></tr>\n",
       "\t<tr><th scope=row>10210</th><td>Zimbabwe</td><td>ZWE</td><td>2014</td><td>4018.925</td></tr>\n",
       "\t<tr><th scope=row>10211</th><td>Zimbabwe</td><td>ZWE</td><td>2015</td><td>3956.026</td></tr>\n",
       "\t<tr><th scope=row>10212</th><td>Zimbabwe</td><td>ZWE</td><td>2016</td><td>3326.073</td></tr>\n",
       "\t<tr><th scope=row>10213</th><td>Zimbabwe</td><td>ZWE</td><td>2017</td><td>3226.617</td></tr>\n",
       "\t<tr><th scope=row>10214</th><td>Zimbabwe</td><td>ZWE</td><td>2018</td><td>3289.887</td></tr>\n",
       "\t<tr><th scope=row>10215</th><td>Zimbabwe</td><td>ZWE</td><td>2019</td><td>3374.877</td></tr>\n",
       "</tbody>\n",
       "</table>\n"
      ],
      "text/latex": [
       "A data.frame: 9662 × 4\n",
       "\\begin{tabular}{r|llll}\n",
       "  & Country & Code & Year & Cons\\\\\n",
       "  & <chr> & <chr> & <int> & <dbl>\\\\\n",
       "\\hline\n",
       "\t1 & Afghanistan & AFG & 1980 &  583.2944\\\\\n",
       "\t2 & Afghanistan & AFG & 1981 &  666.3782\\\\\n",
       "\t3 & Afghanistan & AFG & 1982 &  725.6599\\\\\n",
       "\t4 & Afghanistan & AFG & 1983 &  912.1396\\\\\n",
       "\t5 & Afghanistan & AFG & 1984 &  941.3926\\\\\n",
       "\t6 & Afghanistan & AFG & 1985 &  939.6124\\\\\n",
       "\t7 & Afghanistan & AFG & 1986 &  976.6691\\\\\n",
       "\t8 & Afghanistan & AFG & 1987 & 1592.7023\\\\\n",
       "\t9 & Afghanistan & AFG & 1988 & 2805.6096\\\\\n",
       "\t10 & Afghanistan & AFG & 1989 & 2700.4739\\\\\n",
       "\t11 & Afghanistan & AFG & 1990 & 2557.5864\\\\\n",
       "\t12 & Afghanistan & AFG & 1991 & 1045.3979\\\\\n",
       "\t13 & Afghanistan & AFG & 1992 &  632.8918\\\\\n",
       "\t14 & Afghanistan & AFG & 1993 &  575.6830\\\\\n",
       "\t15 & Afghanistan & AFG & 1994 &  516.2827\\\\\n",
       "\t16 & Afghanistan & AFG & 1995 &  410.1951\\\\\n",
       "\t17 & Afghanistan & AFG & 1996 &  386.4446\\\\\n",
       "\t18 & Afghanistan & AFG & 1997 &  358.4202\\\\\n",
       "\t19 & Afghanistan & AFG & 1998 &  342.0968\\\\\n",
       "\t20 & Afghanistan & AFG & 1999 &  334.5757\\\\\n",
       "\t21 & Afghanistan & AFG & 2000 &  284.5822\\\\\n",
       "\t22 & Afghanistan & AFG & 2001 &  215.8596\\\\\n",
       "\t23 & Afghanistan & AFG & 2002 &  195.9296\\\\\n",
       "\t24 & Afghanistan & AFG & 2003 &  219.9100\\\\\n",
       "\t25 & Afghanistan & AFG & 2004 &  194.5417\\\\\n",
       "\t26 & Afghanistan & AFG & 2005 &  239.8551\\\\\n",
       "\t27 & Afghanistan & AFG & 2006 &  293.0181\\\\\n",
       "\t28 & Afghanistan & AFG & 2007 &  370.4378\\\\\n",
       "\t29 & Afghanistan & AFG & 2008 &  618.7231\\\\\n",
       "\t30 & Afghanistan & AFG & 2009 &  984.1227\\\\\n",
       "\t⋮ & ⋮ & ⋮ & ⋮ & ⋮\\\\\n",
       "\t10186 & Zimbabwe & ZWE & 1990 & 5872.587\\\\\n",
       "\t10187 & Zimbabwe & ZWE & 1991 & 5864.751\\\\\n",
       "\t10188 & Zimbabwe & ZWE & 1992 & 5283.862\\\\\n",
       "\t10189 & Zimbabwe & ZWE & 1993 & 5009.730\\\\\n",
       "\t10190 & Zimbabwe & ZWE & 1994 & 4723.183\\\\\n",
       "\t10191 & Zimbabwe & ZWE & 1995 & 4619.312\\\\\n",
       "\t10192 & Zimbabwe & ZWE & 1996 & 4692.042\\\\\n",
       "\t10193 & Zimbabwe & ZWE & 1997 & 4585.107\\\\\n",
       "\t10194 & Zimbabwe & ZWE & 1998 & 4584.613\\\\\n",
       "\t10195 & Zimbabwe & ZWE & 1999 & 5247.149\\\\\n",
       "\t10196 & Zimbabwe & ZWE & 2000 & 4900.144\\\\\n",
       "\t10197 & Zimbabwe & ZWE & 2001 & 4609.955\\\\\n",
       "\t10198 & Zimbabwe & ZWE & 2002 & 4572.823\\\\\n",
       "\t10199 & Zimbabwe & ZWE & 2003 & 4431.698\\\\\n",
       "\t10200 & Zimbabwe & ZWE & 2004 & 4092.676\\\\\n",
       "\t10201 & Zimbabwe & ZWE & 2005 & 4211.419\\\\\n",
       "\t10202 & Zimbabwe & ZWE & 2006 & 4194.021\\\\\n",
       "\t10203 & Zimbabwe & ZWE & 2007 & 4085.941\\\\\n",
       "\t10204 & Zimbabwe & ZWE & 2008 & 3370.732\\\\\n",
       "\t10205 & Zimbabwe & ZWE & 2009 & 3293.989\\\\\n",
       "\t10206 & Zimbabwe & ZWE & 2010 & 3632.863\\\\\n",
       "\t10207 & Zimbabwe & ZWE & 2011 & 3900.153\\\\\n",
       "\t10208 & Zimbabwe & ZWE & 2012 & 4153.979\\\\\n",
       "\t10209 & Zimbabwe & ZWE & 2013 & 4148.077\\\\\n",
       "\t10210 & Zimbabwe & ZWE & 2014 & 4018.925\\\\\n",
       "\t10211 & Zimbabwe & ZWE & 2015 & 3956.026\\\\\n",
       "\t10212 & Zimbabwe & ZWE & 2016 & 3326.073\\\\\n",
       "\t10213 & Zimbabwe & ZWE & 2017 & 3226.617\\\\\n",
       "\t10214 & Zimbabwe & ZWE & 2018 & 3289.887\\\\\n",
       "\t10215 & Zimbabwe & ZWE & 2019 & 3374.877\\\\\n",
       "\\end{tabular}\n"
      ],
      "text/markdown": [
       "\n",
       "A data.frame: 9662 × 4\n",
       "\n",
       "| <!--/--> | Country &lt;chr&gt; | Code &lt;chr&gt; | Year &lt;int&gt; | Cons &lt;dbl&gt; |\n",
       "|---|---|---|---|---|\n",
       "| 1 | Afghanistan | AFG | 1980 |  583.2944 |\n",
       "| 2 | Afghanistan | AFG | 1981 |  666.3782 |\n",
       "| 3 | Afghanistan | AFG | 1982 |  725.6599 |\n",
       "| 4 | Afghanistan | AFG | 1983 |  912.1396 |\n",
       "| 5 | Afghanistan | AFG | 1984 |  941.3926 |\n",
       "| 6 | Afghanistan | AFG | 1985 |  939.6124 |\n",
       "| 7 | Afghanistan | AFG | 1986 |  976.6691 |\n",
       "| 8 | Afghanistan | AFG | 1987 | 1592.7023 |\n",
       "| 9 | Afghanistan | AFG | 1988 | 2805.6096 |\n",
       "| 10 | Afghanistan | AFG | 1989 | 2700.4739 |\n",
       "| 11 | Afghanistan | AFG | 1990 | 2557.5864 |\n",
       "| 12 | Afghanistan | AFG | 1991 | 1045.3979 |\n",
       "| 13 | Afghanistan | AFG | 1992 |  632.8918 |\n",
       "| 14 | Afghanistan | AFG | 1993 |  575.6830 |\n",
       "| 15 | Afghanistan | AFG | 1994 |  516.2827 |\n",
       "| 16 | Afghanistan | AFG | 1995 |  410.1951 |\n",
       "| 17 | Afghanistan | AFG | 1996 |  386.4446 |\n",
       "| 18 | Afghanistan | AFG | 1997 |  358.4202 |\n",
       "| 19 | Afghanistan | AFG | 1998 |  342.0968 |\n",
       "| 20 | Afghanistan | AFG | 1999 |  334.5757 |\n",
       "| 21 | Afghanistan | AFG | 2000 |  284.5822 |\n",
       "| 22 | Afghanistan | AFG | 2001 |  215.8596 |\n",
       "| 23 | Afghanistan | AFG | 2002 |  195.9296 |\n",
       "| 24 | Afghanistan | AFG | 2003 |  219.9100 |\n",
       "| 25 | Afghanistan | AFG | 2004 |  194.5417 |\n",
       "| 26 | Afghanistan | AFG | 2005 |  239.8551 |\n",
       "| 27 | Afghanistan | AFG | 2006 |  293.0181 |\n",
       "| 28 | Afghanistan | AFG | 2007 |  370.4378 |\n",
       "| 29 | Afghanistan | AFG | 2008 |  618.7231 |\n",
       "| 30 | Afghanistan | AFG | 2009 |  984.1227 |\n",
       "| ⋮ | ⋮ | ⋮ | ⋮ | ⋮ |\n",
       "| 10186 | Zimbabwe | ZWE | 1990 | 5872.587 |\n",
       "| 10187 | Zimbabwe | ZWE | 1991 | 5864.751 |\n",
       "| 10188 | Zimbabwe | ZWE | 1992 | 5283.862 |\n",
       "| 10189 | Zimbabwe | ZWE | 1993 | 5009.730 |\n",
       "| 10190 | Zimbabwe | ZWE | 1994 | 4723.183 |\n",
       "| 10191 | Zimbabwe | ZWE | 1995 | 4619.312 |\n",
       "| 10192 | Zimbabwe | ZWE | 1996 | 4692.042 |\n",
       "| 10193 | Zimbabwe | ZWE | 1997 | 4585.107 |\n",
       "| 10194 | Zimbabwe | ZWE | 1998 | 4584.613 |\n",
       "| 10195 | Zimbabwe | ZWE | 1999 | 5247.149 |\n",
       "| 10196 | Zimbabwe | ZWE | 2000 | 4900.144 |\n",
       "| 10197 | Zimbabwe | ZWE | 2001 | 4609.955 |\n",
       "| 10198 | Zimbabwe | ZWE | 2002 | 4572.823 |\n",
       "| 10199 | Zimbabwe | ZWE | 2003 | 4431.698 |\n",
       "| 10200 | Zimbabwe | ZWE | 2004 | 4092.676 |\n",
       "| 10201 | Zimbabwe | ZWE | 2005 | 4211.419 |\n",
       "| 10202 | Zimbabwe | ZWE | 2006 | 4194.021 |\n",
       "| 10203 | Zimbabwe | ZWE | 2007 | 4085.941 |\n",
       "| 10204 | Zimbabwe | ZWE | 2008 | 3370.732 |\n",
       "| 10205 | Zimbabwe | ZWE | 2009 | 3293.989 |\n",
       "| 10206 | Zimbabwe | ZWE | 2010 | 3632.863 |\n",
       "| 10207 | Zimbabwe | ZWE | 2011 | 3900.153 |\n",
       "| 10208 | Zimbabwe | ZWE | 2012 | 4153.979 |\n",
       "| 10209 | Zimbabwe | ZWE | 2013 | 4148.077 |\n",
       "| 10210 | Zimbabwe | ZWE | 2014 | 4018.925 |\n",
       "| 10211 | Zimbabwe | ZWE | 2015 | 3956.026 |\n",
       "| 10212 | Zimbabwe | ZWE | 2016 | 3326.073 |\n",
       "| 10213 | Zimbabwe | ZWE | 2017 | 3226.617 |\n",
       "| 10214 | Zimbabwe | ZWE | 2018 | 3289.887 |\n",
       "| 10215 | Zimbabwe | ZWE | 2019 | 3374.877 |\n",
       "\n"
      ],
      "text/plain": [
       "      Country     Code Year Cons     \n",
       "1     Afghanistan AFG  1980  583.2944\n",
       "2     Afghanistan AFG  1981  666.3782\n",
       "3     Afghanistan AFG  1982  725.6599\n",
       "4     Afghanistan AFG  1983  912.1396\n",
       "5     Afghanistan AFG  1984  941.3926\n",
       "6     Afghanistan AFG  1985  939.6124\n",
       "7     Afghanistan AFG  1986  976.6691\n",
       "8     Afghanistan AFG  1987 1592.7023\n",
       "9     Afghanistan AFG  1988 2805.6096\n",
       "10    Afghanistan AFG  1989 2700.4739\n",
       "11    Afghanistan AFG  1990 2557.5864\n",
       "12    Afghanistan AFG  1991 1045.3979\n",
       "13    Afghanistan AFG  1992  632.8918\n",
       "14    Afghanistan AFG  1993  575.6830\n",
       "15    Afghanistan AFG  1994  516.2827\n",
       "16    Afghanistan AFG  1995  410.1951\n",
       "17    Afghanistan AFG  1996  386.4446\n",
       "18    Afghanistan AFG  1997  358.4202\n",
       "19    Afghanistan AFG  1998  342.0968\n",
       "20    Afghanistan AFG  1999  334.5757\n",
       "21    Afghanistan AFG  2000  284.5822\n",
       "22    Afghanistan AFG  2001  215.8596\n",
       "23    Afghanistan AFG  2002  195.9296\n",
       "24    Afghanistan AFG  2003  219.9100\n",
       "25    Afghanistan AFG  2004  194.5417\n",
       "26    Afghanistan AFG  2005  239.8551\n",
       "27    Afghanistan AFG  2006  293.0181\n",
       "28    Afghanistan AFG  2007  370.4378\n",
       "29    Afghanistan AFG  2008  618.7231\n",
       "30    Afghanistan AFG  2009  984.1227\n",
       "⋮     ⋮           ⋮    ⋮    ⋮        \n",
       "10186 Zimbabwe    ZWE  1990 5872.587 \n",
       "10187 Zimbabwe    ZWE  1991 5864.751 \n",
       "10188 Zimbabwe    ZWE  1992 5283.862 \n",
       "10189 Zimbabwe    ZWE  1993 5009.730 \n",
       "10190 Zimbabwe    ZWE  1994 4723.183 \n",
       "10191 Zimbabwe    ZWE  1995 4619.312 \n",
       "10192 Zimbabwe    ZWE  1996 4692.042 \n",
       "10193 Zimbabwe    ZWE  1997 4585.107 \n",
       "10194 Zimbabwe    ZWE  1998 4584.613 \n",
       "10195 Zimbabwe    ZWE  1999 5247.149 \n",
       "10196 Zimbabwe    ZWE  2000 4900.144 \n",
       "10197 Zimbabwe    ZWE  2001 4609.955 \n",
       "10198 Zimbabwe    ZWE  2002 4572.823 \n",
       "10199 Zimbabwe    ZWE  2003 4431.698 \n",
       "10200 Zimbabwe    ZWE  2004 4092.676 \n",
       "10201 Zimbabwe    ZWE  2005 4211.419 \n",
       "10202 Zimbabwe    ZWE  2006 4194.021 \n",
       "10203 Zimbabwe    ZWE  2007 4085.941 \n",
       "10204 Zimbabwe    ZWE  2008 3370.732 \n",
       "10205 Zimbabwe    ZWE  2009 3293.989 \n",
       "10206 Zimbabwe    ZWE  2010 3632.863 \n",
       "10207 Zimbabwe    ZWE  2011 3900.153 \n",
       "10208 Zimbabwe    ZWE  2012 4153.979 \n",
       "10209 Zimbabwe    ZWE  2013 4148.077 \n",
       "10210 Zimbabwe    ZWE  2014 4018.925 \n",
       "10211 Zimbabwe    ZWE  2015 3956.026 \n",
       "10212 Zimbabwe    ZWE  2016 3326.073 \n",
       "10213 Zimbabwe    ZWE  2017 3226.617 \n",
       "10214 Zimbabwe    ZWE  2018 3289.887 \n",
       "10215 Zimbabwe    ZWE  2019 3374.877 "
      ]
     },
     "metadata": {},
     "output_type": "display_data"
    }
   ],
   "source": [
    "df"
   ]
  },
  {
   "cell_type": "code",
   "execution_count": 23,
   "id": "40c5ca52",
   "metadata": {},
   "outputs": [
    {
     "data": {
      "image/png": "[encoded data removed]",
      "text/plain": [
       "Plot with title “Primary energy consumption per capita around the world in 2018”"
      ]
     },
     "metadata": {
      "image/png": {
       "height": 420,
       "width": 420
      }
     },
     "output_type": "display_data"
    }
   ],
   "source": [
    "options(scipen=999)\n",
    "hist(df$Cons, main = \"Primary energy consumption per capita around the world in 2018\",\n",
    "    xlab = \"Primary energy consumption kwh per person per year\")"
   ]
  },
  {
   "cell_type": "markdown",
   "id": "6c85a326",
   "metadata": {},
   "source": [
    "Most countries consume below 50000 and fes more than that."
   ]
  },
  {
   "cell_type": "code",
   "execution_count": 35,
   "id": "49c8e747",
   "metadata": {},
   "outputs": [
    {
     "data": {
      "text/html": [
       "34"
      ],
      "text/latex": [
       "34"
      ],
      "text/markdown": [
       "34"
      ],
      "text/plain": [
       "[1] 34"
      ]
     },
     "metadata": {},
     "output_type": "display_data"
    }
   ],
   "source": [
    "length(df$Country[df$Year == 2018 & df$Cons > 50000])"
   ]
  },
  {
   "cell_type": "code",
   "execution_count": 36,
   "id": "a063f662",
   "metadata": {},
   "outputs": [
    {
     "data": {
      "text/html": [
       "<style>\n",
       ".list-inline {list-style: none; margin:0; padding: 0}\n",
       ".list-inline>li {display: inline-block}\n",
       ".list-inline>li:not(:last-child)::after {content: \"\\00b7\"; padding: 0 .5ex}\n",
       "</style>\n",
       "<ol class=list-inline><li>'Australia'</li><li>'Bahrain'</li><li>'Belgium'</li><li>'Bermuda'</li><li>'Brunei'</li><li>'Canada'</li><li>'Estonia'</li><li>'Faeroe Islands'</li><li>'Falkland Islands'</li><li>'Finland'</li><li>'Greenland'</li><li>'Iceland'</li><li>'Kuwait'</li><li>'Luxembourg'</li><li>'Malta'</li><li>'Netherlands'</li><li>'New Caledonia'</li><li>'New Zealand'</li><li>'North America'</li><li>'Norway'</li><li>'Oman'</li><li>'Qatar'</li><li>'Russia'</li><li>'Saint Pierre and Miquelon'</li><li>'Saudi Arabia'</li><li>'Singapore'</li><li>'South Korea'</li><li>'Sweden'</li><li>'Taiwan'</li><li>'Trinidad and Tobago'</li><li>'Turkmenistan'</li><li>'United Arab Emirates'</li><li>'United States'</li><li>'United States Virgin Islands'</li></ol>\n"
      ],
      "text/latex": [
       "\\begin{enumerate*}\n",
       "\\item 'Australia'\n",
       "\\item 'Bahrain'\n",
       "\\item 'Belgium'\n",
       "\\item 'Bermuda'\n",
       "\\item 'Brunei'\n",
       "\\item 'Canada'\n",
       "\\item 'Estonia'\n",
       "\\item 'Faeroe Islands'\n",
       "\\item 'Falkland Islands'\n",
       "\\item 'Finland'\n",
       "\\item 'Greenland'\n",
       "\\item 'Iceland'\n",
       "\\item 'Kuwait'\n",
       "\\item 'Luxembourg'\n",
       "\\item 'Malta'\n",
       "\\item 'Netherlands'\n",
       "\\item 'New Caledonia'\n",
       "\\item 'New Zealand'\n",
       "\\item 'North America'\n",
       "\\item 'Norway'\n",
       "\\item 'Oman'\n",
       "\\item 'Qatar'\n",
       "\\item 'Russia'\n",
       "\\item 'Saint Pierre and Miquelon'\n",
       "\\item 'Saudi Arabia'\n",
       "\\item 'Singapore'\n",
       "\\item 'South Korea'\n",
       "\\item 'Sweden'\n",
       "\\item 'Taiwan'\n",
       "\\item 'Trinidad and Tobago'\n",
       "\\item 'Turkmenistan'\n",
       "\\item 'United Arab Emirates'\n",
       "\\item 'United States'\n",
       "\\item 'United States Virgin Islands'\n",
       "\\end{enumerate*}\n"
      ],
      "text/markdown": [
       "1. 'Australia'\n",
       "2. 'Bahrain'\n",
       "3. 'Belgium'\n",
       "4. 'Bermuda'\n",
       "5. 'Brunei'\n",
       "6. 'Canada'\n",
       "7. 'Estonia'\n",
       "8. 'Faeroe Islands'\n",
       "9. 'Falkland Islands'\n",
       "10. 'Finland'\n",
       "11. 'Greenland'\n",
       "12. 'Iceland'\n",
       "13. 'Kuwait'\n",
       "14. 'Luxembourg'\n",
       "15. 'Malta'\n",
       "16. 'Netherlands'\n",
       "17. 'New Caledonia'\n",
       "18. 'New Zealand'\n",
       "19. 'North America'\n",
       "20. 'Norway'\n",
       "21. 'Oman'\n",
       "22. 'Qatar'\n",
       "23. 'Russia'\n",
       "24. 'Saint Pierre and Miquelon'\n",
       "25. 'Saudi Arabia'\n",
       "26. 'Singapore'\n",
       "27. 'South Korea'\n",
       "28. 'Sweden'\n",
       "29. 'Taiwan'\n",
       "30. 'Trinidad and Tobago'\n",
       "31. 'Turkmenistan'\n",
       "32. 'United Arab Emirates'\n",
       "33. 'United States'\n",
       "34. 'United States Virgin Islands'\n",
       "\n",
       "\n"
      ],
      "text/plain": [
       " [1] \"Australia\"                    \"Bahrain\"                     \n",
       " [3] \"Belgium\"                      \"Bermuda\"                     \n",
       " [5] \"Brunei\"                       \"Canada\"                      \n",
       " [7] \"Estonia\"                      \"Faeroe Islands\"              \n",
       " [9] \"Falkland Islands\"             \"Finland\"                     \n",
       "[11] \"Greenland\"                    \"Iceland\"                     \n",
       "[13] \"Kuwait\"                       \"Luxembourg\"                  \n",
       "[15] \"Malta\"                        \"Netherlands\"                 \n",
       "[17] \"New Caledonia\"                \"New Zealand\"                 \n",
       "[19] \"North America\"                \"Norway\"                      \n",
       "[21] \"Oman\"                         \"Qatar\"                       \n",
       "[23] \"Russia\"                       \"Saint Pierre and Miquelon\"   \n",
       "[25] \"Saudi Arabia\"                 \"Singapore\"                   \n",
       "[27] \"South Korea\"                  \"Sweden\"                      \n",
       "[29] \"Taiwan\"                       \"Trinidad and Tobago\"         \n",
       "[31] \"Turkmenistan\"                 \"United Arab Emirates\"        \n",
       "[33] \"United States\"                \"United States Virgin Islands\""
      ]
     },
     "metadata": {},
     "output_type": "display_data"
    }
   ],
   "source": [
    "df$Country[df$Year == 2018 & df$Cons > 50000]"
   ]
  },
  {
   "cell_type": "markdown",
   "id": "2651260a",
   "metadata": {},
   "source": [
    "## Project People count: The future of humanity in pictures and numbers"
   ]
  },
  {
   "cell_type": "markdown",
   "id": "cc9c93dc",
   "metadata": {},
   "source": [
    "### The mean age of a population"
   ]
  },
  {
   "cell_type": "markdown",
   "id": "bc5991d2",
   "metadata": {},
   "source": [
    "In the previous project we had to read the population count numbers of Kenya from a table and transfer them manually to the computer to do, for example, a population bar chart by age groups. Now that you know much more R, you can leverage the power of R to read and select data by computer.\n",
    "\n",
    "The population data we used in the previous project for unit 1 are filed and stored in a dataset called \n",
    "`population_statistics_by_age_and_sex` and is contained in the `JWL` package. Let us load the package and the data and store them in an object with a shorter name, so it is easier to work with these data."
   ]
  },
  {
   "cell_type": "code",
   "execution_count": 38,
   "id": "6f502e67",
   "metadata": {},
   "outputs": [],
   "source": [
    "library(JWL)\n",
    "dat  <- population_statistics_by_age_and_sex"
   ]
  },
  {
   "cell_type": "markdown",
   "id": "7609c3f4",
   "metadata": {},
   "source": [
    "Let us inspect the data by using the R functions `dim()`, `head()`and `tail()`. These functions give us a brief glimps how the data roughly look like. With `dim()`we get the number of rows and columns. `head()`shows us the first few lines of the dataframe. `tail()` is kind of mirror to `heads()`, for it shows us the end of the dataframe."
   ]
  },
  {
   "cell_type": "code",
   "execution_count": 39,
   "id": "9de974d8",
   "metadata": {},
   "outputs": [
    {
     "data": {
      "text/html": [
       "<style>\n",
       ".list-inline {list-style: none; margin:0; padding: 0}\n",
       ".list-inline>li {display: inline-block}\n",
       ".list-inline>li:not(:last-child)::after {content: \"\\00b7\"; padding: 0 .5ex}\n",
       "</style>\n",
       "<ol class=list-inline><li>1369480</li><li>6</li></ol>\n"
      ],
      "text/latex": [
       "\\begin{enumerate*}\n",
       "\\item 1369480\n",
       "\\item 6\n",
       "\\end{enumerate*}\n"
      ],
      "text/markdown": [
       "1. 1369480\n",
       "2. 6\n",
       "\n",
       "\n"
      ],
      "text/plain": [
       "[1] 1369480       6"
      ]
     },
     "metadata": {},
     "output_type": "display_data"
    }
   ],
   "source": [
    "dim(dat)"
   ]
  },
  {
   "cell_type": "code",
   "execution_count": 40,
   "id": "ff5f5ad0",
   "metadata": {},
   "outputs": [
    {
     "data": {
      "text/html": [
       "<table class=\"dataframe\">\n",
       "<caption>A tibble: 6 × 6</caption>\n",
       "<thead>\n",
       "\t<tr><th></th><th scope=col>Country</th><th scope=col>ISO2</th><th scope=col>Year</th><th scope=col>Sex</th><th scope=col>Age</th><th scope=col>POP</th></tr>\n",
       "\t<tr><th></th><th scope=col>&lt;fct&gt;</th><th scope=col>&lt;fct&gt;</th><th scope=col>&lt;dbl&gt;</th><th scope=col>&lt;fct&gt;</th><th scope=col>&lt;fct&gt;</th><th scope=col>&lt;dbl&gt;</th></tr>\n",
       "</thead>\n",
       "<tbody>\n",
       "\t<tr><th scope=row>1</th><td>Andorra</td><td>AD</td><td>1950</td><td>F</td><td>0-4  </td><td>NA</td></tr>\n",
       "\t<tr><th scope=row>2</th><td>Andorra</td><td>AD</td><td>1950</td><td>F</td><td>5-9  </td><td>NA</td></tr>\n",
       "\t<tr><th scope=row>3</th><td>Andorra</td><td>AD</td><td>1950</td><td>F</td><td>10-14</td><td>NA</td></tr>\n",
       "\t<tr><th scope=row>4</th><td>Andorra</td><td>AD</td><td>1950</td><td>F</td><td>15-19</td><td>NA</td></tr>\n",
       "\t<tr><th scope=row>5</th><td>Andorra</td><td>AD</td><td>1950</td><td>F</td><td>20-24</td><td>NA</td></tr>\n",
       "\t<tr><th scope=row>6</th><td>Andorra</td><td>AD</td><td>1950</td><td>F</td><td>25-29</td><td>NA</td></tr>\n",
       "</tbody>\n",
       "</table>\n"
      ],
      "text/latex": [
       "A tibble: 6 × 6\n",
       "\\begin{tabular}{r|llllll}\n",
       "  & Country & ISO2 & Year & Sex & Age & POP\\\\\n",
       "  & <fct> & <fct> & <dbl> & <fct> & <fct> & <dbl>\\\\\n",
       "\\hline\n",
       "\t1 & Andorra & AD & 1950 & F & 0-4   & NA\\\\\n",
       "\t2 & Andorra & AD & 1950 & F & 5-9   & NA\\\\\n",
       "\t3 & Andorra & AD & 1950 & F & 10-14 & NA\\\\\n",
       "\t4 & Andorra & AD & 1950 & F & 15-19 & NA\\\\\n",
       "\t5 & Andorra & AD & 1950 & F & 20-24 & NA\\\\\n",
       "\t6 & Andorra & AD & 1950 & F & 25-29 & NA\\\\\n",
       "\\end{tabular}\n"
      ],
      "text/markdown": [
       "\n",
       "A tibble: 6 × 6\n",
       "\n",
       "| <!--/--> | Country &lt;fct&gt; | ISO2 &lt;fct&gt; | Year &lt;dbl&gt; | Sex &lt;fct&gt; | Age &lt;fct&gt; | POP &lt;dbl&gt; |\n",
       "|---|---|---|---|---|---|---|\n",
       "| 1 | Andorra | AD | 1950 | F | 0-4   | NA |\n",
       "| 2 | Andorra | AD | 1950 | F | 5-9   | NA |\n",
       "| 3 | Andorra | AD | 1950 | F | 10-14 | NA |\n",
       "| 4 | Andorra | AD | 1950 | F | 15-19 | NA |\n",
       "| 5 | Andorra | AD | 1950 | F | 20-24 | NA |\n",
       "| 6 | Andorra | AD | 1950 | F | 25-29 | NA |\n",
       "\n"
      ],
      "text/plain": [
       "  Country ISO2 Year Sex Age   POP\n",
       "1 Andorra AD   1950 F   0-4   NA \n",
       "2 Andorra AD   1950 F   5-9   NA \n",
       "3 Andorra AD   1950 F   10-14 NA \n",
       "4 Andorra AD   1950 F   15-19 NA \n",
       "5 Andorra AD   1950 F   20-24 NA \n",
       "6 Andorra AD   1950 F   25-29 NA "
      ]
     },
     "metadata": {},
     "output_type": "display_data"
    }
   ],
   "source": [
    "head(dat)"
   ]
  },
  {
   "cell_type": "code",
   "execution_count": 41,
   "id": "c9eca67e",
   "metadata": {
    "scrolled": true
   },
   "outputs": [
    {
     "data": {
      "text/html": [
       "<table class=\"dataframe\">\n",
       "<caption>A tibble: 6 × 6</caption>\n",
       "<thead>\n",
       "\t<tr><th></th><th scope=col>Country</th><th scope=col>ISO2</th><th scope=col>Year</th><th scope=col>Sex</th><th scope=col>Age</th><th scope=col>POP</th></tr>\n",
       "\t<tr><th></th><th scope=col>&lt;fct&gt;</th><th scope=col>&lt;fct&gt;</th><th scope=col>&lt;dbl&gt;</th><th scope=col>&lt;fct&gt;</th><th scope=col>&lt;fct&gt;</th><th scope=col>&lt;dbl&gt;</th></tr>\n",
       "</thead>\n",
       "<tbody>\n",
       "\t<tr><th scope=row>1369475</th><td>Zimbabwe</td><td>ZW</td><td>2100</td><td>M</td><td>70-74</td><td>846700</td></tr>\n",
       "\t<tr><th scope=row>1369476</th><td>Zimbabwe</td><td>ZW</td><td>2100</td><td>M</td><td>75-79</td><td>760492</td></tr>\n",
       "\t<tr><th scope=row>1369477</th><td>Zimbabwe</td><td>ZW</td><td>2100</td><td>M</td><td>80-84</td><td>616095</td></tr>\n",
       "\t<tr><th scope=row>1369478</th><td>Zimbabwe</td><td>ZW</td><td>2100</td><td>M</td><td>85-89</td><td>411166</td></tr>\n",
       "\t<tr><th scope=row>1369479</th><td>Zimbabwe</td><td>ZW</td><td>2100</td><td>M</td><td>90-94</td><td>180252</td></tr>\n",
       "\t<tr><th scope=row>1369480</th><td>Zimbabwe</td><td>ZW</td><td>2100</td><td>M</td><td>95-99</td><td> 64552</td></tr>\n",
       "</tbody>\n",
       "</table>\n"
      ],
      "text/latex": [
       "A tibble: 6 × 6\n",
       "\\begin{tabular}{r|llllll}\n",
       "  & Country & ISO2 & Year & Sex & Age & POP\\\\\n",
       "  & <fct> & <fct> & <dbl> & <fct> & <fct> & <dbl>\\\\\n",
       "\\hline\n",
       "\t1369475 & Zimbabwe & ZW & 2100 & M & 70-74 & 846700\\\\\n",
       "\t1369476 & Zimbabwe & ZW & 2100 & M & 75-79 & 760492\\\\\n",
       "\t1369477 & Zimbabwe & ZW & 2100 & M & 80-84 & 616095\\\\\n",
       "\t1369478 & Zimbabwe & ZW & 2100 & M & 85-89 & 411166\\\\\n",
       "\t1369479 & Zimbabwe & ZW & 2100 & M & 90-94 & 180252\\\\\n",
       "\t1369480 & Zimbabwe & ZW & 2100 & M & 95-99 &  64552\\\\\n",
       "\\end{tabular}\n"
      ],
      "text/markdown": [
       "\n",
       "A tibble: 6 × 6\n",
       "\n",
       "| <!--/--> | Country &lt;fct&gt; | ISO2 &lt;fct&gt; | Year &lt;dbl&gt; | Sex &lt;fct&gt; | Age &lt;fct&gt; | POP &lt;dbl&gt; |\n",
       "|---|---|---|---|---|---|---|\n",
       "| 1369475 | Zimbabwe | ZW | 2100 | M | 70-74 | 846700 |\n",
       "| 1369476 | Zimbabwe | ZW | 2100 | M | 75-79 | 760492 |\n",
       "| 1369477 | Zimbabwe | ZW | 2100 | M | 80-84 | 616095 |\n",
       "| 1369478 | Zimbabwe | ZW | 2100 | M | 85-89 | 411166 |\n",
       "| 1369479 | Zimbabwe | ZW | 2100 | M | 90-94 | 180252 |\n",
       "| 1369480 | Zimbabwe | ZW | 2100 | M | 95-99 |  64552 |\n",
       "\n"
      ],
      "text/plain": [
       "        Country  ISO2 Year Sex Age   POP   \n",
       "1369475 Zimbabwe ZW   2100 M   70-74 846700\n",
       "1369476 Zimbabwe ZW   2100 M   75-79 760492\n",
       "1369477 Zimbabwe ZW   2100 M   80-84 616095\n",
       "1369478 Zimbabwe ZW   2100 M   85-89 411166\n",
       "1369479 Zimbabwe ZW   2100 M   90-94 180252\n",
       "1369480 Zimbabwe ZW   2100 M   95-99  64552"
      ]
     },
     "metadata": {},
     "output_type": "display_data"
    }
   ],
   "source": [
    "tail(dat)"
   ]
  },
  {
   "cell_type": "markdown",
   "id": "0eed53ad",
   "metadata": {},
   "source": [
    "There are six variables, `Country`, `ISO2` which encode contry name and the two letter international country code. Both allow us to idnetify countries. The dataframe is huge and we can assume that this must come from the fact that\n",
    "it contains most countries in the world, which are today about 200. The `Year` variable seems to start in 1950 and end in 2100. So our data must contain historical records as well as predictions. The data are stratified by `Sex`, here obviously encoded as `M` for male and `F` for female, as well as by age groups. The start at `0-4`and end at `95-99`. Let's make a check whether our guess is reasonable. Assume we have roughly 200 countries and 150 years, 2 Sexes and 20 age groups, we would get around 1.200.000 observations. So we are at about the right order of magnitude. Note that in the beginning the dataframe shows entries `NA`. This is R's symbol to mark missing observations. `POP`finally is the actual count of the number of people of a certain sex and age group in a country in a given year."
   ]
  },
  {
   "cell_type": "markdown",
   "id": "e0c7cb20",
   "metadata": {},
   "source": [
    "1. Use the R subsetting rules to extract the population data for the year 2022 for three countries: Kenya, the \n",
    "   United States of America and Japan. When you have managed to do that you can uses the table \n",
    "   from the last   project to see whether you get the same data for Kenya."
   ]
  },
  {
   "cell_type": "code",
   "execution_count": 42,
   "id": "dd3f2abc",
   "metadata": {},
   "outputs": [],
   "source": [
    "ke_2022 <- dat[dat$Year == 2022 & dat$ISO2 == \"KE\", ]\n",
    "us_2022 <- dat[dat$Year == 2022 & dat$ISO2 == \"US\", ]\n",
    "jp_2022 <- dat[dat$Year == 2022 & dat$ISO2 == \"JP\", ]"
   ]
  },
  {
   "cell_type": "code",
   "execution_count": 43,
   "id": "c4ddebef",
   "metadata": {},
   "outputs": [
    {
     "data": {
      "text/html": [
       "<table class=\"dataframe\">\n",
       "<caption>A tibble: 40 × 6</caption>\n",
       "<thead>\n",
       "\t<tr><th></th><th scope=col>Country</th><th scope=col>ISO2</th><th scope=col>Year</th><th scope=col>Sex</th><th scope=col>Age</th><th scope=col>POP</th></tr>\n",
       "\t<tr><th></th><th scope=col>&lt;fct&gt;</th><th scope=col>&lt;fct&gt;</th><th scope=col>&lt;dbl&gt;</th><th scope=col>&lt;fct&gt;</th><th scope=col>&lt;fct&gt;</th><th scope=col>&lt;dbl&gt;</th></tr>\n",
       "</thead>\n",
       "<tbody>\n",
       "\t<tr><th scope=row>612921</th><td>Kenya</td><td>KE</td><td>2022</td><td>F</td><td>0-4  </td><td>3487490</td></tr>\n",
       "\t<tr><th scope=row>612922</th><td>Kenya</td><td>KE</td><td>2022</td><td>F</td><td>5-9  </td><td>3404421</td></tr>\n",
       "\t<tr><th scope=row>612923</th><td>Kenya</td><td>KE</td><td>2022</td><td>F</td><td>10-14</td><td>3444606</td></tr>\n",
       "\t<tr><th scope=row>612924</th><td>Kenya</td><td>KE</td><td>2022</td><td>F</td><td>15-19</td><td>3225971</td></tr>\n",
       "\t<tr><th scope=row>612925</th><td>Kenya</td><td>KE</td><td>2022</td><td>F</td><td>20-24</td><td>2656730</td></tr>\n",
       "\t<tr><th scope=row>612926</th><td>Kenya</td><td>KE</td><td>2022</td><td>F</td><td>25-29</td><td>2139208</td></tr>\n",
       "\t<tr><th scope=row>612927</th><td>Kenya</td><td>KE</td><td>2022</td><td>F</td><td>30-34</td><td>1946994</td></tr>\n",
       "\t<tr><th scope=row>612928</th><td>Kenya</td><td>KE</td><td>2022</td><td>F</td><td>35-39</td><td>1849778</td></tr>\n",
       "\t<tr><th scope=row>612929</th><td>Kenya</td><td>KE</td><td>2022</td><td>F</td><td>40-44</td><td>1606763</td></tr>\n",
       "\t<tr><th scope=row>612930</th><td>Kenya</td><td>KE</td><td>2022</td><td>F</td><td>45-49</td><td>1170869</td></tr>\n",
       "\t<tr><th scope=row>612931</th><td>Kenya</td><td>KE</td><td>2022</td><td>F</td><td>50-54</td><td> 858998</td></tr>\n",
       "\t<tr><th scope=row>612932</th><td>Kenya</td><td>KE</td><td>2022</td><td>F</td><td>55-59</td><td> 672025</td></tr>\n",
       "\t<tr><th scope=row>612933</th><td>Kenya</td><td>KE</td><td>2022</td><td>F</td><td>60-64</td><td> 516769</td></tr>\n",
       "\t<tr><th scope=row>612934</th><td>Kenya</td><td>KE</td><td>2022</td><td>F</td><td>65-69</td><td> 387773</td></tr>\n",
       "\t<tr><th scope=row>612935</th><td>Kenya</td><td>KE</td><td>2022</td><td>F</td><td>70-74</td><td> 272320</td></tr>\n",
       "\t<tr><th scope=row>612936</th><td>Kenya</td><td>KE</td><td>2022</td><td>F</td><td>75-79</td><td> 168499</td></tr>\n",
       "\t<tr><th scope=row>612937</th><td>Kenya</td><td>KE</td><td>2022</td><td>F</td><td>80-84</td><td>  93724</td></tr>\n",
       "\t<tr><th scope=row>612938</th><td>Kenya</td><td>KE</td><td>2022</td><td>F</td><td>85-89</td><td>  39226</td></tr>\n",
       "\t<tr><th scope=row>612939</th><td>Kenya</td><td>KE</td><td>2022</td><td>F</td><td>90-94</td><td>  10461</td></tr>\n",
       "\t<tr><th scope=row>612940</th><td>Kenya</td><td>KE</td><td>2022</td><td>F</td><td>95-99</td><td>   1520</td></tr>\n",
       "\t<tr><th scope=row>612941</th><td>Kenya</td><td>KE</td><td>2022</td><td>M</td><td>0-4  </td><td>3531278</td></tr>\n",
       "\t<tr><th scope=row>612942</th><td>Kenya</td><td>KE</td><td>2022</td><td>M</td><td>5-9  </td><td>3431166</td></tr>\n",
       "\t<tr><th scope=row>612943</th><td>Kenya</td><td>KE</td><td>2022</td><td>M</td><td>10-14</td><td>3473103</td></tr>\n",
       "\t<tr><th scope=row>612944</th><td>Kenya</td><td>KE</td><td>2022</td><td>M</td><td>15-19</td><td>3249738</td></tr>\n",
       "\t<tr><th scope=row>612945</th><td>Kenya</td><td>KE</td><td>2022</td><td>M</td><td>20-24</td><td>2664966</td></tr>\n",
       "\t<tr><th scope=row>612946</th><td>Kenya</td><td>KE</td><td>2022</td><td>M</td><td>25-29</td><td>2119949</td></tr>\n",
       "\t<tr><th scope=row>612947</th><td>Kenya</td><td>KE</td><td>2022</td><td>M</td><td>30-34</td><td>1926219</td></tr>\n",
       "\t<tr><th scope=row>612948</th><td>Kenya</td><td>KE</td><td>2022</td><td>M</td><td>35-39</td><td>1830280</td></tr>\n",
       "\t<tr><th scope=row>612949</th><td>Kenya</td><td>KE</td><td>2022</td><td>M</td><td>40-44</td><td>1610246</td></tr>\n",
       "\t<tr><th scope=row>612950</th><td>Kenya</td><td>KE</td><td>2022</td><td>M</td><td>45-49</td><td>1196519</td></tr>\n",
       "\t<tr><th scope=row>612951</th><td>Kenya</td><td>KE</td><td>2022</td><td>M</td><td>50-54</td><td> 890662</td></tr>\n",
       "\t<tr><th scope=row>612952</th><td>Kenya</td><td>KE</td><td>2022</td><td>M</td><td>55-59</td><td> 679943</td></tr>\n",
       "\t<tr><th scope=row>612953</th><td>Kenya</td><td>KE</td><td>2022</td><td>M</td><td>60-64</td><td> 488074</td></tr>\n",
       "\t<tr><th scope=row>612954</th><td>Kenya</td><td>KE</td><td>2022</td><td>M</td><td>65-69</td><td> 340546</td></tr>\n",
       "\t<tr><th scope=row>612955</th><td>Kenya</td><td>KE</td><td>2022</td><td>M</td><td>70-74</td><td> 229912</td></tr>\n",
       "\t<tr><th scope=row>612956</th><td>Kenya</td><td>KE</td><td>2022</td><td>M</td><td>75-79</td><td> 138357</td></tr>\n",
       "\t<tr><th scope=row>612957</th><td>Kenya</td><td>KE</td><td>2022</td><td>M</td><td>80-84</td><td>  73093</td></tr>\n",
       "\t<tr><th scope=row>612958</th><td>Kenya</td><td>KE</td><td>2022</td><td>M</td><td>85-89</td><td>  28473</td></tr>\n",
       "\t<tr><th scope=row>612959</th><td>Kenya</td><td>KE</td><td>2022</td><td>M</td><td>90-94</td><td>   6918</td></tr>\n",
       "\t<tr><th scope=row>612960</th><td>Kenya</td><td>KE</td><td>2022</td><td>M</td><td>95-99</td><td>    902</td></tr>\n",
       "</tbody>\n",
       "</table>\n"
      ],
      "text/latex": [
       "A tibble: 40 × 6\n",
       "\\begin{tabular}{r|llllll}\n",
       "  & Country & ISO2 & Year & Sex & Age & POP\\\\\n",
       "  & <fct> & <fct> & <dbl> & <fct> & <fct> & <dbl>\\\\\n",
       "\\hline\n",
       "\t612921 & Kenya & KE & 2022 & F & 0-4   & 3487490\\\\\n",
       "\t612922 & Kenya & KE & 2022 & F & 5-9   & 3404421\\\\\n",
       "\t612923 & Kenya & KE & 2022 & F & 10-14 & 3444606\\\\\n",
       "\t612924 & Kenya & KE & 2022 & F & 15-19 & 3225971\\\\\n",
       "\t612925 & Kenya & KE & 2022 & F & 20-24 & 2656730\\\\\n",
       "\t612926 & Kenya & KE & 2022 & F & 25-29 & 2139208\\\\\n",
       "\t612927 & Kenya & KE & 2022 & F & 30-34 & 1946994\\\\\n",
       "\t612928 & Kenya & KE & 2022 & F & 35-39 & 1849778\\\\\n",
       "\t612929 & Kenya & KE & 2022 & F & 40-44 & 1606763\\\\\n",
       "\t612930 & Kenya & KE & 2022 & F & 45-49 & 1170869\\\\\n",
       "\t612931 & Kenya & KE & 2022 & F & 50-54 &  858998\\\\\n",
       "\t612932 & Kenya & KE & 2022 & F & 55-59 &  672025\\\\\n",
       "\t612933 & Kenya & KE & 2022 & F & 60-64 &  516769\\\\\n",
       "\t612934 & Kenya & KE & 2022 & F & 65-69 &  387773\\\\\n",
       "\t612935 & Kenya & KE & 2022 & F & 70-74 &  272320\\\\\n",
       "\t612936 & Kenya & KE & 2022 & F & 75-79 &  168499\\\\\n",
       "\t612937 & Kenya & KE & 2022 & F & 80-84 &   93724\\\\\n",
       "\t612938 & Kenya & KE & 2022 & F & 85-89 &   39226\\\\\n",
       "\t612939 & Kenya & KE & 2022 & F & 90-94 &   10461\\\\\n",
       "\t612940 & Kenya & KE & 2022 & F & 95-99 &    1520\\\\\n",
       "\t612941 & Kenya & KE & 2022 & M & 0-4   & 3531278\\\\\n",
       "\t612942 & Kenya & KE & 2022 & M & 5-9   & 3431166\\\\\n",
       "\t612943 & Kenya & KE & 2022 & M & 10-14 & 3473103\\\\\n",
       "\t612944 & Kenya & KE & 2022 & M & 15-19 & 3249738\\\\\n",
       "\t612945 & Kenya & KE & 2022 & M & 20-24 & 2664966\\\\\n",
       "\t612946 & Kenya & KE & 2022 & M & 25-29 & 2119949\\\\\n",
       "\t612947 & Kenya & KE & 2022 & M & 30-34 & 1926219\\\\\n",
       "\t612948 & Kenya & KE & 2022 & M & 35-39 & 1830280\\\\\n",
       "\t612949 & Kenya & KE & 2022 & M & 40-44 & 1610246\\\\\n",
       "\t612950 & Kenya & KE & 2022 & M & 45-49 & 1196519\\\\\n",
       "\t612951 & Kenya & KE & 2022 & M & 50-54 &  890662\\\\\n",
       "\t612952 & Kenya & KE & 2022 & M & 55-59 &  679943\\\\\n",
       "\t612953 & Kenya & KE & 2022 & M & 60-64 &  488074\\\\\n",
       "\t612954 & Kenya & KE & 2022 & M & 65-69 &  340546\\\\\n",
       "\t612955 & Kenya & KE & 2022 & M & 70-74 &  229912\\\\\n",
       "\t612956 & Kenya & KE & 2022 & M & 75-79 &  138357\\\\\n",
       "\t612957 & Kenya & KE & 2022 & M & 80-84 &   73093\\\\\n",
       "\t612958 & Kenya & KE & 2022 & M & 85-89 &   28473\\\\\n",
       "\t612959 & Kenya & KE & 2022 & M & 90-94 &    6918\\\\\n",
       "\t612960 & Kenya & KE & 2022 & M & 95-99 &     902\\\\\n",
       "\\end{tabular}\n"
      ],
      "text/markdown": [
       "\n",
       "A tibble: 40 × 6\n",
       "\n",
       "| <!--/--> | Country &lt;fct&gt; | ISO2 &lt;fct&gt; | Year &lt;dbl&gt; | Sex &lt;fct&gt; | Age &lt;fct&gt; | POP &lt;dbl&gt; |\n",
       "|---|---|---|---|---|---|---|\n",
       "| 612921 | Kenya | KE | 2022 | F | 0-4   | 3487490 |\n",
       "| 612922 | Kenya | KE | 2022 | F | 5-9   | 3404421 |\n",
       "| 612923 | Kenya | KE | 2022 | F | 10-14 | 3444606 |\n",
       "| 612924 | Kenya | KE | 2022 | F | 15-19 | 3225971 |\n",
       "| 612925 | Kenya | KE | 2022 | F | 20-24 | 2656730 |\n",
       "| 612926 | Kenya | KE | 2022 | F | 25-29 | 2139208 |\n",
       "| 612927 | Kenya | KE | 2022 | F | 30-34 | 1946994 |\n",
       "| 612928 | Kenya | KE | 2022 | F | 35-39 | 1849778 |\n",
       "| 612929 | Kenya | KE | 2022 | F | 40-44 | 1606763 |\n",
       "| 612930 | Kenya | KE | 2022 | F | 45-49 | 1170869 |\n",
       "| 612931 | Kenya | KE | 2022 | F | 50-54 |  858998 |\n",
       "| 612932 | Kenya | KE | 2022 | F | 55-59 |  672025 |\n",
       "| 612933 | Kenya | KE | 2022 | F | 60-64 |  516769 |\n",
       "| 612934 | Kenya | KE | 2022 | F | 65-69 |  387773 |\n",
       "| 612935 | Kenya | KE | 2022 | F | 70-74 |  272320 |\n",
       "| 612936 | Kenya | KE | 2022 | F | 75-79 |  168499 |\n",
       "| 612937 | Kenya | KE | 2022 | F | 80-84 |   93724 |\n",
       "| 612938 | Kenya | KE | 2022 | F | 85-89 |   39226 |\n",
       "| 612939 | Kenya | KE | 2022 | F | 90-94 |   10461 |\n",
       "| 612940 | Kenya | KE | 2022 | F | 95-99 |    1520 |\n",
       "| 612941 | Kenya | KE | 2022 | M | 0-4   | 3531278 |\n",
       "| 612942 | Kenya | KE | 2022 | M | 5-9   | 3431166 |\n",
       "| 612943 | Kenya | KE | 2022 | M | 10-14 | 3473103 |\n",
       "| 612944 | Kenya | KE | 2022 | M | 15-19 | 3249738 |\n",
       "| 612945 | Kenya | KE | 2022 | M | 20-24 | 2664966 |\n",
       "| 612946 | Kenya | KE | 2022 | M | 25-29 | 2119949 |\n",
       "| 612947 | Kenya | KE | 2022 | M | 30-34 | 1926219 |\n",
       "| 612948 | Kenya | KE | 2022 | M | 35-39 | 1830280 |\n",
       "| 612949 | Kenya | KE | 2022 | M | 40-44 | 1610246 |\n",
       "| 612950 | Kenya | KE | 2022 | M | 45-49 | 1196519 |\n",
       "| 612951 | Kenya | KE | 2022 | M | 50-54 |  890662 |\n",
       "| 612952 | Kenya | KE | 2022 | M | 55-59 |  679943 |\n",
       "| 612953 | Kenya | KE | 2022 | M | 60-64 |  488074 |\n",
       "| 612954 | Kenya | KE | 2022 | M | 65-69 |  340546 |\n",
       "| 612955 | Kenya | KE | 2022 | M | 70-74 |  229912 |\n",
       "| 612956 | Kenya | KE | 2022 | M | 75-79 |  138357 |\n",
       "| 612957 | Kenya | KE | 2022 | M | 80-84 |   73093 |\n",
       "| 612958 | Kenya | KE | 2022 | M | 85-89 |   28473 |\n",
       "| 612959 | Kenya | KE | 2022 | M | 90-94 |    6918 |\n",
       "| 612960 | Kenya | KE | 2022 | M | 95-99 |     902 |\n",
       "\n"
      ],
      "text/plain": [
       "       Country ISO2 Year Sex Age   POP    \n",
       "612921 Kenya   KE   2022 F   0-4   3487490\n",
       "612922 Kenya   KE   2022 F   5-9   3404421\n",
       "612923 Kenya   KE   2022 F   10-14 3444606\n",
       "612924 Kenya   KE   2022 F   15-19 3225971\n",
       "612925 Kenya   KE   2022 F   20-24 2656730\n",
       "612926 Kenya   KE   2022 F   25-29 2139208\n",
       "612927 Kenya   KE   2022 F   30-34 1946994\n",
       "612928 Kenya   KE   2022 F   35-39 1849778\n",
       "612929 Kenya   KE   2022 F   40-44 1606763\n",
       "612930 Kenya   KE   2022 F   45-49 1170869\n",
       "612931 Kenya   KE   2022 F   50-54  858998\n",
       "612932 Kenya   KE   2022 F   55-59  672025\n",
       "612933 Kenya   KE   2022 F   60-64  516769\n",
       "612934 Kenya   KE   2022 F   65-69  387773\n",
       "612935 Kenya   KE   2022 F   70-74  272320\n",
       "612936 Kenya   KE   2022 F   75-79  168499\n",
       "612937 Kenya   KE   2022 F   80-84   93724\n",
       "612938 Kenya   KE   2022 F   85-89   39226\n",
       "612939 Kenya   KE   2022 F   90-94   10461\n",
       "612940 Kenya   KE   2022 F   95-99    1520\n",
       "612941 Kenya   KE   2022 M   0-4   3531278\n",
       "612942 Kenya   KE   2022 M   5-9   3431166\n",
       "612943 Kenya   KE   2022 M   10-14 3473103\n",
       "612944 Kenya   KE   2022 M   15-19 3249738\n",
       "612945 Kenya   KE   2022 M   20-24 2664966\n",
       "612946 Kenya   KE   2022 M   25-29 2119949\n",
       "612947 Kenya   KE   2022 M   30-34 1926219\n",
       "612948 Kenya   KE   2022 M   35-39 1830280\n",
       "612949 Kenya   KE   2022 M   40-44 1610246\n",
       "612950 Kenya   KE   2022 M   45-49 1196519\n",
       "612951 Kenya   KE   2022 M   50-54  890662\n",
       "612952 Kenya   KE   2022 M   55-59  679943\n",
       "612953 Kenya   KE   2022 M   60-64  488074\n",
       "612954 Kenya   KE   2022 M   65-69  340546\n",
       "612955 Kenya   KE   2022 M   70-74  229912\n",
       "612956 Kenya   KE   2022 M   75-79  138357\n",
       "612957 Kenya   KE   2022 M   80-84   73093\n",
       "612958 Kenya   KE   2022 M   85-89   28473\n",
       "612959 Kenya   KE   2022 M   90-94    6918\n",
       "612960 Kenya   KE   2022 M   95-99     902"
      ]
     },
     "metadata": {},
     "output_type": "display_data"
    }
   ],
   "source": [
    "ke_2022"
   ]
  },
  {
   "cell_type": "markdown",
   "id": "a71876b4",
   "metadata": {},
   "source": [
    "Comparing with the table shows that the numbers match. Note that we could have referred to the country also by\n",
    "name \"Kenya\", for example. In the case of US we needed to take some care. The US is recorded with the Country variable \"United States of America\". This is one string with blanks between the words. To make R treat this string as such, we would have to refer to `dat$\"United States of America\"`. Otherwise R, in the case without \"\", R would read the string as `dat$United` and would not find anything matching. It also would not not what to do with `States`, `of` and `America`."
   ]
  },
  {
   "cell_type": "markdown",
   "id": "c78cfbe1",
   "metadata": {},
   "source": [
    "2. Make a barplot for the total population numbers (i.e. women plus men) for\n",
    "each age group for all the three countries. This requires you again to use the\n",
    "R subsetting rules correctly. Describe in your own words what you see as the\n",
    "main difference between the charts."
   ]
  },
  {
   "cell_type": "code",
   "execution_count": 53,
   "id": "95529d00",
   "metadata": {},
   "outputs": [],
   "source": [
    "numbers_ke  <- ke_2022$POP[ke_2022$Sex == \"F\"] + ke_2022$POP[ke_2022$Sex == \"M\"]\n",
    "numbers_us  <- us_2022$POP[us_2022$Sex == \"F\"] + us_2022$POP[us_2022$Sex == \"M\"]\n",
    "numbers_jp  <- jp_2022$POP[jp_2022$Sex == \"F\"] + jp_2022$POP[jp_2022$Sex == \"M\"]\n"
   ]
  },
  {
   "cell_type": "code",
   "execution_count": 54,
   "id": "5071fe44",
   "metadata": {},
   "outputs": [
    {
     "data": {
      "image/png": "[encoded data removed]",
      "text/plain": [
       "Plot with title “Total population of Kenya in 2022 per age group”"
      ]
     },
     "metadata": {
      "image/png": {
       "height": 420,
       "width": 420
      }
     },
     "output_type": "display_data"
    }
   ],
   "source": [
    "barplot(numbers_ke, names.arg = levels(ke_2022$Age), horiz = T, las = 1, \n",
    "       main = \"Total population of Kenya in 2022 per age group\")"
   ]
  },
  {
   "cell_type": "code",
   "execution_count": 55,
   "id": "4febeccf",
   "metadata": {},
   "outputs": [
    {
     "data": {
      "image/png": "[encoded data removed]",
      "text/plain": [
       "Plot with title “Total population of United States in 2022 per age group”"
      ]
     },
     "metadata": {
      "image/png": {
       "height": 420,
       "width": 420
      }
     },
     "output_type": "display_data"
    }
   ],
   "source": [
    "barplot(numbers_us, names.arg = levels(us_2022$Age), horiz = T, las = 1, \n",
    "       main = \"Total population of United States in 2022 per age group\")"
   ]
  },
  {
   "cell_type": "code",
   "execution_count": 56,
   "id": "6d7f772a",
   "metadata": {},
   "outputs": [
    {
     "data": {
      "image/png": "[encoded data removed]",
      "text/plain": [
       "Plot with title “Total population of Kenya in 2022 per age group”"
      ]
     },
     "metadata": {
      "image/png": {
       "height": 420,
       "width": 420
      }
     },
     "output_type": "display_data"
    }
   ],
   "source": [
    "barplot(numbers_jp, names.arg = levels(jp_2022$Age), horiz = T, las = 1, \n",
    "       main = \"Total population of Kenya in 2022 per age group\")"
   ]
  },
  {
   "cell_type": "markdown",
   "id": "e6a41e9e",
   "metadata": {},
   "source": [
    "Kenya has many young people, the barchart has large bars at the bottom. Demographers call this a bottom layered country. The US has the larges bars in the middle, middle layered and Japan in the top, top layered."
   ]
  },
  {
   "cell_type": "markdown",
   "id": "95682978",
   "metadata": {},
   "source": [
    "3. Assume we would want to compute the mean age of the population in each country. Think about how you can do this given the data format you encounter here. The problem of the format is that we do not have a list of individual ages where we just have to apply the `mean()` function but we just have age groups and counts per group. Think about how we could compute a mean age in this case and compute the mean age using your procedure for the three countries. Comment whether your result is consistent with the barcharts. Hint: When you create a new column, you need for a computation you can always append this new column to your dataframe like this. Assume we have a dataframe `df`with variables `x` and `y`. We would like to add a variable `z` which is the sum of `x` and `y`. In this case we would just write `df$z  <- x + y` and a new column `z` would be appended to `df`."
   ]
  },
  {
   "cell_type": "markdown",
   "id": "424d81e6",
   "metadata": {},
   "source": [
    "The main idea we need to compute a mean age for the grouped data is to see that the mid point of each age group gives us the mean age in this group. When we take this mean and multiply be the number of people in this age group we get an estimate for the total age in this group, when we assume all members of the group have about the mean\n",
    "age. So here is the idea. Assume we have:"
   ]
  },
  {
   "cell_type": "code",
   "execution_count": 63,
   "id": "266e85b1",
   "metadata": {},
   "outputs": [],
   "source": [
    "toy_age  <- c(0,3,1,1,3,4,2,4,3,1,0,1)"
   ]
  },
  {
   "cell_type": "markdown",
   "id": "9eb9ba80",
   "metadata": {},
   "source": [
    "These are all ages in the interval 0 to 4 years. The average age in the list is:"
   ]
  },
  {
   "cell_type": "code",
   "execution_count": 64,
   "id": "0cebdd15",
   "metadata": {},
   "outputs": [
    {
     "data": {
      "text/html": [
       "1.91666666666667"
      ],
      "text/latex": [
       "1.91666666666667"
      ],
      "text/markdown": [
       "1.91666666666667"
      ],
      "text/plain": [
       "[1] 1.916667"
      ]
     },
     "metadata": {},
     "output_type": "display_data"
    }
   ],
   "source": [
    "mean(toy_age)"
   ]
  },
  {
   "cell_type": "markdown",
   "id": "b975a0ab",
   "metadata": {},
   "source": [
    "Not exactly 2 but also not too bad. So we do hopefully not make too big of a mistake like this. So lets go to the actual computation using this idea"
   ]
  },
  {
   "cell_type": "code",
   "execution_count": 70,
   "id": "8125dc26",
   "metadata": {},
   "outputs": [
    {
     "data": {
      "text/html": [
       "24.2350859595261"
      ],
      "text/latex": [
       "24.2350859595261"
      ],
      "text/markdown": [
       "24.2350859595261"
      ],
      "text/plain": [
       "[1] 24.23509"
      ]
     },
     "metadata": {},
     "output_type": "display_data"
    }
   ],
   "source": [
    "# Step 1: Create a new variable of the age group interval mid points for all age groups. Note that there are many ways\n",
    "# to do this, including creating a variable by hand and adding it. Here we use the sequence function of R\n",
    "\n",
    "mid  <- seq(2,100,5)\n",
    "\n",
    "ke_2022$mid  <- mid\n",
    "\n",
    "# Step 2: Add up the product between mid and POP for all age groups and divide by the total population\n",
    "\n",
    "sum(ke_2022$mid*ke_2022$POP)/sum(ke_2022$POP)"
   ]
  },
  {
   "cell_type": "markdown",
   "id": "aa8ab45f",
   "metadata": {},
   "source": [
    "Kenya has a mean age of 24"
   ]
  },
  {
   "cell_type": "code",
   "execution_count": 71,
   "id": "88318ec1",
   "metadata": {},
   "outputs": [
    {
     "data": {
      "text/html": [
       "39.5162642880378"
      ],
      "text/latex": [
       "39.5162642880378"
      ],
      "text/markdown": [
       "39.5162642880378"
      ],
      "text/plain": [
       "[1] 39.51626"
      ]
     },
     "metadata": {},
     "output_type": "display_data"
    }
   ],
   "source": [
    "us_2022$mid  <- mid\n",
    "sum(us_2022$mid*us_2022$POP)/sum(us_2022$POP)"
   ]
  },
  {
   "cell_type": "markdown",
   "id": "68e622c7",
   "metadata": {},
   "source": [
    "The US has a mean age of 40"
   ]
  },
  {
   "cell_type": "code",
   "execution_count": 72,
   "id": "a21d181d",
   "metadata": {},
   "outputs": [
    {
     "data": {
      "text/html": [
       "47.2826355354766"
      ],
      "text/latex": [
       "47.2826355354766"
      ],
      "text/markdown": [
       "47.2826355354766"
      ],
      "text/plain": [
       "[1] 47.28264"
      ]
     },
     "metadata": {},
     "output_type": "display_data"
    }
   ],
   "source": [
    "jp_2022$mid  <- mid\n",
    "sum(jp_2022$mid*jp_2022$POP)/sum(jp_2022$POP)"
   ]
  },
  {
   "cell_type": "markdown",
   "id": "ab68b54c",
   "metadata": {},
   "source": [
    "Japan has a mean age of 47"
   ]
  },
  {
   "cell_type": "markdown",
   "id": "147046ee",
   "metadata": {},
   "source": [
    "This is in line with the bar charts, because the countries have the bulk of people at the bottom, in the middle and at the top of age groups."
   ]
  },
  {
   "cell_type": "markdown",
   "id": "e484e010",
   "metadata": {},
   "source": [
    "4. How does your country compare with these three?"
   ]
  },
  {
   "cell_type": "markdown",
   "id": "00a4019a",
   "metadata": {},
   "source": [
    "My country is Austria:"
   ]
  },
  {
   "cell_type": "code",
   "execution_count": 73,
   "id": "7d7b83bc",
   "metadata": {},
   "outputs": [
    {
     "data": {
      "image/png": "[encoded data removed]",
      "text/plain": [
       "Plot with title “Total population of Austria in 2022 per age group”"
      ]
     },
     "metadata": {
      "image/png": {
       "height": 420,
       "width": 420
      }
     },
     "output_type": "display_data"
    }
   ],
   "source": [
    "at_2022 <- dat[dat$Year == 2022 & dat$ISO2 == \"AT\", ]\n",
    "\n",
    "numbers_at  <- at_2022$POP[at_2022$Sex == \"F\"] + at_2022$POP[at_2022$Sex == \"M\"]\n",
    "\n",
    "barplot(numbers_at, names.arg = levels(at_2022$Age), horiz = T, las = 1, \n",
    "       main = \"Total population of Austria in 2022 per age group\")"
   ]
  },
  {
   "cell_type": "code",
   "execution_count": 74,
   "id": "1eb372e5",
   "metadata": {},
   "outputs": [
    {
     "data": {
      "text/html": [
       "43.430240348906"
      ],
      "text/latex": [
       "43.430240348906"
      ],
      "text/markdown": [
       "43.430240348906"
      ],
      "text/plain": [
       "[1] 43.43024"
      ]
     },
     "metadata": {},
     "output_type": "display_data"
    }
   ],
   "source": [
    "mid  <- seq(2,100,5)\n",
    "\n",
    "at_2022$mid  <- mid\n",
    "\n",
    "sum(at_2022$mid*at_2022$POP)/sum(at_2022$POP)"
   ]
  },
  {
   "cell_type": "code",
   "execution_count": null,
   "id": "63ef517c",
   "metadata": {},
   "outputs": [],
   "source": [
    "Austria is between the US and Japan and tends towards a top layered country."
   ]
  }
 ],
 "metadata": {
  "kernelspec": {
   "display_name": "R",
   "language": "R",
   "name": "ir"
  },
  "language_info": {
   "codemirror_mode": "r",
   "file_extension": ".r",
   "mimetype": "text/x-r-source",
   "name": "R",
   "pygments_lexer": "r",
   "version": "4.3.2"
  }
 },
 "nbformat": 4,
 "nbformat_minor": 5
}
