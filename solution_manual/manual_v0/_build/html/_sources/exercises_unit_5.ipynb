{
 "cells": [
  {
   "cell_type": "markdown",
   "id": "2a0adfca",
   "metadata": {},
   "source": [
    "# Exercises: Unit 5, How sure can we be about what is going on: Estimates and Intervals"
   ]
  },
  {
   "cell_type": "markdown",
   "id": "d6eb5ff9",
   "metadata": {},
   "source": [
    "## Exercises"
   ]
  },
  {
   "cell_type": "markdown",
   "id": "ae5571ea",
   "metadata": {},
   "source": [
    "### Exercise 1: Thirsty students"
   ]
  },
  {
   "cell_type": "markdown",
   "id": "8679cefc",
   "metadata": {},
   "source": [
    "Assume you are interested in the amount of water the stundent coming to the JWL study center consume in a day. In particular you want to learn about the proportion of students that drink more than 2 liters of water per day. You take a random sample of 100 students in the stundents directory of the study center and obtain from them the information about how much water they drink in a day at the study center. You store your results in a dataframe you call  `water`. The dataframe has one column calles `amount` which stores the number of liters each of the students drink.\n",
    "\n",
    "\n"
   ]
  },
  {
   "cell_type": "markdown",
   "id": "7db0022a",
   "metadata": {},
   "source": [
    "1. Write one line of R-code to compute the proportion of students who drank more than 2 liters of water. Hint: You can write this line of code also when you are not at the computer. You can solve this exercise by thinking about what you would write, if you had an R console or a Jupyter book opened in front of you."
   ]
  },
  {
   "cell_type": "markdown",
   "id": "9edba50d",
   "metadata": {},
   "source": [
    "The code line would be: `mean(water[water$amount > 2])`"
   ]
  },
  {
   "cell_type": "markdown",
   "id": "e0d59e59",
   "metadata": {},
   "source": [
    "2. Write one line of R-code to compute a single bootstrap resample from the water dataframe."
   ]
  },
  {
   "cell_type": "markdown",
   "id": "d8d230c5",
   "metadata": {},
   "source": [
    "The code line would be: `water[sample(x = 1:nrow(water), size = nrow(water), replace = T)]`"
   ]
  },
  {
   "cell_type": "markdown",
   "id": "54abab2d",
   "metadata": {},
   "source": [
    "### Exercise 2: Check your understanding of why the bootstrap works"
   ]
  },
  {
   "cell_type": "markdown",
   "id": "75cea87b",
   "metadata": {},
   "source": [
    "1. When we conduct a bootstrap resample, what size resample should we draw from our sample? Why? Hint: There is no unique answer to the size question only rules of thumb. When you think about the why, go back to consult our discussion on why random sampling works in unit 2."
   ]
  },
  {
   "cell_type": "markdown",
   "id": "d5927410",
   "metadata": {},
   "source": [
    "We should aim for a large resample in the order of magnitude of about more than 1000, ideally 5000 to 10000. Why? This works because by the law of averages, when we repeat a random experiment very often under identical conditions, the relative frequency of an event gets closer to the actual probability of this event occuring. This is also referred to as the law of averages (see unit 3 and the discussion of random sampling there)"
   ]
  },
  {
   "cell_type": "markdown",
   "id": "e21dc948",
   "metadata": {},
   "source": [
    "2. Why do we need to sample with replacement?"
   ]
  },
  {
   "cell_type": "markdown",
   "id": "2e1e1505",
   "metadata": {},
   "source": [
    "The idea is that the sample is a rough representation of the population. When we resample \n",
    "randomly each element at every resample needs to have the same chance of ending up in the resample. This is why\n",
    "at every draw we put all the data back in the sample before we draw again."
   ]
  },
  {
   "cell_type": "markdown",
   "id": "e1b07d20",
   "metadata": {},
   "source": [
    "3. When we conduct a bootstrap resample, what is the underlying assumption/reasoning for resampling from\n",
    "our sample? Why does it work?"
   ]
  },
  {
   "cell_type": "markdown",
   "id": "6dfc02b3",
   "metadata": {},
   "source": [
    "The underlying reasoning is that the sample is a rough representation of the population in that it has \n",
    "a similar distribution. Thus when we repeatedly draw at random from the sample we will be the law of averages approach the distribtion of the population as the number of resamples grows larger."
   ]
  },
  {
   "cell_type": "markdown",
   "id": "d03653e8",
   "metadata": {},
   "source": [
    "## Exercises R:"
   ]
  },
  {
   "cell_type": "markdown",
   "id": "0a24309c",
   "metadata": {},
   "source": [
    "### Exercise 1: A toy problem for practicing iteration."
   ]
  },
  {
   "cell_type": "markdown",
   "id": "21cb38f4",
   "metadata": {},
   "source": [
    "Load the pearson height data from the `JWL`package and transform the data to standard units using a for loop.\n",
    "Hint: You will need a function and an interation over the columns of the dataframe."
   ]
  },
  {
   "cell_type": "code",
   "execution_count": 7,
   "id": "d2b78c54",
   "metadata": {},
   "outputs": [
    {
     "data": {
      "text/html": [
       "<table class=\"dataframe\">\n",
       "<caption>A spec_tbl_df: 6 × 2</caption>\n",
       "<thead>\n",
       "\t<tr><th></th><th scope=col>Father</th><th scope=col>Son</th></tr>\n",
       "\t<tr><th></th><th scope=col>&lt;dbl&gt;</th><th scope=col>&lt;dbl&gt;</th></tr>\n",
       "</thead>\n",
       "<tbody>\n",
       "\t<tr><th scope=row>1</th><td>65.0</td><td>59.8</td></tr>\n",
       "\t<tr><th scope=row>2</th><td>63.3</td><td>63.2</td></tr>\n",
       "\t<tr><th scope=row>3</th><td>65.0</td><td>63.3</td></tr>\n",
       "\t<tr><th scope=row>4</th><td>65.8</td><td>62.8</td></tr>\n",
       "\t<tr><th scope=row>5</th><td>61.1</td><td>64.3</td></tr>\n",
       "\t<tr><th scope=row>6</th><td>63.0</td><td>64.2</td></tr>\n",
       "</tbody>\n",
       "</table>\n"
      ],
      "text/latex": [
       "A spec\\_tbl\\_df: 6 × 2\n",
       "\\begin{tabular}{r|ll}\n",
       "  & Father & Son\\\\\n",
       "  & <dbl> & <dbl>\\\\\n",
       "\\hline\n",
       "\t1 & 65.0 & 59.8\\\\\n",
       "\t2 & 63.3 & 63.2\\\\\n",
       "\t3 & 65.0 & 63.3\\\\\n",
       "\t4 & 65.8 & 62.8\\\\\n",
       "\t5 & 61.1 & 64.3\\\\\n",
       "\t6 & 63.0 & 64.2\\\\\n",
       "\\end{tabular}\n"
      ],
      "text/markdown": [
       "\n",
       "A spec_tbl_df: 6 × 2\n",
       "\n",
       "| <!--/--> | Father &lt;dbl&gt; | Son &lt;dbl&gt; |\n",
       "|---|---|---|\n",
       "| 1 | 65.0 | 59.8 |\n",
       "| 2 | 63.3 | 63.2 |\n",
       "| 3 | 65.0 | 63.3 |\n",
       "| 4 | 65.8 | 62.8 |\n",
       "| 5 | 61.1 | 64.3 |\n",
       "| 6 | 63.0 | 64.2 |\n",
       "\n"
      ],
      "text/plain": [
       "  Father Son \n",
       "1 65.0   59.8\n",
       "2 63.3   63.2\n",
       "3 65.0   63.3\n",
       "4 65.8   62.8\n",
       "5 61.1   64.3\n",
       "6 63.0   64.2"
      ]
     },
     "metadata": {},
     "output_type": "display_data"
    }
   ],
   "source": [
    "library(JWL)\n",
    "data  <- pearson\n",
    "head(data)"
   ]
  },
  {
   "cell_type": "code",
   "execution_count": 11,
   "id": "08a8a0f6",
   "metadata": {},
   "outputs": [],
   "source": [
    "# Function to nomralize any column i\n",
    "\n",
    "rescale  <- function(data, i){\n",
    "    \n",
    "    m  <- mean(data[ ,i])\n",
    "    s  <- sd(data[, i])\n",
    "    \n",
    "    (data[ ,i] - m)/s\n",
    "    \n",
    "}"
   ]
  },
  {
   "cell_type": "code",
   "execution_count": 25,
   "id": "a56fa718",
   "metadata": {},
   "outputs": [
    {
     "data": {
      "text/html": [
       "<table class=\"dataframe\">\n",
       "<caption>A data.frame: 6 × 2</caption>\n",
       "<thead>\n",
       "\t<tr><th></th><th scope=col>Father</th><th scope=col>Son</th></tr>\n",
       "\t<tr><th></th><th scope=col>&lt;dbl&gt;</th><th scope=col>&lt;dbl&gt;</th></tr>\n",
       "</thead>\n",
       "<tbody>\n",
       "\t<tr><th scope=row>1</th><td>-0.9785130</td><td>-3.154694</td></tr>\n",
       "\t<tr><th scope=row>2</th><td>-1.5976343</td><td>-1.947391</td></tr>\n",
       "\t<tr><th scope=row>3</th><td>-0.9785130</td><td>-1.911882</td></tr>\n",
       "\t<tr><th scope=row>4</th><td>-0.6871618</td><td>-2.089426</td></tr>\n",
       "\t<tr><th scope=row>5</th><td>-2.3988501</td><td>-1.556793</td></tr>\n",
       "\t<tr><th scope=row>6</th><td>-1.7068910</td><td>-1.592302</td></tr>\n",
       "</tbody>\n",
       "</table>\n"
      ],
      "text/latex": [
       "A data.frame: 6 × 2\n",
       "\\begin{tabular}{r|ll}\n",
       "  & Father & Son\\\\\n",
       "  & <dbl> & <dbl>\\\\\n",
       "\\hline\n",
       "\t1 & -0.9785130 & -3.154694\\\\\n",
       "\t2 & -1.5976343 & -1.947391\\\\\n",
       "\t3 & -0.9785130 & -1.911882\\\\\n",
       "\t4 & -0.6871618 & -2.089426\\\\\n",
       "\t5 & -2.3988501 & -1.556793\\\\\n",
       "\t6 & -1.7068910 & -1.592302\\\\\n",
       "\\end{tabular}\n"
      ],
      "text/markdown": [
       "\n",
       "A data.frame: 6 × 2\n",
       "\n",
       "| <!--/--> | Father &lt;dbl&gt; | Son &lt;dbl&gt; |\n",
       "|---|---|---|\n",
       "| 1 | -0.9785130 | -3.154694 |\n",
       "| 2 | -1.5976343 | -1.947391 |\n",
       "| 3 | -0.9785130 | -1.911882 |\n",
       "| 4 | -0.6871618 | -2.089426 |\n",
       "| 5 | -2.3988501 | -1.556793 |\n",
       "| 6 | -1.7068910 | -1.592302 |\n",
       "\n"
      ],
      "text/plain": [
       "  Father     Son      \n",
       "1 -0.9785130 -3.154694\n",
       "2 -1.5976343 -1.947391\n",
       "3 -0.9785130 -1.911882\n",
       "4 -0.6871618 -2.089426\n",
       "5 -2.3988501 -1.556793\n",
       "6 -1.7068910 -1.592302"
      ]
     },
     "metadata": {},
     "output_type": "display_data"
    }
   ],
   "source": [
    "output  <- vector(\"list\", ncol(data))\n",
    "\n",
    "for(i in seq_along(1:ncol(data))){\n",
    "    \n",
    "    output[[i]]  <- rescale(data , i)\n",
    "    \n",
    "    res  <- as.data.frame(do.call(cbind, output))\n",
    "    \n",
    "    names(res)  \n",
    "}\n",
    "\n",
    "names(res)  <- c(\"Father\", \"Son\")\n",
    "head(res)"
   ]
  },
  {
   "cell_type": "code",
   "execution_count": 26,
   "id": "7d49ae3d",
   "metadata": {},
   "outputs": [
    {
     "data": {
      "text/html": [
       "-1.31100560022995e-15"
      ],
      "text/latex": [
       "-1.31100560022995e-15"
      ],
      "text/markdown": [
       "-1.31100560022995e-15"
      ],
      "text/plain": [
       "[1] -1.311006e-15"
      ]
     },
     "metadata": {},
     "output_type": "display_data"
    },
    {
     "data": {
      "text/html": [
       "1"
      ],
      "text/latex": [
       "1"
      ],
      "text/markdown": [
       "1"
      ],
      "text/plain": [
       "[1] 1"
      ]
     },
     "metadata": {},
     "output_type": "display_data"
    },
    {
     "data": {
      "text/html": [
       "-1.33732395422732e-15"
      ],
      "text/latex": [
       "-1.33732395422732e-15"
      ],
      "text/markdown": [
       "-1.33732395422732e-15"
      ],
      "text/plain": [
       "[1] -1.337324e-15"
      ]
     },
     "metadata": {},
     "output_type": "display_data"
    },
    {
     "data": {
      "text/html": [
       "1"
      ],
      "text/latex": [
       "1"
      ],
      "text/markdown": [
       "1"
      ],
      "text/plain": [
       "[1] 1"
      ]
     },
     "metadata": {},
     "output_type": "display_data"
    }
   ],
   "source": [
    "# Check results\n",
    "\n",
    "mean(res$Father)\n",
    "sd(res$Father)\n",
    "\n",
    "mean(res$Son)\n",
    "sd(res$Son)"
   ]
  },
  {
   "cell_type": "markdown",
   "id": "2459c757",
   "metadata": {},
   "source": [
    "### Exercise 2: Bootstrapped interquartile range of height data"
   ]
  },
  {
   "cell_type": "markdown",
   "id": "05963295",
   "metadata": {},
   "source": [
    "To practice the bootstrapping technique we learned in this unit, let us load the human height data `socr_height_weight` once again from the JWL package. Take a sample of 5000 of the height data and compute the interquartile range. Implement a bootstrap with 10000 resamples to quantify the uncertainty in the sample inter quartile range for the inter quartile range, i.e. the difference between the 25 and the 75 percentile of the height \n",
    "distribution. Compute the range in which 95 % of the inter-quartile-ranges lie. You can leave the data for this exercise in the original units of inches. Hint: For the interquartile range consult the passage on percentiles in unit 3. If you do 10000 bootstraps this might take a while in times of computation. As long as the `In [*]` cell has a star in the brackets and not a number, the computation is still going on. So you will need a bit of patience for computing this exercise."
   ]
  },
  {
   "cell_type": "code",
   "execution_count": 28,
   "id": "d930a5f0",
   "metadata": {},
   "outputs": [
    {
     "data": {
      "text/html": [
       "<table class=\"dataframe\">\n",
       "<caption>A data.frame: 6 × 3</caption>\n",
       "<thead>\n",
       "\t<tr><th></th><th scope=col>Index</th><th scope=col>Height</th><th scope=col>Weight</th></tr>\n",
       "\t<tr><th></th><th scope=col>&lt;dbl&gt;</th><th scope=col>&lt;dbl&gt;</th><th scope=col>&lt;dbl&gt;</th></tr>\n",
       "</thead>\n",
       "<tbody>\n",
       "\t<tr><th scope=row>2</th><td>1</td><td>65.78331</td><td>112.9925</td></tr>\n",
       "\t<tr><th scope=row>3</th><td>2</td><td>71.51521</td><td>136.4873</td></tr>\n",
       "\t<tr><th scope=row>4</th><td>3</td><td>69.39874</td><td>153.0269</td></tr>\n",
       "\t<tr><th scope=row>5</th><td>4</td><td>68.21660</td><td>142.3354</td></tr>\n",
       "\t<tr><th scope=row>6</th><td>5</td><td>67.78781</td><td>144.2971</td></tr>\n",
       "\t<tr><th scope=row>7</th><td>6</td><td>68.69784</td><td>123.3024</td></tr>\n",
       "</tbody>\n",
       "</table>\n"
      ],
      "text/latex": [
       "A data.frame: 6 × 3\n",
       "\\begin{tabular}{r|lll}\n",
       "  & Index & Height & Weight\\\\\n",
       "  & <dbl> & <dbl> & <dbl>\\\\\n",
       "\\hline\n",
       "\t2 & 1 & 65.78331 & 112.9925\\\\\n",
       "\t3 & 2 & 71.51521 & 136.4873\\\\\n",
       "\t4 & 3 & 69.39874 & 153.0269\\\\\n",
       "\t5 & 4 & 68.21660 & 142.3354\\\\\n",
       "\t6 & 5 & 67.78781 & 144.2971\\\\\n",
       "\t7 & 6 & 68.69784 & 123.3024\\\\\n",
       "\\end{tabular}\n"
      ],
      "text/markdown": [
       "\n",
       "A data.frame: 6 × 3\n",
       "\n",
       "| <!--/--> | Index &lt;dbl&gt; | Height &lt;dbl&gt; | Weight &lt;dbl&gt; |\n",
       "|---|---|---|---|\n",
       "| 2 | 1 | 65.78331 | 112.9925 |\n",
       "| 3 | 2 | 71.51521 | 136.4873 |\n",
       "| 4 | 3 | 69.39874 | 153.0269 |\n",
       "| 5 | 4 | 68.21660 | 142.3354 |\n",
       "| 6 | 5 | 67.78781 | 144.2971 |\n",
       "| 7 | 6 | 68.69784 | 123.3024 |\n",
       "\n"
      ],
      "text/plain": [
       "  Index Height   Weight  \n",
       "2 1     65.78331 112.9925\n",
       "3 2     71.51521 136.4873\n",
       "4 3     69.39874 153.0269\n",
       "5 4     68.21660 142.3354\n",
       "6 5     67.78781 144.2971\n",
       "7 6     68.69784 123.3024"
      ]
     },
     "metadata": {},
     "output_type": "display_data"
    }
   ],
   "source": [
    "library(JWL)\n",
    "dat  <- socr_height_weight\n",
    "head(dat)"
   ]
  },
  {
   "cell_type": "code",
   "execution_count": 30,
   "id": "6b75bd2a",
   "metadata": {},
   "outputs": [
    {
     "data": {
      "text/html": [
       "2.60910749999999"
      ],
      "text/latex": [
       "2.60910749999999"
      ],
      "text/markdown": [
       "2.60910749999999"
      ],
      "text/plain": [
       "[1] 2.609107"
      ]
     },
     "metadata": {},
     "output_type": "display_data"
    }
   ],
   "source": [
    "# Take a sample of 5000 Height data from `socr_height_weight`\n",
    "\n",
    "samp <- dat[sample(x = 1:nrow(dat), size = 5000, replace = T), ]\n",
    "IQR(samp$Height)"
   ]
  },
  {
   "cell_type": "code",
   "execution_count": 41,
   "id": "b6777c3e",
   "metadata": {},
   "outputs": [
    {
     "data": {
      "text/html": [
       "<style>\n",
       ".dl-inline {width: auto; margin:0; padding: 0}\n",
       ".dl-inline>dt, .dl-inline>dd {float: none; width: auto; display: inline-block}\n",
       ".dl-inline>dt::after {content: \":\\0020\"; padding-right: .5ex}\n",
       ".dl-inline>dt:not(:first-of-type) {padding-left: .5ex}\n",
       "</style><dl class=dl-inline><dt>2.5%</dt><dd>2.53</dd><dt>97.5%</dt><dd>2.69</dd></dl>\n"
      ],
      "text/latex": [
       "\\begin{description*}\n",
       "\\item[2.5\\textbackslash{}\\%] 2.53\n",
       "\\item[97.5\\textbackslash{}\\%] 2.69\n",
       "\\end{description*}\n"
      ],
      "text/markdown": [
       "2.5%\n",
       ":   2.5397.5%\n",
       ":   2.69\n",
       "\n"
      ],
      "text/plain": [
       " 2.5% 97.5% \n",
       " 2.53  2.69 "
      ]
     },
     "metadata": {},
     "output_type": "display_data"
    }
   ],
   "source": [
    "# bootstrap\n",
    "\n",
    "output  <- vector(\"double\", length = 10000)\n",
    "\n",
    "for(i in seq_along(1:10000)){\n",
    "    \n",
    "    aux  <- samp[sample(1:nrow(samp), nrow(samp), replace = T), ]\n",
    "    \n",
    "    output[[i]] <- IQR(aux$Height)\n",
    "    \n",
    "}\n",
    "\n",
    "round(quantile(output, c(0.025, 0.975)),2)"
   ]
  },
  {
   "cell_type": "markdown",
   "id": "55b64042",
   "metadata": {},
   "source": [
    "95 % of the IQRs are between 2.53 and 2.69 inches of Height. We might do a histirgram of the sampled statistics showing the dofferent IQRs on the x-axis and the Frequency on the y-axis."
   ]
  },
  {
   "cell_type": "code",
   "execution_count": 42,
   "id": "459545a7",
   "metadata": {},
   "outputs": [
    {
     "data": {
      "image/png": "[encoded data removed]",
      "text/plain": [
       "Plot with title “Histogram of output”"
      ]
     },
     "metadata": {
      "image/png": {
       "height": 420,
       "width": 420
      }
     },
     "output_type": "display_data"
    }
   ],
   "source": [
    "hist(output)"
   ]
  },
  {
   "cell_type": "markdown",
   "id": "44b28e5a",
   "metadata": {},
   "source": [
    "## Project People count"
   ]
  },
  {
   "cell_type": "markdown",
   "id": "69040477",
   "metadata": {},
   "source": [
    "### Quantifying the uncertainty related to our mean age estimates of a country"
   ]
  },
  {
   "cell_type": "markdown",
   "id": "181bb8c9",
   "metadata": {},
   "source": [
    "In our project in unit 2 we estimated the mean age of the\n",
    "population in Kenya, the United States and Japan as well as in\n",
    "your own country in the year 2022. In unit 3 we eatimated the median age for this\n",
    "year. In this project we will leverage our\n",
    "knowledge of the bootstrap to attach some uncertainty interval\n",
    "to our estimate. Let us use Kenya as an example"
   ]
  },
  {
   "cell_type": "markdown",
   "id": "f449a008",
   "metadata": {},
   "source": [
    "1. Filtering the data for Kenya: This is a repitation of what we have done already previously. Take the data `population_statistics_by_age_and_sex` from the `JWL` package and store it in an R object. Check whether the data you get in this way is what you want."
   ]
  },
  {
   "cell_type": "code",
   "execution_count": 3,
   "id": "3871e983",
   "metadata": {},
   "outputs": [
    {
     "data": {
      "text/html": [
       "<table class=\"dataframe\">\n",
       "<caption>A tibble: 6 × 6</caption>\n",
       "<thead>\n",
       "\t<tr><th></th><th scope=col>Country</th><th scope=col>ISO2</th><th scope=col>Year</th><th scope=col>Sex</th><th scope=col>Age</th><th scope=col>POP</th></tr>\n",
       "\t<tr><th></th><th scope=col>&lt;fct&gt;</th><th scope=col>&lt;fct&gt;</th><th scope=col>&lt;dbl&gt;</th><th scope=col>&lt;fct&gt;</th><th scope=col>&lt;fct&gt;</th><th scope=col>&lt;dbl&gt;</th></tr>\n",
       "</thead>\n",
       "<tbody>\n",
       "\t<tr><th scope=row>1</th><td>Andorra</td><td>AD</td><td>1950</td><td>F</td><td>0-4  </td><td>NA</td></tr>\n",
       "\t<tr><th scope=row>2</th><td>Andorra</td><td>AD</td><td>1950</td><td>F</td><td>5-9  </td><td>NA</td></tr>\n",
       "\t<tr><th scope=row>3</th><td>Andorra</td><td>AD</td><td>1950</td><td>F</td><td>10-14</td><td>NA</td></tr>\n",
       "\t<tr><th scope=row>4</th><td>Andorra</td><td>AD</td><td>1950</td><td>F</td><td>15-19</td><td>NA</td></tr>\n",
       "\t<tr><th scope=row>5</th><td>Andorra</td><td>AD</td><td>1950</td><td>F</td><td>20-24</td><td>NA</td></tr>\n",
       "\t<tr><th scope=row>6</th><td>Andorra</td><td>AD</td><td>1950</td><td>F</td><td>25-29</td><td>NA</td></tr>\n",
       "</tbody>\n",
       "</table>\n"
      ],
      "text/latex": [
       "A tibble: 6 × 6\n",
       "\\begin{tabular}{r|llllll}\n",
       "  & Country & ISO2 & Year & Sex & Age & POP\\\\\n",
       "  & <fct> & <fct> & <dbl> & <fct> & <fct> & <dbl>\\\\\n",
       "\\hline\n",
       "\t1 & Andorra & AD & 1950 & F & 0-4   & NA\\\\\n",
       "\t2 & Andorra & AD & 1950 & F & 5-9   & NA\\\\\n",
       "\t3 & Andorra & AD & 1950 & F & 10-14 & NA\\\\\n",
       "\t4 & Andorra & AD & 1950 & F & 15-19 & NA\\\\\n",
       "\t5 & Andorra & AD & 1950 & F & 20-24 & NA\\\\\n",
       "\t6 & Andorra & AD & 1950 & F & 25-29 & NA\\\\\n",
       "\\end{tabular}\n"
      ],
      "text/markdown": [
       "\n",
       "A tibble: 6 × 6\n",
       "\n",
       "| <!--/--> | Country &lt;fct&gt; | ISO2 &lt;fct&gt; | Year &lt;dbl&gt; | Sex &lt;fct&gt; | Age &lt;fct&gt; | POP &lt;dbl&gt; |\n",
       "|---|---|---|---|---|---|---|\n",
       "| 1 | Andorra | AD | 1950 | F | 0-4   | NA |\n",
       "| 2 | Andorra | AD | 1950 | F | 5-9   | NA |\n",
       "| 3 | Andorra | AD | 1950 | F | 10-14 | NA |\n",
       "| 4 | Andorra | AD | 1950 | F | 15-19 | NA |\n",
       "| 5 | Andorra | AD | 1950 | F | 20-24 | NA |\n",
       "| 6 | Andorra | AD | 1950 | F | 25-29 | NA |\n",
       "\n"
      ],
      "text/plain": [
       "  Country ISO2 Year Sex Age   POP\n",
       "1 Andorra AD   1950 F   0-4   NA \n",
       "2 Andorra AD   1950 F   5-9   NA \n",
       "3 Andorra AD   1950 F   10-14 NA \n",
       "4 Andorra AD   1950 F   15-19 NA \n",
       "5 Andorra AD   1950 F   20-24 NA \n",
       "6 Andorra AD   1950 F   25-29 NA "
      ]
     },
     "metadata": {},
     "output_type": "display_data"
    }
   ],
   "source": [
    "library(JWL)\n",
    "dat <- population_statistics_by_age_and_sex\n",
    "head(dat)"
   ]
  },
  {
   "cell_type": "code",
   "execution_count": 15,
   "id": "1cd66d6b",
   "metadata": {},
   "outputs": [
    {
     "data": {
      "text/html": [
       "<table class=\"dataframe\">\n",
       "<caption>A tibble: 6 × 6</caption>\n",
       "<thead>\n",
       "\t<tr><th></th><th scope=col>Country</th><th scope=col>ISO2</th><th scope=col>Year</th><th scope=col>Sex</th><th scope=col>Age</th><th scope=col>POP</th></tr>\n",
       "\t<tr><th></th><th scope=col>&lt;fct&gt;</th><th scope=col>&lt;fct&gt;</th><th scope=col>&lt;dbl&gt;</th><th scope=col>&lt;fct&gt;</th><th scope=col>&lt;fct&gt;</th><th scope=col>&lt;dbl&gt;</th></tr>\n",
       "</thead>\n",
       "<tbody>\n",
       "\t<tr><th scope=row>612921</th><td>Kenya</td><td>KE</td><td>2022</td><td>F</td><td>0-4  </td><td>3487490</td></tr>\n",
       "\t<tr><th scope=row>612922</th><td>Kenya</td><td>KE</td><td>2022</td><td>F</td><td>5-9  </td><td>3404421</td></tr>\n",
       "\t<tr><th scope=row>612923</th><td>Kenya</td><td>KE</td><td>2022</td><td>F</td><td>10-14</td><td>3444606</td></tr>\n",
       "\t<tr><th scope=row>612924</th><td>Kenya</td><td>KE</td><td>2022</td><td>F</td><td>15-19</td><td>3225971</td></tr>\n",
       "\t<tr><th scope=row>612925</th><td>Kenya</td><td>KE</td><td>2022</td><td>F</td><td>20-24</td><td>2656730</td></tr>\n",
       "\t<tr><th scope=row>612926</th><td>Kenya</td><td>KE</td><td>2022</td><td>F</td><td>25-29</td><td>2139208</td></tr>\n",
       "</tbody>\n",
       "</table>\n"
      ],
      "text/latex": [
       "A tibble: 6 × 6\n",
       "\\begin{tabular}{r|llllll}\n",
       "  & Country & ISO2 & Year & Sex & Age & POP\\\\\n",
       "  & <fct> & <fct> & <dbl> & <fct> & <fct> & <dbl>\\\\\n",
       "\\hline\n",
       "\t612921 & Kenya & KE & 2022 & F & 0-4   & 3487490\\\\\n",
       "\t612922 & Kenya & KE & 2022 & F & 5-9   & 3404421\\\\\n",
       "\t612923 & Kenya & KE & 2022 & F & 10-14 & 3444606\\\\\n",
       "\t612924 & Kenya & KE & 2022 & F & 15-19 & 3225971\\\\\n",
       "\t612925 & Kenya & KE & 2022 & F & 20-24 & 2656730\\\\\n",
       "\t612926 & Kenya & KE & 2022 & F & 25-29 & 2139208\\\\\n",
       "\\end{tabular}\n"
      ],
      "text/markdown": [
       "\n",
       "A tibble: 6 × 6\n",
       "\n",
       "| <!--/--> | Country &lt;fct&gt; | ISO2 &lt;fct&gt; | Year &lt;dbl&gt; | Sex &lt;fct&gt; | Age &lt;fct&gt; | POP &lt;dbl&gt; |\n",
       "|---|---|---|---|---|---|---|\n",
       "| 612921 | Kenya | KE | 2022 | F | 0-4   | 3487490 |\n",
       "| 612922 | Kenya | KE | 2022 | F | 5-9   | 3404421 |\n",
       "| 612923 | Kenya | KE | 2022 | F | 10-14 | 3444606 |\n",
       "| 612924 | Kenya | KE | 2022 | F | 15-19 | 3225971 |\n",
       "| 612925 | Kenya | KE | 2022 | F | 20-24 | 2656730 |\n",
       "| 612926 | Kenya | KE | 2022 | F | 25-29 | 2139208 |\n",
       "\n"
      ],
      "text/plain": [
       "       Country ISO2 Year Sex Age   POP    \n",
       "612921 Kenya   KE   2022 F   0-4   3487490\n",
       "612922 Kenya   KE   2022 F   5-9   3404421\n",
       "612923 Kenya   KE   2022 F   10-14 3444606\n",
       "612924 Kenya   KE   2022 F   15-19 3225971\n",
       "612925 Kenya   KE   2022 F   20-24 2656730\n",
       "612926 Kenya   KE   2022 F   25-29 2139208"
      ]
     },
     "metadata": {},
     "output_type": "display_data"
    }
   ],
   "source": [
    "data  <- dat[dat$Country == \"Kenya\" & dat$Year == 2022, ]\n",
    "\n",
    "head(data)"
   ]
  },
  {
   "cell_type": "markdown",
   "id": "b8be8317",
   "metadata": {},
   "source": [
    "2. Implement a bootstrap for the mean age in these countries using your previous\n",
    "results and the techniques you learned in this unit and report the bounds that\n",
    "contain 95 % of these estimates based on 5000 resamples from the appropriate distribution."
   ]
  },
  {
   "cell_type": "markdown",
   "id": "4146bbc1",
   "metadata": {},
   "source": [
    "First we compute the estimated mean age by using the idea of approximating the age in each age group by the\n",
    "mid point of the age interval and multiply this with the population number. This gives us an estimate of the\n",
    "number of people with this estimated age in an age group. Adding up over age groups and dividing by the total\n",
    "population number gives us the mean age. We can create this approximation column and add it to the dataframe to\n",
    "base the resampling distribution on this distribution."
   ]
  },
  {
   "cell_type": "markdown",
   "id": "6d1f2cd1",
   "metadata": {},
   "source": [
    "Let's start with Kenya:"
   ]
  },
  {
   "cell_type": "code",
   "execution_count": 16,
   "id": "00862541",
   "metadata": {},
   "outputs": [
    {
     "data": {
      "text/html": [
       "<table class=\"dataframe\">\n",
       "<caption>A tibble: 6 × 7</caption>\n",
       "<thead>\n",
       "\t<tr><th></th><th scope=col>Country</th><th scope=col>ISO2</th><th scope=col>Year</th><th scope=col>Sex</th><th scope=col>Age</th><th scope=col>POP</th><th scope=col>distr</th></tr>\n",
       "\t<tr><th></th><th scope=col>&lt;fct&gt;</th><th scope=col>&lt;fct&gt;</th><th scope=col>&lt;dbl&gt;</th><th scope=col>&lt;fct&gt;</th><th scope=col>&lt;fct&gt;</th><th scope=col>&lt;dbl&gt;</th><th scope=col>&lt;dbl&gt;</th></tr>\n",
       "</thead>\n",
       "<tbody>\n",
       "\t<tr><th scope=row>612921</th><td>Kenya</td><td>KE</td><td>2022</td><td>F</td><td>0-4  </td><td>3487490</td><td> 6974980</td></tr>\n",
       "\t<tr><th scope=row>612922</th><td>Kenya</td><td>KE</td><td>2022</td><td>F</td><td>5-9  </td><td>3404421</td><td>23830947</td></tr>\n",
       "\t<tr><th scope=row>612923</th><td>Kenya</td><td>KE</td><td>2022</td><td>F</td><td>10-14</td><td>3444606</td><td>41335272</td></tr>\n",
       "\t<tr><th scope=row>612924</th><td>Kenya</td><td>KE</td><td>2022</td><td>F</td><td>15-19</td><td>3225971</td><td>54841507</td></tr>\n",
       "\t<tr><th scope=row>612925</th><td>Kenya</td><td>KE</td><td>2022</td><td>F</td><td>20-24</td><td>2656730</td><td>58448060</td></tr>\n",
       "\t<tr><th scope=row>612926</th><td>Kenya</td><td>KE</td><td>2022</td><td>F</td><td>25-29</td><td>2139208</td><td>57758616</td></tr>\n",
       "</tbody>\n",
       "</table>\n"
      ],
      "text/latex": [
       "A tibble: 6 × 7\n",
       "\\begin{tabular}{r|lllllll}\n",
       "  & Country & ISO2 & Year & Sex & Age & POP & distr\\\\\n",
       "  & <fct> & <fct> & <dbl> & <fct> & <fct> & <dbl> & <dbl>\\\\\n",
       "\\hline\n",
       "\t612921 & Kenya & KE & 2022 & F & 0-4   & 3487490 &  6974980\\\\\n",
       "\t612922 & Kenya & KE & 2022 & F & 5-9   & 3404421 & 23830947\\\\\n",
       "\t612923 & Kenya & KE & 2022 & F & 10-14 & 3444606 & 41335272\\\\\n",
       "\t612924 & Kenya & KE & 2022 & F & 15-19 & 3225971 & 54841507\\\\\n",
       "\t612925 & Kenya & KE & 2022 & F & 20-24 & 2656730 & 58448060\\\\\n",
       "\t612926 & Kenya & KE & 2022 & F & 25-29 & 2139208 & 57758616\\\\\n",
       "\\end{tabular}\n"
      ],
      "text/markdown": [
       "\n",
       "A tibble: 6 × 7\n",
       "\n",
       "| <!--/--> | Country &lt;fct&gt; | ISO2 &lt;fct&gt; | Year &lt;dbl&gt; | Sex &lt;fct&gt; | Age &lt;fct&gt; | POP &lt;dbl&gt; | distr &lt;dbl&gt; |\n",
       "|---|---|---|---|---|---|---|---|\n",
       "| 612921 | Kenya | KE | 2022 | F | 0-4   | 3487490 |  6974980 |\n",
       "| 612922 | Kenya | KE | 2022 | F | 5-9   | 3404421 | 23830947 |\n",
       "| 612923 | Kenya | KE | 2022 | F | 10-14 | 3444606 | 41335272 |\n",
       "| 612924 | Kenya | KE | 2022 | F | 15-19 | 3225971 | 54841507 |\n",
       "| 612925 | Kenya | KE | 2022 | F | 20-24 | 2656730 | 58448060 |\n",
       "| 612926 | Kenya | KE | 2022 | F | 25-29 | 2139208 | 57758616 |\n",
       "\n"
      ],
      "text/plain": [
       "       Country ISO2 Year Sex Age   POP     distr   \n",
       "612921 Kenya   KE   2022 F   0-4   3487490  6974980\n",
       "612922 Kenya   KE   2022 F   5-9   3404421 23830947\n",
       "612923 Kenya   KE   2022 F   10-14 3444606 41335272\n",
       "612924 Kenya   KE   2022 F   15-19 3225971 54841507\n",
       "612925 Kenya   KE   2022 F   20-24 2656730 58448060\n",
       "612926 Kenya   KE   2022 F   25-29 2139208 57758616"
      ]
     },
     "metadata": {},
     "output_type": "display_data"
    }
   ],
   "source": [
    "# Create a sequence of mid points for the age groups 2,7,12, ..., 97\n",
    "\n",
    "mid  <- seq(2,100,5)\n",
    "\n",
    "\n",
    "# Add the colum which multiplies the age mid point with the population number in that age group. This\n",
    "# approximates the age in say group 80-89 by approximating every members age in this group by 87 and then\n",
    "# multiply this by the population number in this group, giving the sum of the approximate age in this group.\n",
    "\n",
    "data$distr  <-  data$POP*mid\n",
    "\n",
    "head(data)"
   ]
  },
  {
   "cell_type": "markdown",
   "id": "5b438be7",
   "metadata": {},
   "source": [
    "The mid age is then"
   ]
  },
  {
   "cell_type": "code",
   "execution_count": 17,
   "id": "bcf496c0",
   "metadata": {},
   "outputs": [
    {
     "data": {
      "text/html": [
       "24.2350859595261"
      ],
      "text/latex": [
       "24.2350859595261"
      ],
      "text/markdown": [
       "24.2350859595261"
      ],
      "text/plain": [
       "[1] 24.23509"
      ]
     },
     "metadata": {},
     "output_type": "display_data"
    }
   ],
   "source": [
    "sum(data$distr)/sum(data$POP)"
   ]
  },
  {
   "cell_type": "markdown",
   "id": "38b2cd9e",
   "metadata": {},
   "source": [
    "As we should have derived in unit 2."
   ]
  },
  {
   "cell_type": "code",
   "execution_count": 18,
   "id": "95511e90",
   "metadata": {},
   "outputs": [],
   "source": [
    "# construct a bootstrap of the mean age\n",
    "\n",
    "output  <- vector(\"double\", 5000)\n",
    "\n",
    "for(i in seq_along(1:5000)){\n",
    "    \n",
    "    # the resampled dataframe\n",
    "    \n",
    "    aux  <- data[sample(1:nrow(data), nrow(data), replace = T), ]\n",
    "    \n",
    "    # compute the mean age for this resample\n",
    "    \n",
    "    output[[i]]   <- sum(aux$distr)/sum(aux$POP)\n",
    "    \n",
    "}"
   ]
  },
  {
   "cell_type": "code",
   "execution_count": 19,
   "id": "507cf811",
   "metadata": {},
   "outputs": [
    {
     "data": {
      "image/png": "[encoded data removed]",
      "text/plain": [
       "Plot with title “Histogram of output”"
      ]
     },
     "metadata": {
      "image/png": {
       "height": 420,
       "width": 420
      }
     },
     "output_type": "display_data"
    }
   ],
   "source": [
    "# check the result by plotting a historgam\n",
    "\n",
    "hist(output)"
   ]
  },
  {
   "cell_type": "code",
   "execution_count": 20,
   "id": "69014736",
   "metadata": {},
   "outputs": [
    {
     "data": {
      "text/html": [
       "<style>\n",
       ".dl-inline {width: auto; margin:0; padding: 0}\n",
       ".dl-inline>dt, .dl-inline>dd {float: none; width: auto; display: inline-block}\n",
       ".dl-inline>dt::after {content: \":\\0020\"; padding-right: .5ex}\n",
       ".dl-inline>dt:not(:first-of-type) {padding-left: .5ex}\n",
       "</style><dl class=dl-inline><dt>2.5%</dt><dd>18.5100666707467</dd><dt>97.5%</dt><dd>31.6728061316483</dd></dl>\n"
      ],
      "text/latex": [
       "\\begin{description*}\n",
       "\\item[2.5\\textbackslash{}\\%] 18.5100666707467\n",
       "\\item[97.5\\textbackslash{}\\%] 31.6728061316483\n",
       "\\end{description*}\n"
      ],
      "text/markdown": [
       "2.5%\n",
       ":   18.510066670746797.5%\n",
       ":   31.6728061316483\n",
       "\n"
      ],
      "text/plain": [
       "    2.5%    97.5% \n",
       "18.51007 31.67281 "
      ]
     },
     "metadata": {},
     "output_type": "display_data"
    }
   ],
   "source": [
    "# compute the quantiles within which we have 95 %\n",
    "\n",
    "quantile(output, c(0.025, 0.975))"
   ]
  },
  {
   "cell_type": "markdown",
   "id": "1ac8ab13",
   "metadata": {},
   "source": [
    "The mean age we get in this way is quite imprecise and the interval within which the mean age can be is very\n",
    "large, about 12 years. So we see that our approximation is very coarse."
   ]
  },
  {
   "cell_type": "markdown",
   "id": "deb42b38",
   "metadata": {},
   "source": [
    "3. What kind of data would you need to get a more precise estimate. What do you think? Explain in a few sentences."
   ]
  },
  {
   "cell_type": "markdown",
   "id": "21e261e4",
   "metadata": {},
   "source": [
    "For a more precise estimate we would need individual census data giving the age by individual and not by age\n",
    "groups. By the grouping and the group mid point approxiamtion we loose lots of precision."
   ]
  }
 ],
 "metadata": {
  "kernelspec": {
   "display_name": "R",
   "language": "R",
   "name": "ir"
  },
  "language_info": {
   "codemirror_mode": "r",
   "file_extension": ".r",
   "mimetype": "text/x-r-source",
   "name": "R",
   "pygments_lexer": "r",
   "version": "4.3.2"
  }
 },
 "nbformat": 4,
 "nbformat_minor": 5
}
