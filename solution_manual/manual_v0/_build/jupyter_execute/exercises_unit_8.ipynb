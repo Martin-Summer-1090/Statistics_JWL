{
 "cells": [
  {
   "cell_type": "markdown",
   "id": "efd42930",
   "metadata": {},
   "source": [
    "# Exercises: Unit 8 Making discoveries, claiming results"
   ]
  },
  {
   "cell_type": "markdown",
   "id": "ac57e0d4",
   "metadata": {},
   "source": [
    "## Exercise 1: Is the die loaded"
   ]
  },
  {
   "cell_type": "markdown",
   "id": "759783d5",
   "metadata": {},
   "source": [
    "(a) If the die is fair, the total number of spots is like the sum of 100 draws from the box [[1], [2], [3], [4], [5], [6]]. The average of the box is 3.5 and the sd is 1.7, so the expected value of the sum is 350 and the SE is 17. The number of spots is a little over 1 SE above its expected value, which looks like chance variation.\n",
    "\n",
    "(b) The problem can be set up like in (a) but this time the number of spost is over 3 SE its expected value, which does not look like chance variation. This dies is under suspicion of beeing loaded."
   ]
  },
  {
   "cell_type": "markdown",
   "id": "ad302a7e",
   "metadata": {},
   "source": [
    "## Exercise 2: is this plausible?"
   ]
  },
  {
   "cell_type": "markdown",
   "id": "a196b75d",
   "metadata": {},
   "source": [
    "The sd of the box can be estimated as 10, so the SE for the average of 100 draws is estimated as 1. If the average of the box is 20, then the average of the draws is 2.7 SE above the expected value. Not plausible."
   ]
  },
  {
   "cell_type": "markdown",
   "id": "fe0ad74d",
   "metadata": {},
   "source": [
    "## Exercise 3: Which p-value is best?"
   ]
  },
  {
   "cell_type": "markdown",
   "id": "54a0ec43",
   "metadata": {},
   "source": [
    "p = 32% is best for the Null, p = 0.001 is best for the alternative."
   ]
  },
  {
   "cell_type": "markdown",
   "id": "c2bb4fa6",
   "metadata": {},
   "source": [
    "## Exercise 4: Evaluating a flex-time work model"
   ]
  },
  {
   "cell_type": "markdown",
   "id": "6d3c3504",
   "metadata": {},
   "source": [
    "The sample is like 100 draws made at random from a box which has one ticket for each employee, shwoing the number of days the employee was absent. \n",
    "\n",
    "Null hypothesis: the average of the box is 6.3 days. Alternative hypothesis: The average of the box is less than 6.3 days. The standard deviation of the box is estimated as 2.9 days, so the SE for the average is 0.29 days and \n",
    "$z \\approx \\frac{5.5-6.3}{0.29} \\approx -2.8$ and so $p$-value is about 0.3 of 1 % or 0.003. This is string evidence\n",
    "against the null, chance variation will not explain the drop in absenteeism."
   ]
  },
  {
   "cell_type": "markdown",
   "id": "a4e730d4",
   "metadata": {},
   "source": [
    "## Exercise 5: True or False ?"
   ]
  },
  {
   "cell_type": "markdown",
   "id": "05ac7fcf",
   "metadata": {},
   "source": [
    "(a) False. Even if the null hypothesis is truem 1 % of the time the experiment will give a result that is highly significant.\n",
    "(b) false\n",
    "(c) false\n",
    "\n",
    "For bothe see unit 8, some things to bear in mind with p-values."
   ]
  },
  {
   "cell_type": "markdown",
   "id": "480a8e65",
   "metadata": {},
   "source": [
    "## Exercise 6: A test of significance for the missing girls"
   ]
  },
  {
   "cell_type": "markdown",
   "id": "70885ae0",
   "metadata": {},
   "source": [
    "(a) Drawing a sample of 10000 newborns in a country where newborn cohorts are in the order of millions is like drawing at random 10000 times from a 0-1 box with 0-boy and 1-girl without replacement but since the box is so large the \n",
    "distinction does not matter and we can consider the sample as if drawn with replacement.\n",
    "\n",
    "The fraction of girls in the population is unknown. \n",
    "\n",
    "Null hypothesis: The number of girls is 4870. \n",
    "Alternative, the number is smaller.\n",
    "\n",
    "The number of girls is like the sum of draws.\n",
    "\n",
    "(b) z = (4608 - 4870)/49.9 = -5.25, p = 0.00000007604961\n",
    "\n",
    "(c) There are too few girls to explain the share of girls by the natural probabilities. This would be indicative evidence for prenatal selection. \n",
    "\n"
   ]
  },
  {
   "cell_type": "code",
   "execution_count": null,
   "id": "b34bf14c",
   "metadata": {},
   "outputs": [],
   "source": []
  }
 ],
 "metadata": {
  "kernelspec": {
   "display_name": "R",
   "language": "R",
   "name": "ir"
  },
  "language_info": {
   "codemirror_mode": "r",
   "file_extension": ".r",
   "mimetype": "text/x-r-source",
   "name": "R",
   "pygments_lexer": "r",
   "version": "4.3.2"
  }
 },
 "nbformat": 4,
 "nbformat_minor": 5
}