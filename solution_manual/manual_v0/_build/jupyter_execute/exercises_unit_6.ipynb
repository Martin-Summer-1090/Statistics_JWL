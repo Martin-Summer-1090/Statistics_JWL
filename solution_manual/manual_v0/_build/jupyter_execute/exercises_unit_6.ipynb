{
 "cells": [
  {
   "cell_type": "markdown",
   "id": "75fe6c6a",
   "metadata": {},
   "source": [
    "# Exercises: Unit 6, Probability, quantifying uncertainty and variablity"
   ]
  },
  {
   "cell_type": "markdown",
   "id": "6332ff55",
   "metadata": {},
   "source": [
    "## Exercises:"
   ]
  },
  {
   "cell_type": "markdown",
   "id": "e5d6419f",
   "metadata": {},
   "source": [
    "### Exercise 1: Match the numerical and verbal answers\n"
   ]
  },
  {
   "cell_type": "markdown",
   "id": "4c53e882",
   "metadata": {},
   "source": [
    "A computer is programmed to compute various chances. Match the numerical answers with the verbal descripitions (which may b e used more than once)."
   ]
  },
  {
   "cell_type": "markdown",
   "id": "73d83cd9",
   "metadata": {},
   "source": [
    "|      |Numerical answer|      |Verbal description                                    |\n",
    "|:----:|---------------:|-----:|-----------------------------------------------------:|\n",
    "|  (a) | -50 %          | (i)  | This is as likely to happen as not                   |\n",
    "|  (b) |  0 %           | (ii) |  This is very likely to happen but it is not certain |\n",
    "|  (c) |10 %            | (iii)| This won't happen                                    |\n",
    "|  (d) |50 %            | (iv) | This may happen, but it is not likely                |\n",
    "|  (e) |90 %            | ( v) | This will happen for sure                            |\n",
    "|  (f) |100 %           | (vi) | There's a b ug in the program                        |\n",
    "|  (g) |200 %           |      |                                                      |"
   ]
  },
  {
   "cell_type": "markdown",
   "id": "3f0717c6",
   "metadata": {},
   "source": [
    "Answer: (a) (iv), (b) (iii), (c) (iv), (d) (i), (e) (ii), (f) (v), (g) (vi)"
   ]
  },
  {
   "cell_type": "markdown",
   "id": "5c02ff66",
   "metadata": {},
   "source": [
    "### Exercise 2: Which box is better?"
   ]
  },
  {
   "cell_type": "markdown",
   "id": "bc37a522",
   "metadata": {},
   "source": [
    "One hundered tickets will be drawn at random with replacement from one of the two boxes shown below.\n",
    "On each draw, you will be paid the amount shown on the ticket, money. Which box is better and why?"
   ]
  },
  {
   "cell_type": "markdown",
   "id": "bdb48b14",
   "metadata": {},
   "source": [
    "Box 1: [ (1), (2) ]\n",
    "Box 2: [ (1), (3) ]\n",
    "The [] symbolizes the box and () symbolizes the tickets and the number in () is what is shown on the ticket."
   ]
  },
  {
   "cell_type": "markdown",
   "id": "55cf7d76",
   "metadata": {},
   "source": [
    "Answer: Box 2, beacause the second ticket in box 2 pays more and the other is the same as in box 1."
   ]
  },
  {
   "cell_type": "markdown",
   "id": "3fb635fe",
   "metadata": {},
   "source": [
    "### Exercise 3: What are the chances?"
   ]
  },
  {
   "cell_type": "markdown",
   "id": "c2c7ca39",
   "metadata": {},
   "source": [
    "Two tickes are drawn at random from the box [(1), (2), (3), (4) ]\n",
    "\n",
    "1. What is the chance that the second tickt is 4 if the draws are without replacement?\n",
    "2. What is the chance that the second ticket is 4, given the first is 2 if the draws are without replacmenet?\n",
    "3. What is the chance that the second tickt is 4 if the draws are with replacement?\n",
    "4. What is the chance that the second tickt is 4 if the draws are with replacement?\n",
    "\n",
    "Hint: It will help figuring out the answer if you draw an event tree. \n"
   ]
  },
  {
   "cell_type": "markdown",
   "id": "5deb50d0",
   "metadata": {},
   "source": [
    "1. This is perhaps the most unituitive one. The answer is 1/4. Think about shuffling the box to bring the tickets\n",
    "   into random order. The 4 has to end up somewhere in the shuffle. There are 4 possible positions and they are\n",
    "   all equally likely, so there is 1 chance in 4 for it to wind up as the second card in the draw. If you find    this strange, you can do a simulation next time you are on the computer and see what you get\n",
    "2. If the first card is a 2 there are three possibilities that the second will be a four, so we have 1/3\n",
    "3. Here we have in total four possibilities that the second card will be a 4, hence 1/4\n",
    "4. This is also 1/4, since we draw with replacement."
   ]
  },
  {
   "cell_type": "markdown",
   "id": "dfabeeb0",
   "metadata": {},
   "source": [
    "### Exercies 4: Rolling a die"
   ]
  },
  {
   "cell_type": "markdown",
   "id": "136488f2",
   "metadata": {},
   "source": [
    "A die is rolled three times. \n",
    "\n",
    "(a) Find the chance that the first roll is a 1\n",
    "\n",
    "(b) Find the chance that first roll is a 1 and the second roll is a 2 and the third roll is a 3."
   ]
  },
  {
   "cell_type": "markdown",
   "id": "7df91f1c",
   "metadata": {},
   "source": [
    "Answer: (a) 1/6, (b) 1/6 1/6 1/6 = 1/216 or about 1/2 %"
   ]
  },
  {
   "cell_type": "markdown",
   "id": "b8619c0b",
   "metadata": {},
   "source": [
    "### Exercise 5: Tossing coins"
   ]
  },
  {
   "cell_type": "markdown",
   "id": "a1d81fe6",
   "metadata": {},
   "source": [
    "A coin is tosse three times-\n",
    "\n",
    "1. What is the chance of getting 3 heads?\n",
    "2. What is the chance of not getting 3 heads?\n",
    "3. What is the chance of getting at least 1 tail.\n",
    "4. What is the chance of getting at least one head?"
   ]
  },
  {
   "cell_type": "markdown",
   "id": "6d2fe2be",
   "metadata": {},
   "source": [
    "Answer:\n",
    "\n",
    "1. 1/8\n",
    "2. 7/8 (1-1/8)\n",
    "3. 7/8, you get at least one tail when you don't get three heads\n",
    "4. 7/8, just switch heads ang tails in 3.\n"
   ]
  },
  {
   "cell_type": "markdown",
   "id": "120cfc94",
   "metadata": {},
   "source": [
    "### Exercise 6: The lost ticket"
   ]
  },
  {
   "cell_type": "markdown",
   "id": "eb9ddfef",
   "metadata": {},
   "source": [
    "Two draws are are made at random without replacement from the box [(1), (2), (3), (4)]. The first ticket is lost, an nobody knows what was written on it. True or false and explain: The two draws are independent."
   ]
  },
  {
   "cell_type": "markdown",
   "id": "2b3751d6",
   "metadata": {},
   "source": [
    "Answer: This is false. It is like saying someone doesn' have temperature because you can't find the thermometer. To figure out whether two things are independent or not, you pretend to know how the first one turned out and then see if the chances for the second one change. "
   ]
  },
  {
   "cell_type": "markdown",
   "id": "63f81a90",
   "metadata": {},
   "source": [
    "### Exercise 7: Claims about age"
   ]
  },
  {
   "cell_type": "markdown",
   "id": "31eb7cc9",
   "metadata": {},
   "source": [
    "In the first project work back in unit 1 we learned from the population data that 50 % of the population in Kenya in 2022 were female (you can check it out at your next computer session). Also 5 % of the population was age group 60 and above. \n",
    "\n",
    "True of false and explain: The percentage of the population consisting of women age 60 and above is 50 % of 5 % or 0.5 * 0.05 or 2.5 %"
   ]
  },
  {
   "cell_type": "markdown",
   "id": "4c44c040",
   "metadata": {},
   "source": [
    "This is false. The calculation assumes that the percentage of women is the same accross all age groups and it isn't: women live longer than men. Actually thepercentage of women age 60 and above is 2.7 % (you can cross check using the data when you are the computer next time)."
   ]
  },
  {
   "cell_type": "markdown",
   "id": "c6bae9be",
   "metadata": {},
   "source": [
    "## Exercises with R"
   ]
  },
  {
   "cell_type": "markdown",
   "id": "2e711afb",
   "metadata": {},
   "source": [
    "### Exercise 1: Simulating the game of craps"
   ]
  },
  {
   "cell_type": "markdown",
   "id": "42164042",
   "metadata": {},
   "source": [
    "Craps is a dice game, where you throw two dice and bet on the outcome of the throws. \n",
    "Write a code that throws two dice and sums up their number and simulate repeating these throws many times.\n",
    "\n",
    "1. What is the most likely outcome in terms of the sum of points the dice show when thrown many times?\n",
    "2. Can you explain why this is the most likely outcome?"
   ]
  },
  {
   "cell_type": "markdown",
   "id": "91805c94",
   "metadata": {},
   "source": [
    "Answer to 1:"
   ]
  },
  {
   "cell_type": "code",
   "execution_count": 1,
   "id": "0464a2c0",
   "metadata": {},
   "outputs": [
    {
     "data": {
      "image/png": "[encoded data removed]",
      "text/plain": [
       "Plot with title “Histogram of sums”"
      ]
     },
     "metadata": {
      "image/png": {
       "height": 420,
       "width": 420
      }
     },
     "output_type": "display_data"
    }
   ],
   "source": [
    "throw_two_dice  <- function(){\n",
    "    \n",
    "    # create a six sided die\n",
    "    \n",
    "    die  <- 1:6\n",
    "    \n",
    "    # use sample with size two without replacement so virtually throw the die twice and store result in  out.\n",
    "    \n",
    "    out <- sample(die, size= 2 , replace = FALSE)\n",
    "    \n",
    "    # add up the outcomes of the two throws\n",
    "    \n",
    "    sum(out)\n",
    "    \n",
    "}\n",
    "\n",
    "# you can either write a for loop or use the repeat function. Let's write a for loop for practice:\n",
    "\n",
    "# number of throws\n",
    "\n",
    "n  <- 10000 \n",
    "\n",
    "# for loop\n",
    "\n",
    "sums  <- vector(\"double\", length  <- n)\n",
    "\n",
    "for(i in seq_along(1:n)){\n",
    "    \n",
    "    \n",
    "    sums[[i]]  <- throw_two_dice()\n",
    "    \n",
    "    \n",
    "}\n",
    "\n",
    "hist(sums, breaks = 12)\n"
   ]
  },
  {
   "cell_type": "markdown",
   "id": "8f069e33",
   "metadata": {},
   "source": [
    "The most likely outcome is 7"
   ]
  },
  {
   "cell_type": "markdown",
   "id": "7a312a05",
   "metadata": {},
   "source": [
    "2. When you go back to the picture with the possible combinations of outcomes in throwing two dice you see that\n",
    "combinations that sum up to 7 must occur most frequently, because there are mor such combinations than others. For example two 1 or two sixes can only occur once in all combinations."
   ]
  },
  {
   "cell_type": "markdown",
   "id": "43f611a1",
   "metadata": {},
   "source": [
    "### Exercise 2: Tossing coins by simulation"
   ]
  },
  {
   "cell_type": "markdown",
   "id": "9bbfb6ac",
   "metadata": {},
   "source": [
    "Write a simulation to find out the answers to pen and paper exercise 5:"
   ]
  },
  {
   "cell_type": "code",
   "execution_count": 2,
   "id": "bc367718",
   "metadata": {},
   "outputs": [
    {
     "data": {
      "text/html": [
       "0.1202"
      ],
      "text/latex": [
       "0.1202"
      ],
      "text/markdown": [
       "0.1202"
      ],
      "text/plain": [
       "[1] 0.1202"
      ]
     },
     "metadata": {},
     "output_type": "display_data"
    }
   ],
   "source": [
    "n  <- 10000\n",
    "\n",
    "tosses  <- vector(\"list\", n)\n",
    "\n",
    "toss_coin  <- function(){\n",
    "    \n",
    "    coin  <- c(\"H\", \"T\")\n",
    "    \n",
    "    sample(coin, 3, replace = TRUE)\n",
    "    \n",
    "}\n",
    "\n",
    "for(i in seq_along(1:n)){\n",
    "    \n",
    "    \n",
    "    tosses[[i]]  <- toss_coin()\n",
    "    \n",
    "}\n",
    "\n",
    "df  <- as.data.frame(do.call(rbind, tosses))\n",
    "\n",
    "names(df) <- c(\"t1\", \"t2\", \"t3\")\n",
    "\n",
    "# count the incidences where all the rows fulfill the condition.\n",
    "\n",
    "\n",
    "sum(df$t1 == \"H\" & df$t2 == \"H\" & df$t3 == \"H\")/n"
   ]
  },
  {
   "cell_type": "markdown",
   "id": "83b8a4ba",
   "metadata": {},
   "source": [
    "This is close to the true probability 0.125. "
   ]
  },
  {
   "cell_type": "markdown",
   "id": "3c261142",
   "metadata": {},
   "source": [
    "## Project people count: The future of humanity in numbers and pictures"
   ]
  },
  {
   "cell_type": "markdown",
   "id": "b14ce887",
   "metadata": {},
   "source": [
    "### The Chances of finding suitable matches"
   ]
  },
  {
   "cell_type": "markdown",
   "id": "75ad93e3",
   "metadata": {},
   "source": [
    "Take the population data of Kenya, Japan and the United States by loading these \n",
    "data from the `JWL`l ibrary.\n",
    "\n",
    "1.) Based on the data how would you assess the chance that you will meet a boy or a girl in your own age group, when you live in Kenya in the US or in Japan?\n",
    "\n",
    "2.) Suppose 25 % of the boys and 20 % of the girls in these countries who are in your age group are interested in studying statistics. How large is the chance to find another girl with whom you could study together, if you are a \n",
    "girl. How high is the chance to find another boy to study together, if you are a boy.\n",
    "\n",
    "3.) How would you asess the chance in these three countries to meet a person older than 85 years?"
   ]
  },
  {
   "cell_type": "code",
   "execution_count": 3,
   "id": "bdc92111",
   "metadata": {},
   "outputs": [],
   "source": [
    "library(JWL)\n",
    "\n",
    "dat  <- population_statistics_by_age_and_sex"
   ]
  },
  {
   "cell_type": "code",
   "execution_count": 4,
   "id": "e08e1e54",
   "metadata": {},
   "outputs": [],
   "source": [
    "# select data for 2022 and for Kenya, US and Japan\n",
    "\n",
    "data  <- dat[dat$Year == 2022 & dat$Country %in% c(\"Kenya\", \"United States of America\", \"Japan\"), ]\n"
   ]
  },
  {
   "cell_type": "markdown",
   "id": "80803774",
   "metadata": {},
   "source": [
    "Assuming I am a boy or a girl in the age group 20-24 and I live in Kenya, I could assess the chance to meet another boy or girl from this age group by computing the relative frequency of the age group in the total population.\n"
   ]
  },
  {
   "cell_type": "code",
   "execution_count": 5,
   "id": "c0032b31",
   "metadata": {},
   "outputs": [
    {
     "data": {
      "text/html": [
       "0.0952608015442511"
      ],
      "text/latex": [
       "0.0952608015442511"
      ],
      "text/markdown": [
       "0.0952608015442511"
      ],
      "text/plain": [
       "[1] 0.0952608"
      ]
     },
     "metadata": {},
     "output_type": "display_data"
    }
   ],
   "source": [
    "# Kenya:\n",
    "\n",
    "my_group  <- data[data$Country == \"Kenya\" & data$Age == \"20-24\", ]\n",
    "\n",
    "sum(my_group$POP)/sum(data[data$Country == \"Kenya\", \"POP\"])"
   ]
  },
  {
   "cell_type": "markdown",
   "id": "bb3e0804",
   "metadata": {},
   "source": [
    "The chance is 10 % that I encounter some human beeing of the same age when I am in Kenya."
   ]
  },
  {
   "cell_type": "code",
   "execution_count": 6,
   "id": "42e4982d",
   "metadata": {},
   "outputs": [
    {
     "data": {
      "text/html": [
       "0.0681448875010024"
      ],
      "text/latex": [
       "0.0681448875010024"
      ],
      "text/markdown": [
       "0.0681448875010024"
      ],
      "text/plain": [
       "[1] 0.06814489"
      ]
     },
     "metadata": {},
     "output_type": "display_data"
    }
   ],
   "source": [
    "# United States\n",
    "\n",
    "my_group  <- data[data$Country == \"United States of America\" & data$Age == \"20-24\", ]\n",
    "\n",
    "sum(my_group$POP)/sum(data[data$Country == \"United States of America\", \"POP\"])"
   ]
  },
  {
   "cell_type": "markdown",
   "id": "9bc59d7d",
   "metadata": {},
   "source": [
    "Here the chances are worse, only 7 %"
   ]
  },
  {
   "cell_type": "code",
   "execution_count": 7,
   "id": "a6f6b431",
   "metadata": {},
   "outputs": [
    {
     "data": {
      "text/html": [
       "0.0480150536978027"
      ],
      "text/latex": [
       "0.0480150536978027"
      ],
      "text/markdown": [
       "0.0480150536978027"
      ],
      "text/plain": [
       "[1] 0.04801505"
      ]
     },
     "metadata": {},
     "output_type": "display_data"
    }
   ],
   "source": [
    "# Japan \n",
    "\n",
    "my_group  <- data[data$Country == \"Japan\" & data$Age == \"20-24\", ]\n",
    "\n",
    "sum(my_group$POP)/sum(data[data$Country == \"Japan\", \"POP\"])"
   ]
  },
  {
   "cell_type": "markdown",
   "id": "90eb84b3",
   "metadata": {},
   "source": [
    "Here the chances are even worse, only 4 %"
   ]
  },
  {
   "cell_type": "markdown",
   "id": "fd1bb612",
   "metadata": {},
   "source": [
    "2. The chance to find a study mate:"
   ]
  },
  {
   "cell_type": "code",
   "execution_count": 8,
   "id": "76482332",
   "metadata": {},
   "outputs": [
    {
     "data": {
      "text/html": [
       "0.0119260287156659"
      ],
      "text/latex": [
       "0.0119260287156659"
      ],
      "text/markdown": [
       "0.0119260287156659"
      ],
      "text/plain": [
       "[1] 0.01192603"
      ]
     },
     "metadata": {},
     "output_type": "display_data"
    }
   ],
   "source": [
    "# Kenya, boys:\n",
    "\n",
    "# Kenya:\n",
    "\n",
    "my_group  <- data[data$Country == \"Kenya\" & data$Age == \"20-24\" & data$Sex == \"M\", ]\n",
    "\n",
    "share <- sum(my_group$POP)/sum(data[data$Country == \"Kenya\", \"POP\"])\n",
    "\n",
    "# of this share 25 % are interested in studying statistics:\n",
    "\n",
    "share*0.25"
   ]
  },
  {
   "cell_type": "markdown",
   "id": "3bf57ad8",
   "metadata": {},
   "source": [
    "The chance is 1 %"
   ]
  },
  {
   "cell_type": "code",
   "execution_count": 9,
   "id": "ed608ea3",
   "metadata": {},
   "outputs": [
    {
     "data": {
      "text/html": [
       "0.00951133733631753"
      ],
      "text/latex": [
       "0.00951133733631753"
      ],
      "text/markdown": [
       "0.00951133733631753"
      ],
      "text/plain": [
       "[1] 0.009511337"
      ]
     },
     "metadata": {},
     "output_type": "display_data"
    }
   ],
   "source": [
    "# Kenya, girls:\n",
    "\n",
    "# Kenya:\n",
    "\n",
    "my_group  <- data[data$Country == \"Kenya\" & data$Age == \"20-24\" & data$Sex == \"F\", ]\n",
    "\n",
    "share <- sum(my_group$POP)/sum(data[data$Country == \"Kenya\", \"POP\"])\n",
    "\n",
    "# of this share 20 % are interested in studying statistics:\n",
    "\n",
    "share*0.20"
   ]
  },
  {
   "cell_type": "markdown",
   "id": "110ac74f",
   "metadata": {},
   "source": [
    "Slightly less but roughly the same chance."
   ]
  },
  {
   "cell_type": "code",
   "execution_count": 10,
   "id": "211b0266",
   "metadata": {},
   "outputs": [
    {
     "data": {
      "text/html": [
       "0.00870501037475944"
      ],
      "text/latex": [
       "0.00870501037475944"
      ],
      "text/markdown": [
       "0.00870501037475944"
      ],
      "text/plain": [
       "[1] 0.00870501"
      ]
     },
     "metadata": {},
     "output_type": "display_data"
    },
    {
     "data": {
      "text/html": [
       "0.00666496920039293"
      ],
      "text/latex": [
       "0.00666496920039293"
      ],
      "text/markdown": [
       "0.00666496920039293"
      ],
      "text/plain": [
       "[1] 0.006664969"
      ]
     },
     "metadata": {},
     "output_type": "display_data"
    }
   ],
   "source": [
    "# US\n",
    "\n",
    "# Boys:\n",
    "\n",
    "my_group  <- data[data$Country == \"United States of America\" & data$Age == \"20-24\" & data$Sex == \"M\", ]\n",
    "\n",
    "share <- sum(my_group$POP)/sum(data[data$Country == \"United States of America\", \"POP\"])\n",
    "\n",
    "# of this share 25 % are interested in studying statistics:\n",
    "\n",
    "share*0.25\n",
    "\n",
    "# Girls\n",
    "\n",
    "my_group  <- data[data$Country == \"United States of America\" & data$Age == \"20-24\" & data$Sex == \"F\", ]\n",
    "\n",
    "share <- sum(my_group$POP)/sum(data[data$Country == \"United States of America\", \"POP\"])\n",
    "\n",
    "# of this share 20 % are interested in studying statistics:\n",
    "\n",
    "share*0.20"
   ]
  },
  {
   "cell_type": "code",
   "execution_count": 11,
   "id": "e691a777",
   "metadata": {},
   "outputs": [
    {
     "data": {
      "text/html": [
       "0.00629662240648575"
      ],
      "text/latex": [
       "0.00629662240648575"
      ],
      "text/markdown": [
       "0.00629662240648575"
      ],
      "text/plain": [
       "[1] 0.006296622"
      ]
     },
     "metadata": {},
     "output_type": "display_data"
    },
    {
     "data": {
      "text/html": [
       "0.00456571281437194"
      ],
      "text/latex": [
       "0.00456571281437194"
      ],
      "text/markdown": [
       "0.00456571281437194"
      ],
      "text/plain": [
       "[1] 0.004565713"
      ]
     },
     "metadata": {},
     "output_type": "display_data"
    }
   ],
   "source": [
    "# Japan\n",
    "\n",
    "# Boys:\n",
    "\n",
    "my_group  <- data[data$Country == \"Japan\" & data$Age == \"20-24\" & data$Sex == \"M\", ]\n",
    "\n",
    "share <- sum(my_group$POP)/sum(data[data$Country == \"Japan\", \"POP\"])\n",
    "\n",
    "# of this share 25 % are interested in studying statistics:\n",
    "\n",
    "share*0.25\n",
    "\n",
    "# Girls\n",
    "\n",
    "my_group  <- data[data$Country == \"Japan\" & data$Age == \"20-24\" & data$Sex == \"F\", ]\n",
    "\n",
    "share <- sum(my_group$POP)/sum(data[data$Country == \"Japan\", \"POP\"])\n",
    "\n",
    "# of this share 20 % are interested in studying statistics:\n",
    "\n",
    "share*0.20"
   ]
  },
  {
   "cell_type": "markdown",
   "id": "d3719478",
   "metadata": {},
   "source": [
    "Chance of meeting somebody older then 85:"
   ]
  },
  {
   "cell_type": "code",
   "execution_count": 12,
   "id": "3ebe140e",
   "metadata": {},
   "outputs": [
    {
     "data": {
      "text/html": [
       "0.00156629017048737"
      ],
      "text/latex": [
       "0.00156629017048737"
      ],
      "text/markdown": [
       "0.00156629017048737"
      ],
      "text/plain": [
       "[1] 0.00156629"
      ]
     },
     "metadata": {},
     "output_type": "display_data"
    },
    {
     "data": {
      "text/html": [
       "0.0191984017794506"
      ],
      "text/latex": [
       "0.0191984017794506"
      ],
      "text/markdown": [
       "0.0191984017794506"
      ],
      "text/plain": [
       "[1] 0.0191984"
      ]
     },
     "metadata": {},
     "output_type": "display_data"
    },
    {
     "data": {
      "text/html": [
       "0.0513877788811515"
      ],
      "text/latex": [
       "0.0513877788811515"
      ],
      "text/markdown": [
       "0.0513877788811515"
      ],
      "text/plain": [
       "[1] 0.05138778"
      ]
     },
     "metadata": {},
     "output_type": "display_data"
    }
   ],
   "source": [
    "# Kenya:\n",
    "\n",
    "my_group  <- data[data$Country == \"Kenya\" & data$Age %in% c(\"85-89\", \"90-94\", \"95-99\"), ]\n",
    "\n",
    "sum(my_group$POP)/sum(data[data$Country == \"Kenya\", \"POP\"])\n",
    "                                                            \n",
    "# US\n",
    "                                                            \n",
    "my_group  <- data[data$Country == \"United States of America\" & data$Age %in% c(\"85-89\", \"90-94\", \"95-99\"), ]\n",
    "\n",
    "sum(my_group$POP)/sum(data[data$Country == \"United States of America\", \"POP\"])\n",
    "                                                                            \n",
    "# Japan\n",
    "                                                                               \n",
    "my_group  <- data[data$Country == \"Japan\" & data$Age %in% c(\"85-89\", \"90-94\", \"95-99\"), ]\n",
    "\n",
    "sum(my_group$POP)/sum(data[data$Country == \"Japan\", \"POP\"])                                                                           "
   ]
  },
  {
   "cell_type": "code",
   "execution_count": null,
   "id": "b7eac430",
   "metadata": {},
   "outputs": [],
   "source": []
  }
 ],
 "metadata": {
  "kernelspec": {
   "display_name": "R",
   "language": "R",
   "name": "ir"
  },
  "language_info": {
   "codemirror_mode": "r",
   "file_extension": ".r",
   "mimetype": "text/x-r-source",
   "name": "R",
   "pygments_lexer": "r",
   "version": "4.3.2"
  }
 },
 "nbformat": 4,
 "nbformat_minor": 5
}