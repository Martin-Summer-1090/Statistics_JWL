{
 "cells": [
  {
   "cell_type": "markdown",
   "id": "7661cf8e",
   "metadata": {},
   "source": [
    "# Exercises: Unit 1, Categorical data and proportions"
   ]
  },
  {
   "cell_type": "markdown",
   "id": "43992ae7",
   "metadata": {},
   "source": [
    "## Pen and paper exercises"
   ]
  },
  {
   "cell_type": "markdown",
   "id": "242250c8",
   "metadata": {},
   "source": [
    "### Exercise 1: Introduce yourself"
   ]
  },
  {
   "cell_type": "markdown",
   "id": "90be757b",
   "metadata": {},
   "source": [
    "My name is Martin Summer. I live in Vienna, the capital of Austria in Europe with my wife Gabriele and my two sons Paul, 17 and Peter, 15. I am an economist by training and profession and I am currently heading a research department at Oesterreichische Nationalbank, which is the central bank of Austria and together with the European Central Bank part of the Europan system of central banks. I came to statistics and data analysis through my work, where I use these tools to do research, advise policy and more generally trying to understand what is going on in the world more broadly.\n",
    "\n",
    "I have admired Jesuit Worldwide Learning as a project and institution for many years. This at some stage led to a cooperation when JWL asked and entrusted me to develop a statistics course for their program. The course you are taking now is the first result in this attempt and I hope you will enjy it and find it interesting and useful. I love teaching and I love statistics and this is a key reason why I decided to take on this honorable assignemt. Of course I also want to support you in your desire to learn by giving the best I can from my experience. I also want to support my Jesuit friends who founded and maintain this wonderful project, which I truely admire and love.\n",
    "\n",
    "Statistics impacts my life in many ways: As a source of wonder and a well of knowledge about the world, as an amazing field of insight and inspiration, to which many of the greatest minds in human history, both theoretically and practically have contributed. It is just wonderful to partcipate in this human project of knowledge. Statistics also impacts my professional life, where it is one tool of the trade in economic analysis and policy advice. At the moment I am together with colleagues at OeNB are engaged in a research project where we uses statistical methods to find out whether people in Austria would be willing to adopt a digital form of the Euro, our money which we currently just as banknotes or through accounts at commercial banks. Isn't it almost like magic that statistics allows us to glimpse not only into an unknown future but also into potential behavior of people in using a payment method - the digital Euro - that does not yet exist at all but as an idea?"
   ]
  },
  {
   "cell_type": "markdown",
   "id": "60035ddd",
   "metadata": {},
   "source": [
    "### Exercise 2: Computing the percentage decrease in infant mortality rates of 8 European countries between 1860 and 2020"
   ]
  },
  {
   "cell_type": "markdown",
   "id": "64d087f9",
   "metadata": {},
   "source": [
    "Here are the numbers we discussed in the text in a table. I named the variables for the infant mortality rate in this exercise MR-1860 for  the infant mortality rate in 1860 and MR-2020 for the corresponding mortality rate in 2020.\n",
    "\n",
    "|Country |Continent | MR-1860| MR-2020|\n",
    "|:-------|:---------|-------:|-------:|\n",
    "|Austria |Europe    |   0.237|  0.0030|\n",
    "|Belgium |Europe    |   0.139|  0.0034|\n",
    "|Denmark |Europe    |   0.136|  0.0031|\n",
    "|France  |Europe    |   0.150|  0.0034|\n",
    "|Germany |Europe    |   0.260|  0.0031|\n",
    "|Norway  |Europe    |   0.102|  0.0018|\n",
    "|Spain   |Europe    |   0.174|  0.0027|\n",
    "|Sweden  |Europe    |   0.124|  0.0021|"
   ]
  },
  {
   "cell_type": "markdown",
   "id": "2f3f0486",
   "metadata": {},
   "source": [
    "In case you wonder how I did this table in the Jupyter notebook, look at the cell input and study the code. For\n",
    "textcells in Jupyter you can use a markup language called Markdown. Mardown will allow you to format text by using certain markup symbols that the Jupyter notebook can interpret and process. Here is a link to a cheat sheet summarizing the most important markup instructions: https://www.markdownguide.org/cheat-sheet/\n",
    "\n",
    "I encourage you as facilitators to familiarize yourself with markup and teach it to the students you work with when working with the Jupyter Notebooks."
   ]
  },
  {
   "cell_type": "markdown",
   "id": "f0665420",
   "metadata": {},
   "source": [
    "The infant mortality rate in Austria was $0.237$ in 1860 and was $0.0030$ 160 years later in 2020. The percentage decrease over this period is computed as:\n",
    "\\begin{equation*}\n",
    "\\frac{0.237 - 0.003}{0.237}\n",
    "\\end{equation*}\n",
    "\n",
    "you can compute this by hand or by calculator or by R. Let me use R for the sake of the example"
   ]
  },
  {
   "cell_type": "code",
   "execution_count": 1,
   "id": "53b14189",
   "metadata": {},
   "outputs": [
    {
     "data": {
      "text/html": [
       "98.7341772151899"
      ],
      "text/latex": [
       "98.7341772151899"
      ],
      "text/markdown": [
       "98.7341772151899"
      ],
      "text/plain": [
       "[1] 98.73418"
      ]
     },
     "metadata": {},
     "output_type": "display_data"
    }
   ],
   "source": [
    "((0.237 - 0.003)/0.237)*100"
   ]
  },
  {
   "cell_type": "markdown",
   "id": "a17746ce",
   "metadata": {},
   "source": [
    "This is a reduction of roughly 99 % percent. One could also say that the mortality rate decreased by a factor of 78. If you express the change as a relative change in percent you see how enormous the reduction was over a period of 160 years. This is next to a miracle, after centuries of extremely high rates.\n",
    "\n",
    "In case you are uncertain how to compute percentage changes, let us discuss some examples: \n",
    "\n",
    "Example 1: Suppose you have worked in a Supermarket for a wage of 10 (in some monetary unit) and your pay is increased to 12. What is your pay increase in percent? The way to compute the percentage increase is:\n",
    "\\begin{equation*}\n",
    "\\frac{(12-10)}{10}\n",
    "\\end{equation*}\n",
    "\n",
    "which is $0.20$. Take this times 100 and you have the increase in percent, which is $20$ %.\n",
    "\n",
    "Example 2: The staff of a company decreased from 40 to 29. What was the percentage decrease in its labor force?\n",
    "\\begin{equation*}\n",
    "\\frac{(29 - 40)}{29}\n",
    "\\end{equation*}\n",
    "\n",
    "which is $0.275$. Take this by 100 and you have  $27.5$ %.\n",
    "\n",
    "Did you see the general pattern. When computing a percentage change, the formula you apply is\n",
    "\n",
    "\\begin{equation*}\n",
    "\\frac{(final - initial)}{initial} \\times 100\n",
    "\\end{equation*}\n",
    "\n",
    "This is the formula for a percentage change. When this change is positive, we say naturally that we have an increase, when it is negative we say we have a decrease and fold the minus sign into the workd decrease. So in the second example, we would say that the labor force of the company decreased by$27.5$ %.\n",
    "\n",
    "When the percentage change is 100 it means that something doubled, when it is 1000 it means that something has increased 10 fold, or as in the case of infant mortality in Austria between 1860 and 2020 has decreased 78 fold. "
   ]
  },
  {
   "cell_type": "markdown",
   "id": "f03db284",
   "metadata": {},
   "source": [
    "We can also do the computations with R based on what we have learned in the course so far. Let's first store the values in two objects, which we call 'mr_1860' and 'mr_2020'."
   ]
  },
  {
   "cell_type": "code",
   "execution_count": 2,
   "id": "aed1748e",
   "metadata": {},
   "outputs": [],
   "source": [
    "mr_1860  <- c(0.237, 0.139, 0.136, 0.15, 0.26, 0.102, 0.174, 0.124)\n",
    "mr_2020  <- c(0.003, 0.0034, 0.0031, 0.0034, 0.0031, 0.0018, 0.0027, 0.0021)"
   ]
  },
  {
   "cell_type": "markdown",
   "id": "fa57b70e",
   "metadata": {},
   "source": [
    "Now we use the fact that R can compute component wise and apply the formula for the percentage change and round to 2 digits:"
   ]
  },
  {
   "cell_type": "code",
   "execution_count": 3,
   "id": "691e047a",
   "metadata": {},
   "outputs": [
    {
     "data": {
      "text/html": [
       "<style>\n",
       ".list-inline {list-style: none; margin:0; padding: 0}\n",
       ".list-inline>li {display: inline-block}\n",
       ".list-inline>li:not(:last-child)::after {content: \"\\00b7\"; padding: 0 .5ex}\n",
       "</style>\n",
       "<ol class=list-inline><li>98.73</li><li>97.55</li><li>97.72</li><li>97.73</li><li>98.81</li><li>98.24</li><li>98.45</li><li>98.31</li></ol>\n"
      ],
      "text/latex": [
       "\\begin{enumerate*}\n",
       "\\item 98.73\n",
       "\\item 97.55\n",
       "\\item 97.72\n",
       "\\item 97.73\n",
       "\\item 98.81\n",
       "\\item 98.24\n",
       "\\item 98.45\n",
       "\\item 98.31\n",
       "\\end{enumerate*}\n"
      ],
      "text/markdown": [
       "1. 98.73\n",
       "2. 97.55\n",
       "3. 97.72\n",
       "4. 97.73\n",
       "5. 98.81\n",
       "6. 98.24\n",
       "7. 98.45\n",
       "8. 98.31\n",
       "\n",
       "\n"
      ],
      "text/plain": [
       "[1] 98.73 97.55 97.72 97.73 98.81 98.24 98.45 98.31"
      ]
     },
     "metadata": {},
     "output_type": "display_data"
    }
   ],
   "source": [
    "round(((mr_1860 - mr_2020)/mr_1860)*100, 2)"
   ]
  },
  {
   "cell_type": "markdown",
   "id": "d147470f",
   "metadata": {},
   "source": [
    "So this means we have:\n",
    "\n",
    "|Country |Percentage decrease in infant mortality from 1860 - 2020 |\n",
    "|:-------|:-------------------------------------------------------:|\n",
    "|Austria |98.73 %                                                  |\n",
    "|Belgium |97.55 %                                                  | \n",
    "|Denmark |97.72 %                                                  |   \n",
    "|France  |97.73 %                                                  |   \n",
    "|Germany |98.81 %                                                  |   \n",
    "|Norway  |98.24 %                                                  |   \n",
    "|Spain   |98.45 %                                                  |   \n",
    "|Sweden  |98.31 %                                                  |\n",
    "\n",
    "Usually you dp not encounter percentage number like this, because the difference in the mortality rates are so enormous. Suppose you were a bit unsure whether this could be indeed correct. Here is a way to check your calculation. A decrease by, for example of 98.73 %, is a decrease by 0.9873 in decimal notation. So if your rate was initially 0.237 and you subtract $0.237 \\times 0.9873$ you get 0.0030099 as you should if rounded to the last four digits."
   ]
  },
  {
   "cell_type": "markdown",
   "id": "aea40d56",
   "metadata": {},
   "source": [
    "I encourage you as facilitators to come back to this simple example if appropriate in the comming two units, once students have learned and practiced more with R. Here is a way how you could retrieve the necessary data to do the computation with R"
   ]
  },
  {
   "cell_type": "code",
   "execution_count": 4,
   "id": "d77e8cf8",
   "metadata": {},
   "outputs": [
    {
     "data": {
      "text/html": [
       "<table class=\"dataframe\">\n",
       "<caption>A data.frame: 8 × 4</caption>\n",
       "<thead>\n",
       "\t<tr><th></th><th scope=col>Contry</th><th scope=col>Continent</th><th scope=col>MR-1860</th><th scope=col>MR-2020</th></tr>\n",
       "\t<tr><th></th><th scope=col>&lt;chr&gt;</th><th scope=col>&lt;fct&gt;</th><th scope=col>&lt;dbl&gt;</th><th scope=col>&lt;dbl&gt;</th></tr>\n",
       "</thead>\n",
       "<tbody>\n",
       "\t<tr><th scope=row>1970</th><td>Austria</td><td>Europe</td><td>0.237</td><td>0.0030</td></tr>\n",
       "\t<tr><th scope=row>3260</th><td>Belgium</td><td>Europe</td><td>0.139</td><td>0.0034</td></tr>\n",
       "\t<tr><th scope=row>7810</th><td>Denmark</td><td>Europe</td><td>0.136</td><td>0.0031</td></tr>\n",
       "\t<tr><th scope=row>10396</th><td>France </td><td>Europe</td><td>0.150</td><td>0.0034</td></tr>\n",
       "\t<tr><th scope=row>11040</th><td>Germany</td><td>Europe</td><td>0.260</td><td>0.0031</td></tr>\n",
       "\t<tr><th scope=row>22590</th><td>Norway </td><td>Europe</td><td>0.102</td><td>0.0018</td></tr>\n",
       "\t<tr><th scope=row>28200</th><td>Spain  </td><td>Europe</td><td>0.174</td><td>0.0027</td></tr>\n",
       "\t<tr><th scope=row>28829</th><td>Sweden </td><td>Europe</td><td>0.124</td><td>0.0021</td></tr>\n",
       "</tbody>\n",
       "</table>\n"
      ],
      "text/latex": [
       "A data.frame: 8 × 4\n",
       "\\begin{tabular}{r|llll}\n",
       "  & Contry & Continent & MR-1860 & MR-2020\\\\\n",
       "  & <chr> & <fct> & <dbl> & <dbl>\\\\\n",
       "\\hline\n",
       "\t1970 & Austria & Europe & 0.237 & 0.0030\\\\\n",
       "\t3260 & Belgium & Europe & 0.139 & 0.0034\\\\\n",
       "\t7810 & Denmark & Europe & 0.136 & 0.0031\\\\\n",
       "\t10396 & France  & Europe & 0.150 & 0.0034\\\\\n",
       "\t11040 & Germany & Europe & 0.260 & 0.0031\\\\\n",
       "\t22590 & Norway  & Europe & 0.102 & 0.0018\\\\\n",
       "\t28200 & Spain   & Europe & 0.174 & 0.0027\\\\\n",
       "\t28829 & Sweden  & Europe & 0.124 & 0.0021\\\\\n",
       "\\end{tabular}\n"
      ],
      "text/markdown": [
       "\n",
       "A data.frame: 8 × 4\n",
       "\n",
       "| <!--/--> | Contry &lt;chr&gt; | Continent &lt;fct&gt; | MR-1860 &lt;dbl&gt; | MR-2020 &lt;dbl&gt; |\n",
       "|---|---|---|---|---|\n",
       "| 1970 | Austria | Europe | 0.237 | 0.0030 |\n",
       "| 3260 | Belgium | Europe | 0.139 | 0.0034 |\n",
       "| 7810 | Denmark | Europe | 0.136 | 0.0031 |\n",
       "| 10396 | France  | Europe | 0.150 | 0.0034 |\n",
       "| 11040 | Germany | Europe | 0.260 | 0.0031 |\n",
       "| 22590 | Norway  | Europe | 0.102 | 0.0018 |\n",
       "| 28200 | Spain   | Europe | 0.174 | 0.0027 |\n",
       "| 28829 | Sweden  | Europe | 0.124 | 0.0021 |\n",
       "\n"
      ],
      "text/plain": [
       "      Contry  Continent MR-1860 MR-2020\n",
       "1970  Austria Europe    0.237   0.0030 \n",
       "3260  Belgium Europe    0.139   0.0034 \n",
       "7810  Denmark Europe    0.136   0.0031 \n",
       "10396 France  Europe    0.150   0.0034 \n",
       "11040 Germany Europe    0.260   0.0031 \n",
       "22590 Norway  Europe    0.102   0.0018 \n",
       "28200 Spain   Europe    0.174   0.0027 \n",
       "28829 Sweden  Europe    0.124   0.0021 "
      ]
     },
     "metadata": {},
     "output_type": "display_data"
    }
   ],
   "source": [
    "library(JWL)\n",
    "\n",
    "# load infant mortality data\n",
    "\n",
    "infant_mortality <- infant_mortality_data\n",
    "\n",
    "# make table for the year 1860 and 2020 and throw away all countries where there are no observations\n",
    "# and select the variables Country, Continent, Mortality\n",
    "\n",
    "my_countries  <- c(\"Austria\", \"Belgium\", \"Denmark\", \"France\", \"Germany\", \"Norway\", \"Spain\", \"Sweden\")\n",
    "\n",
    "dat_1860 <- infant_mortality[infant_mortality$Country %in% my_countries & infant_mortality$Year == 1860, ]\n",
    "dat_2020 <- infant_mortality[infant_mortality$Country %in% my_countries & infant_mortality$Year == 2020, ]\n",
    "\n",
    "rate_1860 <- dat_1860[ , c(\"Country\", \"Continent\", \"Mortality\")] |> na.omit()\n",
    "rate_2020 <- dat_2020[ , c(\"Mortality\")] |> na.omit()\n",
    "\n",
    "# make a table by binding the columns together in one dataframe\n",
    "\n",
    "tab  <- cbind(rate_1860, rate_2020)\n",
    "names(tab)  <- c(\"Contry\", \"Continent\", \"MR-1860\", \"MR-2020\")\n",
    "tab"
   ]
  },
  {
   "cell_type": "markdown",
   "id": "ef20c0ad",
   "metadata": {},
   "source": [
    "### Exercise 3: Framing"
   ]
  },
  {
   "cell_type": "markdown",
   "id": "32bfa2c1",
   "metadata": {},
   "source": [
    "One example could for instance be:\n",
    "\n",
    "While looking for a disinfectant, you choose a product that kills 95% of all the germs (positive frame), over one which claims that 5% of the germs will survive (negative frame).\n",
    "\n",
    "or:\n",
    "\n",
    "You must decide between two elective courses in your studies at JWL. You are determined to maintain your\n",
    "good grades, and you seek more information about both courses. One learning faclitator tells you thatin course one 20% of the students achieve the best possible grade (positive frame) while in the other course 80% fail to get the best possible grade (negative frame). You choose the former over the latter.\n",
    "\n",
    "or:\n",
    "\n",
    "Saying “Save 100 Euro a year by using energy-efficient appliances” (gain frame) rather than “Lose 100 Euro a year by not using energy-efficient appliances” (loss frame). The gain-framed message may motivate more people to act."
   ]
  },
  {
   "cell_type": "markdown",
   "id": "9b556761",
   "metadata": {},
   "source": [
    "### Exercise 4: Communicating counts and proportions "
   ]
  },
  {
   "cell_type": "markdown",
   "id": "0645c810",
   "metadata": {},
   "source": [
    "One way to think about this might be as follows: The statment that 99 % of young Londoner's do not comit serious youth violence is equivalent to the information that there is 1 % who do commit serious violence. Now you might think about this as an actual crowd of people. Note that order of magnitude is decisive here not the very exact numbers. The population of London is around 9 Million. Of these 9 Million about 1 million is aged between 15 and 25. 1 % of 1 million is 10000. Would you feel comfortable riding on the London underground, knwoing that 10000 seriously violent youngsters are traveling in this system at the same time? Now we have used two twists here: First we have turned a positive into a negative frame and then tunred a percentage into an actual number of people.\n",
    "\n",
    "To provide information impartially it is advisable to think of both negative and positive frames.\n",
    "\n",
    "This is an exercise that would be very good for class discussion. The example of London, will require students to think about estimating orders of magnitude or think about how they could find out. For example: Where could I find out the number of inhabitants of London? (easy), how many young people are living there (what is young? compare to the introductory example of what is a tree?) etc."
   ]
  },
  {
   "cell_type": "markdown",
   "id": "6c31fbd2",
   "metadata": {},
   "source": [
    "## Computer exercises"
   ]
  },
  {
   "cell_type": "markdown",
   "id": "4ca2d87b",
   "metadata": {},
   "source": [
    "## Exercise 1: Transforming percentages into rates"
   ]
  },
  {
   "cell_type": "markdown",
   "id": "88265e65",
   "metadata": {},
   "source": [
    "This is the table of infant mortality data in percent. \n",
    "\n",
    "|Country |Continent | MR-1860 | MR-2020|\n",
    "|:-------|:---------|--------:|-------:|\n",
    "|Austria |Europe    |   23.7 %|  0.30 %|\n",
    "|Belgium |Europe    |   13.9 %|  0.34 %|\n",
    "|Denmark |Europe    |   13.6 %|  0.31 %|\n",
    "|France  |Europe    |   15.0 %|  0.34 %|\n",
    "|Germany |Europe    |   26.0 %|  0.31 %|\n",
    "|Norway  |Europe    |   10.2 %|  0.18 %|\n",
    "|Spain   |Europe    |   17.4 %|  0.27 %|\n",
    "|Sweden  |Europe    |   12.4 %|  0.21 %|\n",
    "\n",
    "Let's start with saving the percentages in an R object in decimal notation:"
   ]
  },
  {
   "cell_type": "code",
   "execution_count": 5,
   "id": "7d7beecf",
   "metadata": {},
   "outputs": [],
   "source": [
    "mr_1860  <- c(0.003, 0.0034, 0.0031, 0.0034, 0.0031, 0.0018, 0.0027, 0.0021)\n",
    "mr_2020  <- c(0.237, 0.139, 0.136, 0.15, 0.26, 0.102, 0.174, 0.124)"
   ]
  },
  {
   "cell_type": "markdown",
   "id": "183aec4e",
   "metadata": {},
   "source": [
    "Now we multiply every entry with 1000 and this gives us the number of infant death per 1000. One nice feature of R is that it can apply a mathematcal operation to a whole object. So if you multiply the object by 1000 this multiplication is applied to every component in the vector. Let's do this and save the results in a new object\n",
    "called rates_1860 and rates_2020. Then display the results and write them into a new table."
   ]
  },
  {
   "cell_type": "code",
   "execution_count": 6,
   "id": "c4b8be12",
   "metadata": {},
   "outputs": [
    {
     "data": {
      "text/html": [
       "<style>\n",
       ".list-inline {list-style: none; margin:0; padding: 0}\n",
       ".list-inline>li {display: inline-block}\n",
       ".list-inline>li:not(:last-child)::after {content: \"\\00b7\"; padding: 0 .5ex}\n",
       "</style>\n",
       "<ol class=list-inline><li>3</li><li>3.4</li><li>3.1</li><li>3.4</li><li>3.1</li><li>1.8</li><li>2.7</li><li>2.1</li></ol>\n"
      ],
      "text/latex": [
       "\\begin{enumerate*}\n",
       "\\item 3\n",
       "\\item 3.4\n",
       "\\item 3.1\n",
       "\\item 3.4\n",
       "\\item 3.1\n",
       "\\item 1.8\n",
       "\\item 2.7\n",
       "\\item 2.1\n",
       "\\end{enumerate*}\n"
      ],
      "text/markdown": [
       "1. 3\n",
       "2. 3.4\n",
       "3. 3.1\n",
       "4. 3.4\n",
       "5. 3.1\n",
       "6. 1.8\n",
       "7. 2.7\n",
       "8. 2.1\n",
       "\n",
       "\n"
      ],
      "text/plain": [
       "[1] 3.0 3.4 3.1 3.4 3.1 1.8 2.7 2.1"
      ]
     },
     "metadata": {},
     "output_type": "display_data"
    },
    {
     "data": {
      "text/html": [
       "<style>\n",
       ".list-inline {list-style: none; margin:0; padding: 0}\n",
       ".list-inline>li {display: inline-block}\n",
       ".list-inline>li:not(:last-child)::after {content: \"\\00b7\"; padding: 0 .5ex}\n",
       "</style>\n",
       "<ol class=list-inline><li>237</li><li>139</li><li>136</li><li>150</li><li>260</li><li>102</li><li>174</li><li>124</li></ol>\n"
      ],
      "text/latex": [
       "\\begin{enumerate*}\n",
       "\\item 237\n",
       "\\item 139\n",
       "\\item 136\n",
       "\\item 150\n",
       "\\item 260\n",
       "\\item 102\n",
       "\\item 174\n",
       "\\item 124\n",
       "\\end{enumerate*}\n"
      ],
      "text/markdown": [
       "1. 237\n",
       "2. 139\n",
       "3. 136\n",
       "4. 150\n",
       "5. 260\n",
       "6. 102\n",
       "7. 174\n",
       "8. 124\n",
       "\n",
       "\n"
      ],
      "text/plain": [
       "[1] 237 139 136 150 260 102 174 124"
      ]
     },
     "metadata": {},
     "output_type": "display_data"
    }
   ],
   "source": [
    "rates_1860  <- mr_1860*1000\n",
    "rates_2020  <- mr_2020*1000\n",
    "\n",
    "rates_1860\n",
    "rates_2020"
   ]
  },
  {
   "cell_type": "markdown",
   "id": "71619266",
   "metadata": {},
   "source": [
    "This is the table of infant mortality data per 1000 of life births. \n",
    "\n",
    "|Country |Continent | MR-1860 | MR-2020|\n",
    "|:-------|:---------|--------:|-------:|\n",
    "|Austria |Europe    |   237   |   3.0  |\n",
    "|Belgium |Europe    |   139   |   3.4  |\n",
    "|Denmark |Europe    |   136   |   3.1  |\n",
    "|France  |Europe    |   150   |   3.4  |\n",
    "|Germany |Europe    |   260   |   3.1  |\n",
    "|Norway  |Europe    |   102   |   1.8  |\n",
    "|Spain   |Europe    |   174   |   2.7  |\n",
    "|Sweden  |Europe    |   124   |   2.1  |\n"
   ]
  },
  {
   "cell_type": "markdown",
   "id": "7a978333",
   "metadata": {},
   "source": [
    "### Exercise 2: Your first bar plot"
   ]
  },
  {
   "cell_type": "markdown",
   "id": "0c115c13",
   "metadata": {},
   "source": [
    "Let's redo the barplot for motrality rates with the 2020 numbers. Let us store the rates in an R object first:"
   ]
  },
  {
   "cell_type": "code",
   "execution_count": 7,
   "id": "e3b8773f",
   "metadata": {},
   "outputs": [],
   "source": [
    "mr_2020  <- c(0.237, 0.139, 0.136, 0.15, 0.26, 0.102, 0.174, 0.124)"
   ]
  },
  {
   "cell_type": "markdown",
   "id": "5a708e5b",
   "metadata": {},
   "source": [
    "Now create a second object with the country names:"
   ]
  },
  {
   "cell_type": "code",
   "execution_count": 8,
   "id": "a8aaef9a",
   "metadata": {},
   "outputs": [],
   "source": [
    "cntr  <- c(\"Austria\", \"Belgium\", \"Denmark\", \"France\", \"Germany\", \"Norway\", \"Spain\", \"Sweden\")"
   ]
  },
  {
   "cell_type": "markdown",
   "id": "315065d8",
   "metadata": {},
   "source": [
    "Note that the order of countries in this needs to be congruent with the order of the numbers, so that they fit together. One advantage of the computer is that such steps can be automated when you know more R. Such manual procedures, which we use here are error prone and should be usually avoided. Here we use it because we do not yet know enough R to avoid this. Another approach to annotate the countries would be to use the international ISO2 codes for the countries, like this:"
   ]
  },
  {
   "cell_type": "code",
   "execution_count": 9,
   "id": "0db92bf6",
   "metadata": {},
   "outputs": [],
   "source": [
    "cntr_iso  <- c(\"AT\", \"BE\", \"DN\", \"FR\", \"GE\", \"NO\", \"ES\", \"SE\")"
   ]
  },
  {
   "cell_type": "markdown",
   "id": "8a6f31fe",
   "metadata": {},
   "source": [
    "Now for the barplot, proceed as in the lecture and give the barplot a title:"
   ]
  },
  {
   "cell_type": "code",
   "execution_count": 10,
   "id": "4bbd81bf",
   "metadata": {},
   "outputs": [
    {
     "data": {
      "image/png": "[encoded data removed]",
      "text/plain": [
       "Plot with title “Infant mortality rates in percent”"
      ]
     },
     "metadata": {
      "image/png": {
       "height": 420,
       "width": 420
      }
     },
     "output_type": "display_data"
    }
   ],
   "source": [
    "barplot(mr_2020, names.arg = cntr_iso, main = \"Infant mortality rates in percent\")"
   ]
  },
  {
   "cell_type": "markdown",
   "id": "238936ad",
   "metadata": {},
   "source": [
    "Or flip and use the full country names:"
   ]
  },
  {
   "cell_type": "code",
   "execution_count": 11,
   "id": "f54d0f77",
   "metadata": {},
   "outputs": [
    {
     "data": {
      "image/png": "[encoded data removed]",
      "text/plain": [
       "Plot with title “Infant mortality rates in percent in 2020”"
      ]
     },
     "metadata": {
      "image/png": {
       "height": 420,
       "width": 420
      }
     },
     "output_type": "display_data"
    }
   ],
   "source": [
    "barplot(mr_2020, names.arg = cntr, horiz = TRUE, las = 1, main = \"Infant mortality rates in percent in 2020\")"
   ]
  },
  {
   "cell_type": "markdown",
   "id": "60961b75",
   "metadata": {},
   "source": [
    "The names of Germany and Denmark are cut off a bit at the margin. An option to adjust plot margins in a boxplot to use the R function `par` with the argument `mar` for margin. `mar`is a numerical vector of the form c(bottom, left, top, right) which gives the number of lines of margin to be specified on the four sides of the plot. The default is c(5, 4, 4, 2) + 0.1."
   ]
  },
  {
   "cell_type": "code",
   "execution_count": 12,
   "id": "99aae0bc",
   "metadata": {},
   "outputs": [
    {
     "data": {
      "image/png": "[encoded data removed]",
      "text/plain": [
       "Plot with title “Infant mortality rates in percent in 2020”"
      ]
     },
     "metadata": {
      "image/png": {
       "height": 420,
       "width": 420
      }
     },
     "output_type": "display_data"
    }
   ],
   "source": [
    "par(mar=c(5,6,4,4))\n",
    "barplot(mr_2020, names.arg = cntr, horiz = TRUE, las = 1, main = \"Infant mortality rates in percent in 2020\")"
   ]
  },
  {
   "cell_type": "markdown",
   "id": "74d0b5a3",
   "metadata": {},
   "source": [
    "Now you can see the full names. This is an advanced graphic option. You do not need to confuse the students with these details but it might be good to know an answer, in case somebody asks.\n",
    "\n",
    "If there are students who are quickly at ease with using R and who find this too easy, point them to the R help function and encourage them to play with options to change the graph. Looking for help on `boxplot` for example would need the function call:"
   ]
  },
  {
   "cell_type": "code",
   "execution_count": 13,
   "id": "0be9dbd2",
   "metadata": {},
   "outputs": [],
   "source": [
    "?boxplot"
   ]
  },
  {
   "cell_type": "markdown",
   "id": "78e3e361",
   "metadata": {},
   "source": [
    "This displays the R help manual page for boxplot with all adjustment options."
   ]
  },
  {
   "cell_type": "markdown",
   "id": "fbb22ad4",
   "metadata": {},
   "source": [
    "### Exercise 3: Barchart on the causes of infant mortality"
   ]
  },
  {
   "cell_type": "markdown",
   "id": "da582bd9",
   "metadata": {},
   "source": [
    "Here again the point is to familiarize yourself with creating a barplot in R. Since we do by now know only very little R we do not yet know how to get the data we need for the plot automatically. Here the assumption is that we only have the table from the study material and we want to produce a boxplot on this base by manually entering the data. Of course the usual situation will be that data rerieval and entry will be done by the computer. We will soon do so ourselves. In general manual entry of data should be mimimized as a matter of principle. It is not only tedious and slow but also error prone. \n",
    "\n",
    "Now, assuming, manual entry, we would first create two R objects, one character vector with the names of the causes and one with the share in all known causes and produce the boxplot from there. So let's do this. The way you name your objects is by the way up to you. You choose the names you want and that work for you. Remember the naming rules, however. If you have forgotten these rules (Do not start a name by a . or _ or a number etc.) look them up again and learn them by heart,"
   ]
  },
  {
   "cell_type": "code",
   "execution_count": 14,
   "id": "b7c42299",
   "metadata": {},
   "outputs": [],
   "source": [
    "causes  <- c(\n",
    "\"Preterm birth\",\n",
    "\"Encephalopathy due to birth asphyxia and trauma\",\n",
    "\"Lower respiratory infections\",\n",
    "\"Birth defects\",\n",
    "\"Diarrheal diseases\",\n",
    "\"Heart anomalies\",\n",
    "\"Malaria\",\n",
    "\"Syphilis\",\n",
    "\"Meningitis\",\n",
    "\"Whooping cough\",\n",
    "\"Nutritional deficiencies\",\n",
    "\"Digestive anomalies\",\n",
    "\"Sudden infant death syndrome\",\n",
    "\"Tuberculosis\",\n",
    "\"Measles\",\n",
    "\"HIV/AIDS\",\n",
    "\"Digestive diseases\",\n",
    "\"Tetanus\",\n",
    "\"Encephalitis\",\n",
    "\"Acute hepatitis\",\n",
    "\"Diabetes and kidney diseases\"\n",
    ")\n",
    "\n",
    "shares  <- c(0.211, 0.180, 0.161, 0.128, 0.092, 0.048, 0.044, 0.026, 0.020, 0.016, 0.015, 0.013, 0.009, 0.008, \n",
    "             0.006, 0.006, 0.005, 0.005, 0.003, 0.002, 0.002)"
   ]
  },
  {
   "cell_type": "markdown",
   "id": "2780c71a",
   "metadata": {},
   "source": [
    "To reproduce the boxplot form the study materials we would need the following instruction for R, assuming that I give also a title to the plot, in my case \"Causes of infant mortality\"."
   ]
  },
  {
   "cell_type": "code",
   "execution_count": 15,
   "id": "37a41b8d",
   "metadata": {},
   "outputs": [
    {
     "data": {
      "image/png": "[encoded data removed]",
      "text/plain": [
       "Plot with title “Causes of infant mortality”"
      ]
     },
     "metadata": {
      "image/png": {
       "height": 420,
       "width": 420
      }
     },
     "output_type": "display_data"
    }
   ],
   "source": [
    "barplot(shares, names.arg = causes, horiz = TRUE, las = 1, main = \"Causes of infant mortality\")"
   ]
  },
  {
   "cell_type": "markdown",
   "id": "4a6499b9",
   "metadata": {},
   "source": [
    "Here we have again the problem that the names are too long for the default vaues of the boxplot boundaries. This might be an option to explain how these boundaries can be adjusted in R."
   ]
  },
  {
   "cell_type": "code",
   "execution_count": 16,
   "id": "26740fee",
   "metadata": {},
   "outputs": [
    {
     "data": {
      "image/png": "[encoded data removed]",
      "text/plain": [
       "Plot with title “Causes of infant mortality”"
      ]
     },
     "metadata": {
      "image/png": {
       "height": 420,
       "width": 420
      }
     },
     "output_type": "display_data"
    }
   ],
   "source": [
    "par(mar=c(5,20,4,4))\n",
    "barplot(shares, names.arg = causes, horiz = TRUE, las = 1, main = \"Causes of infant mortality\")"
   ]
  },
  {
   "cell_type": "markdown",
   "id": "73386a40",
   "metadata": {},
   "source": [
    "## Project: People count: The future of humanity in pictures and numbers"
   ]
  },
  {
   "cell_type": "markdown",
   "id": "5d886f32",
   "metadata": {},
   "source": [
    "### Counting people"
   ]
  },
  {
   "cell_type": "markdown",
   "id": "bc8813d7",
   "metadata": {},
   "source": []
  }
 ],
 "metadata": {
  "kernelspec": {
   "display_name": "R",
   "language": "R",
   "name": "ir"
  },
  "language_info": {
   "codemirror_mode": "r",
   "file_extension": ".r",
   "mimetype": "text/x-r-source",
   "name": "R",
   "pygments_lexer": "r",
   "version": "4.3.2"
  }
 },
 "nbformat": 4,
 "nbformat_minor": 5
}