{
 "cells": [
  {
   "cell_type": "markdown",
   "id": "ccc0dfab",
   "metadata": {},
   "source": [
    "# Exercises: Unit 3, Generalizing observations from data and knowing what causes what"
   ]
  },
  {
   "cell_type": "markdown",
   "id": "d4c1cfae",
   "metadata": {},
   "source": [
    "## Exercises"
   ]
  },
  {
   "cell_type": "markdown",
   "id": "21c500a4",
   "metadata": {},
   "source": [
    "### Exercise 1: Understanding the notions of sample, target population and study population"
   ]
  },
  {
   "cell_type": "markdown",
   "id": "edcce34d",
   "metadata": {},
   "source": [
    "In the first case the sample are a randomly choosen set of areas in the entirle land that can be used for the crop, which is the study population. The target population would be the entire areas of land that could be planted by such a crop. In the second example, a sample would be a selected set of schools in the jurisdiction of the ministry of education, the study population would be the set of all active schools in the jurisdiction of the ministry of eduction. The target population would be all schools that are and will be operated in this jurisdiction. In the third case a slected subset of customers from all potential customers is the sample, the study population is the large set of customers from which we can take a sample. The target population is all customers in a given market."
   ]
  },
  {
   "cell_type": "markdown",
   "id": "a310c050",
   "metadata": {},
   "source": [
    "### Exercise 2: Examples of deductive and inductive reasoning"
   ]
  },
  {
   "cell_type": "markdown",
   "id": "ec932a2d",
   "metadata": {},
   "source": [
    "Deductive:\n",
    "\n",
    "Premise 1: All humans require oxygen to survive.\n",
    "\n",
    "Premise 2: Mary is a human.\n",
    "\n",
    "Conclusion: Therefore, Mary requires oxygen to survive.\n",
    "\n",
    "In this deductive reasoning example:\n",
    "\n",
    "Premise 1 represents a general principle or universal truth about humans needing oxygen.\n",
    "Premise 2 is a specific statement about Mary being a human.\n",
    "The conclusion logically follows from the premises, stating that Mary, being a human, must require oxygen to survive.\n",
    "\n",
    "\n",
    "Inductive: \n",
    "\n",
    "\n",
    "Observation: In Kenya, a study is conducted on the mobile phone usage patterns of the population, specifically focusing on individuals between the ages of 18 and 35.\n",
    "\n",
    "Pattern Identification: The study reveals that a significant majority of young adults in Kenya use mobile phones primarily for accessing social media, online education platforms, and mobile banking services. Additionally, a notable portion of this demographic prefers smartphones with larger screens for better multimedia experiences.\n",
    "\n",
    "Generalization: Based on the observed pattern, one could make an inductive inference that, in general, the younger population in Kenya values smartphones as versatile tools for social connectivity, education, and financial transactions. Furthermore, there is a preference for devices with larger screens.\n",
    "\n",
    "Conclusion: Therefore, businesses, mobile phone manufacturers, and service providers operating in Kenya might consider tailoring their products and services to align with the preferences of the younger demographic, such as offering affordable smartphones with enhanced multimedia capabilities and promoting apps related to social networking, education, and mobile banking.\n",
    "\n",
    "In this example, the inductive reasoning process starts with specific observations about the mobile phone habits of young adults in Kenya and then generalizes to make broader conclusions that could inform decisions in industries related to technology and telecommunications within the country."
   ]
  },
  {
   "cell_type": "markdown",
   "id": "8cfcab21",
   "metadata": {},
   "source": [
    "### Exercise 3: Conversion to standard units with pencil and paper"
   ]
  },
  {
   "cell_type": "markdown",
   "id": "9e937d44",
   "metadata": {},
   "source": [
    "1-a: 1, -1.5, 2.5, 1-b: 50, 35, -55, 78\n",
    "2: 1.55, -0.52, 0.52, -1.55, 0. The mean is 0 and the sd is 1."
   ]
  },
  {
   "cell_type": "markdown",
   "id": "07f1f560",
   "metadata": {},
   "source": [
    "### Exercise 4: The polio vaccine study"
   ]
  },
  {
   "cell_type": "markdown",
   "id": "18ab0325",
   "metadata": {},
   "source": [
    "a) From line 1 of the table, the polio rates in the two vaccine groups were about the same. If, for example, the consent group had been richer, their rate would have been higher.\n",
    "\n",
    "b) From line 3 of the table, the polio rates in the two no-consent groups were about the same.\n",
    "\n",
    "c) From line 2 of the table the polio rate in the NFIP control group was quite a bit lower than the rate in the other control group.\n",
    "\n",
    "d) The no-consent group is predominantly lower-income, and the children are more resistant to polio. The NFIP control group has a range of incomes including the more vulnerable children from the higher income families.\n",
    "\n",
    "e) The ones who consent are different from the ones who don't."
   ]
  },
  {
   "cell_type": "markdown",
   "id": "3f39e4c4",
   "metadata": {},
   "source": [
    "### Exercise 5: Did the vaccine field trial cause children to get polio?"
   ]
  },
  {
   "cell_type": "markdown",
   "id": "49161f6b",
   "metadata": {},
   "source": [
    "No, because the experimental areas were selected in those parts of the country most at risk from polio."
   ]
  },
  {
   "cell_type": "markdown",
   "id": "3a4fea0e",
   "metadata": {},
   "source": [
    "###  Exercise 6: The effects of smoking on health "
   ]
  },
  {
   "cell_type": "markdown",
   "id": "4ea3d575",
   "metadata": {},
   "source": [
    "a) Because the groups differ systematically with respect to body and behavorial traits\n",
    "b) No because the current smokers are the survivors of a cohort of smokers many of whom have already died as a consequence of smoking. "
   ]
  },
  {
   "cell_type": "markdown",
   "id": "6d69d23d",
   "metadata": {},
   "source": [
    "### Exercise 7: Evaluating a prisoner's rehab program"
   ]
  },
  {
   "cell_type": "markdown",
   "id": "d30e18ee",
   "metadata": {},
   "source": [
    "a) The treatment group are the prisoners who sign up for the bootcamp. b) It is not a randomized controlled experiment because the selection into treatment and control is not random. It is an observational study. c) False, no comparison possible since no randomized controlled trial. The two groups compared differ systematically."
   ]
  },
  {
   "cell_type": "markdown",
   "id": "daeb15a3",
   "metadata": {},
   "source": [
    "## Exercises R"
   ]
  },
  {
   "cell_type": "markdown",
   "id": "a42ea8c7",
   "metadata": {},
   "source": [
    "### Exercise 1: Select every 100th row from the height data"
   ]
  },
  {
   "cell_type": "code",
   "execution_count": 2,
   "id": "d8c35e54",
   "metadata": {},
   "outputs": [],
   "source": [
    "library(JWL)\n",
    "dat  <- socr_height_weight"
   ]
  },
  {
   "cell_type": "code",
   "execution_count": 4,
   "id": "1807aac3",
   "metadata": {},
   "outputs": [
    {
     "data": {
      "text/html": [
       "<table class=\"dataframe\">\n",
       "<caption>A data.frame: 250 × 3</caption>\n",
       "<thead>\n",
       "\t<tr><th></th><th scope=col>Index</th><th scope=col>Height</th><th scope=col>Weight</th></tr>\n",
       "\t<tr><th></th><th scope=col>&lt;dbl&gt;</th><th scope=col>&lt;dbl&gt;</th><th scope=col>&lt;dbl&gt;</th></tr>\n",
       "</thead>\n",
       "<tbody>\n",
       "\t<tr><th scope=row>2</th><td>   1</td><td>65.78331</td><td>112.9925</td></tr>\n",
       "\t<tr><th scope=row>102</th><td> 101</td><td>64.87434</td><td>102.0927</td></tr>\n",
       "\t<tr><th scope=row>202</th><td> 201</td><td>65.73160</td><td>121.4997</td></tr>\n",
       "\t<tr><th scope=row>302</th><td> 301</td><td>69.07739</td><td>138.7307</td></tr>\n",
       "\t<tr><th scope=row>402</th><td> 401</td><td>67.02877</td><td>125.4542</td></tr>\n",
       "\t<tr><th scope=row>502</th><td> 501</td><td>68.68038</td><td>120.6936</td></tr>\n",
       "\t<tr><th scope=row>602</th><td> 601</td><td>65.87671</td><td>134.5173</td></tr>\n",
       "\t<tr><th scope=row>702</th><td> 701</td><td>70.59020</td><td>152.9146</td></tr>\n",
       "\t<tr><th scope=row>802</th><td> 801</td><td>67.42782</td><td>123.4642</td></tr>\n",
       "\t<tr><th scope=row>902</th><td> 901</td><td>66.58181</td><td>127.9357</td></tr>\n",
       "\t<tr><th scope=row>1002</th><td>1001</td><td>70.05146</td><td>134.6655</td></tr>\n",
       "\t<tr><th scope=row>1102</th><td>1101</td><td>65.88645</td><td>129.3750</td></tr>\n",
       "\t<tr><th scope=row>1202</th><td>1201</td><td>71.33959</td><td>130.2482</td></tr>\n",
       "\t<tr><th scope=row>1302</th><td>1301</td><td>66.40067</td><td>124.0382</td></tr>\n",
       "\t<tr><th scope=row>1402</th><td>1401</td><td>66.72267</td><td>118.0513</td></tr>\n",
       "\t<tr><th scope=row>1502</th><td>1501</td><td>71.65878</td><td>130.4121</td></tr>\n",
       "\t<tr><th scope=row>1602</th><td>1601</td><td>68.51270</td><td>116.4033</td></tr>\n",
       "\t<tr><th scope=row>1702</th><td>1701</td><td>69.18211</td><td>138.7521</td></tr>\n",
       "\t<tr><th scope=row>1802</th><td>1801</td><td>70.68625</td><td>139.1153</td></tr>\n",
       "\t<tr><th scope=row>1902</th><td>1901</td><td>69.87338</td><td>140.1507</td></tr>\n",
       "\t<tr><th scope=row>2002</th><td>2001</td><td>69.00812</td><td>125.4763</td></tr>\n",
       "\t<tr><th scope=row>2102</th><td>2101</td><td>66.60747</td><td>125.3684</td></tr>\n",
       "\t<tr><th scope=row>2202</th><td>2201</td><td>68.47617</td><td>136.7370</td></tr>\n",
       "\t<tr><th scope=row>2302</th><td>2301</td><td>67.69345</td><td>129.6252</td></tr>\n",
       "\t<tr><th scope=row>2402</th><td>2401</td><td>69.43735</td><td>133.5447</td></tr>\n",
       "\t<tr><th scope=row>2502</th><td>2501</td><td>65.72097</td><td>121.2620</td></tr>\n",
       "\t<tr><th scope=row>2602</th><td>2601</td><td>66.64128</td><td>114.0856</td></tr>\n",
       "\t<tr><th scope=row>2702</th><td>2701</td><td>69.75148</td><td>147.7342</td></tr>\n",
       "\t<tr><th scope=row>2802</th><td>2801</td><td>68.04613</td><td>118.4149</td></tr>\n",
       "\t<tr><th scope=row>2902</th><td>2901</td><td>67.61783</td><td>125.5300</td></tr>\n",
       "\t<tr><th scope=row>⋮</th><td>⋮</td><td>⋮</td><td>⋮</td></tr>\n",
       "\t<tr><th scope=row>22002</th><td>22001</td><td>67.45991</td><td>131.0766</td></tr>\n",
       "\t<tr><th scope=row>22102</th><td>22101</td><td>67.55783</td><td>117.3321</td></tr>\n",
       "\t<tr><th scope=row>22202</th><td>22201</td><td>69.62638</td><td>141.8247</td></tr>\n",
       "\t<tr><th scope=row>22302</th><td>22301</td><td>66.34329</td><td>135.2088</td></tr>\n",
       "\t<tr><th scope=row>22402</th><td>22401</td><td>65.39474</td><td>118.9921</td></tr>\n",
       "\t<tr><th scope=row>22502</th><td>22501</td><td>65.12040</td><td>118.9654</td></tr>\n",
       "\t<tr><th scope=row>22602</th><td>22601</td><td>66.80934</td><td>127.5672</td></tr>\n",
       "\t<tr><th scope=row>22702</th><td>22701</td><td>67.37224</td><td>135.8829</td></tr>\n",
       "\t<tr><th scope=row>22802</th><td>22801</td><td>68.62226</td><td>119.5030</td></tr>\n",
       "\t<tr><th scope=row>22902</th><td>22901</td><td>70.30626</td><td>127.5549</td></tr>\n",
       "\t<tr><th scope=row>23002</th><td>23001</td><td>66.03227</td><td>105.2789</td></tr>\n",
       "\t<tr><th scope=row>23102</th><td>23101</td><td>67.16624</td><td>108.0636</td></tr>\n",
       "\t<tr><th scope=row>23202</th><td>23201</td><td>69.92772</td><td>136.1304</td></tr>\n",
       "\t<tr><th scope=row>23302</th><td>23301</td><td>67.95420</td><td>120.0739</td></tr>\n",
       "\t<tr><th scope=row>23402</th><td>23401</td><td>69.02855</td><td>137.7087</td></tr>\n",
       "\t<tr><th scope=row>23502</th><td>23501</td><td>69.66929</td><td>126.4905</td></tr>\n",
       "\t<tr><th scope=row>23602</th><td>23601</td><td>69.83869</td><td>146.7883</td></tr>\n",
       "\t<tr><th scope=row>23702</th><td>23701</td><td>66.25028</td><td>122.8633</td></tr>\n",
       "\t<tr><th scope=row>23802</th><td>23801</td><td>66.94796</td><td>113.8070</td></tr>\n",
       "\t<tr><th scope=row>23902</th><td>23901</td><td>66.82731</td><td>118.8480</td></tr>\n",
       "\t<tr><th scope=row>24002</th><td>24001</td><td>71.05722</td><td>129.2659</td></tr>\n",
       "\t<tr><th scope=row>24102</th><td>24101</td><td>71.87029</td><td>151.8397</td></tr>\n",
       "\t<tr><th scope=row>24202</th><td>24201</td><td>69.88715</td><td>147.5768</td></tr>\n",
       "\t<tr><th scope=row>24302</th><td>24301</td><td>67.57486</td><td>136.4100</td></tr>\n",
       "\t<tr><th scope=row>24402</th><td>24401</td><td>67.70655</td><td>136.4734</td></tr>\n",
       "\t<tr><th scope=row>24502</th><td>24501</td><td>67.87052</td><td>128.4015</td></tr>\n",
       "\t<tr><th scope=row>24602</th><td>24601</td><td>67.67595</td><td>123.2158</td></tr>\n",
       "\t<tr><th scope=row>24702</th><td>24701</td><td>66.91088</td><td>107.3063</td></tr>\n",
       "\t<tr><th scope=row>24802</th><td>24801</td><td>69.44092</td><td>144.8549</td></tr>\n",
       "\t<tr><th scope=row>24902</th><td>24901</td><td>65.25580</td><td>116.3788</td></tr>\n",
       "</tbody>\n",
       "</table>\n"
      ],
      "text/latex": [
       "A data.frame: 250 × 3\n",
       "\\begin{tabular}{r|lll}\n",
       "  & Index & Height & Weight\\\\\n",
       "  & <dbl> & <dbl> & <dbl>\\\\\n",
       "\\hline\n",
       "\t2 &    1 & 65.78331 & 112.9925\\\\\n",
       "\t102 &  101 & 64.87434 & 102.0927\\\\\n",
       "\t202 &  201 & 65.73160 & 121.4997\\\\\n",
       "\t302 &  301 & 69.07739 & 138.7307\\\\\n",
       "\t402 &  401 & 67.02877 & 125.4542\\\\\n",
       "\t502 &  501 & 68.68038 & 120.6936\\\\\n",
       "\t602 &  601 & 65.87671 & 134.5173\\\\\n",
       "\t702 &  701 & 70.59020 & 152.9146\\\\\n",
       "\t802 &  801 & 67.42782 & 123.4642\\\\\n",
       "\t902 &  901 & 66.58181 & 127.9357\\\\\n",
       "\t1002 & 1001 & 70.05146 & 134.6655\\\\\n",
       "\t1102 & 1101 & 65.88645 & 129.3750\\\\\n",
       "\t1202 & 1201 & 71.33959 & 130.2482\\\\\n",
       "\t1302 & 1301 & 66.40067 & 124.0382\\\\\n",
       "\t1402 & 1401 & 66.72267 & 118.0513\\\\\n",
       "\t1502 & 1501 & 71.65878 & 130.4121\\\\\n",
       "\t1602 & 1601 & 68.51270 & 116.4033\\\\\n",
       "\t1702 & 1701 & 69.18211 & 138.7521\\\\\n",
       "\t1802 & 1801 & 70.68625 & 139.1153\\\\\n",
       "\t1902 & 1901 & 69.87338 & 140.1507\\\\\n",
       "\t2002 & 2001 & 69.00812 & 125.4763\\\\\n",
       "\t2102 & 2101 & 66.60747 & 125.3684\\\\\n",
       "\t2202 & 2201 & 68.47617 & 136.7370\\\\\n",
       "\t2302 & 2301 & 67.69345 & 129.6252\\\\\n",
       "\t2402 & 2401 & 69.43735 & 133.5447\\\\\n",
       "\t2502 & 2501 & 65.72097 & 121.2620\\\\\n",
       "\t2602 & 2601 & 66.64128 & 114.0856\\\\\n",
       "\t2702 & 2701 & 69.75148 & 147.7342\\\\\n",
       "\t2802 & 2801 & 68.04613 & 118.4149\\\\\n",
       "\t2902 & 2901 & 67.61783 & 125.5300\\\\\n",
       "\t⋮ & ⋮ & ⋮ & ⋮\\\\\n",
       "\t22002 & 22001 & 67.45991 & 131.0766\\\\\n",
       "\t22102 & 22101 & 67.55783 & 117.3321\\\\\n",
       "\t22202 & 22201 & 69.62638 & 141.8247\\\\\n",
       "\t22302 & 22301 & 66.34329 & 135.2088\\\\\n",
       "\t22402 & 22401 & 65.39474 & 118.9921\\\\\n",
       "\t22502 & 22501 & 65.12040 & 118.9654\\\\\n",
       "\t22602 & 22601 & 66.80934 & 127.5672\\\\\n",
       "\t22702 & 22701 & 67.37224 & 135.8829\\\\\n",
       "\t22802 & 22801 & 68.62226 & 119.5030\\\\\n",
       "\t22902 & 22901 & 70.30626 & 127.5549\\\\\n",
       "\t23002 & 23001 & 66.03227 & 105.2789\\\\\n",
       "\t23102 & 23101 & 67.16624 & 108.0636\\\\\n",
       "\t23202 & 23201 & 69.92772 & 136.1304\\\\\n",
       "\t23302 & 23301 & 67.95420 & 120.0739\\\\\n",
       "\t23402 & 23401 & 69.02855 & 137.7087\\\\\n",
       "\t23502 & 23501 & 69.66929 & 126.4905\\\\\n",
       "\t23602 & 23601 & 69.83869 & 146.7883\\\\\n",
       "\t23702 & 23701 & 66.25028 & 122.8633\\\\\n",
       "\t23802 & 23801 & 66.94796 & 113.8070\\\\\n",
       "\t23902 & 23901 & 66.82731 & 118.8480\\\\\n",
       "\t24002 & 24001 & 71.05722 & 129.2659\\\\\n",
       "\t24102 & 24101 & 71.87029 & 151.8397\\\\\n",
       "\t24202 & 24201 & 69.88715 & 147.5768\\\\\n",
       "\t24302 & 24301 & 67.57486 & 136.4100\\\\\n",
       "\t24402 & 24401 & 67.70655 & 136.4734\\\\\n",
       "\t24502 & 24501 & 67.87052 & 128.4015\\\\\n",
       "\t24602 & 24601 & 67.67595 & 123.2158\\\\\n",
       "\t24702 & 24701 & 66.91088 & 107.3063\\\\\n",
       "\t24802 & 24801 & 69.44092 & 144.8549\\\\\n",
       "\t24902 & 24901 & 65.25580 & 116.3788\\\\\n",
       "\\end{tabular}\n"
      ],
      "text/markdown": [
       "\n",
       "A data.frame: 250 × 3\n",
       "\n",
       "| <!--/--> | Index &lt;dbl&gt; | Height &lt;dbl&gt; | Weight &lt;dbl&gt; |\n",
       "|---|---|---|---|\n",
       "| 2 |    1 | 65.78331 | 112.9925 |\n",
       "| 102 |  101 | 64.87434 | 102.0927 |\n",
       "| 202 |  201 | 65.73160 | 121.4997 |\n",
       "| 302 |  301 | 69.07739 | 138.7307 |\n",
       "| 402 |  401 | 67.02877 | 125.4542 |\n",
       "| 502 |  501 | 68.68038 | 120.6936 |\n",
       "| 602 |  601 | 65.87671 | 134.5173 |\n",
       "| 702 |  701 | 70.59020 | 152.9146 |\n",
       "| 802 |  801 | 67.42782 | 123.4642 |\n",
       "| 902 |  901 | 66.58181 | 127.9357 |\n",
       "| 1002 | 1001 | 70.05146 | 134.6655 |\n",
       "| 1102 | 1101 | 65.88645 | 129.3750 |\n",
       "| 1202 | 1201 | 71.33959 | 130.2482 |\n",
       "| 1302 | 1301 | 66.40067 | 124.0382 |\n",
       "| 1402 | 1401 | 66.72267 | 118.0513 |\n",
       "| 1502 | 1501 | 71.65878 | 130.4121 |\n",
       "| 1602 | 1601 | 68.51270 | 116.4033 |\n",
       "| 1702 | 1701 | 69.18211 | 138.7521 |\n",
       "| 1802 | 1801 | 70.68625 | 139.1153 |\n",
       "| 1902 | 1901 | 69.87338 | 140.1507 |\n",
       "| 2002 | 2001 | 69.00812 | 125.4763 |\n",
       "| 2102 | 2101 | 66.60747 | 125.3684 |\n",
       "| 2202 | 2201 | 68.47617 | 136.7370 |\n",
       "| 2302 | 2301 | 67.69345 | 129.6252 |\n",
       "| 2402 | 2401 | 69.43735 | 133.5447 |\n",
       "| 2502 | 2501 | 65.72097 | 121.2620 |\n",
       "| 2602 | 2601 | 66.64128 | 114.0856 |\n",
       "| 2702 | 2701 | 69.75148 | 147.7342 |\n",
       "| 2802 | 2801 | 68.04613 | 118.4149 |\n",
       "| 2902 | 2901 | 67.61783 | 125.5300 |\n",
       "| ⋮ | ⋮ | ⋮ | ⋮ |\n",
       "| 22002 | 22001 | 67.45991 | 131.0766 |\n",
       "| 22102 | 22101 | 67.55783 | 117.3321 |\n",
       "| 22202 | 22201 | 69.62638 | 141.8247 |\n",
       "| 22302 | 22301 | 66.34329 | 135.2088 |\n",
       "| 22402 | 22401 | 65.39474 | 118.9921 |\n",
       "| 22502 | 22501 | 65.12040 | 118.9654 |\n",
       "| 22602 | 22601 | 66.80934 | 127.5672 |\n",
       "| 22702 | 22701 | 67.37224 | 135.8829 |\n",
       "| 22802 | 22801 | 68.62226 | 119.5030 |\n",
       "| 22902 | 22901 | 70.30626 | 127.5549 |\n",
       "| 23002 | 23001 | 66.03227 | 105.2789 |\n",
       "| 23102 | 23101 | 67.16624 | 108.0636 |\n",
       "| 23202 | 23201 | 69.92772 | 136.1304 |\n",
       "| 23302 | 23301 | 67.95420 | 120.0739 |\n",
       "| 23402 | 23401 | 69.02855 | 137.7087 |\n",
       "| 23502 | 23501 | 69.66929 | 126.4905 |\n",
       "| 23602 | 23601 | 69.83869 | 146.7883 |\n",
       "| 23702 | 23701 | 66.25028 | 122.8633 |\n",
       "| 23802 | 23801 | 66.94796 | 113.8070 |\n",
       "| 23902 | 23901 | 66.82731 | 118.8480 |\n",
       "| 24002 | 24001 | 71.05722 | 129.2659 |\n",
       "| 24102 | 24101 | 71.87029 | 151.8397 |\n",
       "| 24202 | 24201 | 69.88715 | 147.5768 |\n",
       "| 24302 | 24301 | 67.57486 | 136.4100 |\n",
       "| 24402 | 24401 | 67.70655 | 136.4734 |\n",
       "| 24502 | 24501 | 67.87052 | 128.4015 |\n",
       "| 24602 | 24601 | 67.67595 | 123.2158 |\n",
       "| 24702 | 24701 | 66.91088 | 107.3063 |\n",
       "| 24802 | 24801 | 69.44092 | 144.8549 |\n",
       "| 24902 | 24901 | 65.25580 | 116.3788 |\n",
       "\n"
      ],
      "text/plain": [
       "      Index Height   Weight  \n",
       "2        1  65.78331 112.9925\n",
       "102    101  64.87434 102.0927\n",
       "202    201  65.73160 121.4997\n",
       "302    301  69.07739 138.7307\n",
       "402    401  67.02877 125.4542\n",
       "502    501  68.68038 120.6936\n",
       "602    601  65.87671 134.5173\n",
       "702    701  70.59020 152.9146\n",
       "802    801  67.42782 123.4642\n",
       "902    901  66.58181 127.9357\n",
       "1002  1001  70.05146 134.6655\n",
       "1102  1101  65.88645 129.3750\n",
       "1202  1201  71.33959 130.2482\n",
       "1302  1301  66.40067 124.0382\n",
       "1402  1401  66.72267 118.0513\n",
       "1502  1501  71.65878 130.4121\n",
       "1602  1601  68.51270 116.4033\n",
       "1702  1701  69.18211 138.7521\n",
       "1802  1801  70.68625 139.1153\n",
       "1902  1901  69.87338 140.1507\n",
       "2002  2001  69.00812 125.4763\n",
       "2102  2101  66.60747 125.3684\n",
       "2202  2201  68.47617 136.7370\n",
       "2302  2301  67.69345 129.6252\n",
       "2402  2401  69.43735 133.5447\n",
       "2502  2501  65.72097 121.2620\n",
       "2602  2601  66.64128 114.0856\n",
       "2702  2701  69.75148 147.7342\n",
       "2802  2801  68.04613 118.4149\n",
       "2902  2901  67.61783 125.5300\n",
       "⋮     ⋮     ⋮        ⋮       \n",
       "22002 22001 67.45991 131.0766\n",
       "22102 22101 67.55783 117.3321\n",
       "22202 22201 69.62638 141.8247\n",
       "22302 22301 66.34329 135.2088\n",
       "22402 22401 65.39474 118.9921\n",
       "22502 22501 65.12040 118.9654\n",
       "22602 22601 66.80934 127.5672\n",
       "22702 22701 67.37224 135.8829\n",
       "22802 22801 68.62226 119.5030\n",
       "22902 22901 70.30626 127.5549\n",
       "23002 23001 66.03227 105.2789\n",
       "23102 23101 67.16624 108.0636\n",
       "23202 23201 69.92772 136.1304\n",
       "23302 23301 67.95420 120.0739\n",
       "23402 23401 69.02855 137.7087\n",
       "23502 23501 69.66929 126.4905\n",
       "23602 23601 69.83869 146.7883\n",
       "23702 23701 66.25028 122.8633\n",
       "23802 23801 66.94796 113.8070\n",
       "23902 23901 66.82731 118.8480\n",
       "24002 24001 71.05722 129.2659\n",
       "24102 24101 71.87029 151.8397\n",
       "24202 24201 69.88715 147.5768\n",
       "24302 24301 67.57486 136.4100\n",
       "24402 24401 67.70655 136.4734\n",
       "24502 24501 67.87052 128.4015\n",
       "24602 24601 67.67595 123.2158\n",
       "24702 24701 66.91088 107.3063\n",
       "24802 24801 69.44092 144.8549\n",
       "24902 24901 65.25580 116.3788"
      ]
     },
     "metadata": {},
     "output_type": "display_data"
    }
   ],
   "source": [
    "idx  <- seq(from = 1, to = nrow(dat), by = 100)\n",
    "sample_100th  <- dat[idx, ]\n",
    "sample_100th"
   ]
  },
  {
   "cell_type": "markdown",
   "id": "055b0959",
   "metadata": {},
   "source": [
    "### Exercise 2: Sampling numbers from a list or numbers at random"
   ]
  },
  {
   "cell_type": "code",
   "execution_count": 5,
   "id": "b53ce86c",
   "metadata": {},
   "outputs": [
    {
     "data": {
      "text/html": [
       "<style>\n",
       ".list-inline {list-style: none; margin:0; padding: 0}\n",
       ".list-inline>li {display: inline-block}\n",
       ".list-inline>li:not(:last-child)::after {content: \"\\00b7\"; padding: 0 .5ex}\n",
       "</style>\n",
       "<ol class=list-inline><li>4</li><li>17</li><li>10</li><li>23</li><li>13</li><li>7</li><li>20</li><li>1</li></ol>\n"
      ],
      "text/latex": [
       "\\begin{enumerate*}\n",
       "\\item 4\n",
       "\\item 17\n",
       "\\item 10\n",
       "\\item 23\n",
       "\\item 13\n",
       "\\item 7\n",
       "\\item 20\n",
       "\\item 1\n",
       "\\end{enumerate*}\n"
      ],
      "text/markdown": [
       "1. 4\n",
       "2. 17\n",
       "3. 10\n",
       "4. 23\n",
       "5. 13\n",
       "6. 7\n",
       "7. 20\n",
       "8. 1\n",
       "\n",
       "\n"
      ],
      "text/plain": [
       "[1]  4 17 10 23 13  7 20  1"
      ]
     },
     "metadata": {},
     "output_type": "display_data"
    }
   ],
   "source": [
    "list_of_numbers  <- 1:24\n",
    "sample(list_of_numbers, size = 8)"
   ]
  },
  {
   "cell_type": "markdown",
   "id": "18f84e1d",
   "metadata": {},
   "source": [
    "Note this is just one random draw, if we draw again the numbers will look different and when you took a random sample the specific list chosen will look yet different again."
   ]
  },
  {
   "cell_type": "markdown",
   "id": "8913cdc1",
   "metadata": {},
   "source": [
    "### Exercise 3: Sample mean and sample standard deviation"
   ]
  },
  {
   "cell_type": "code",
   "execution_count": 9,
   "id": "acfac0aa",
   "metadata": {},
   "outputs": [
    {
     "data": {
      "text/html": [
       "172.75349605696"
      ],
      "text/latex": [
       "172.75349605696"
      ],
      "text/markdown": [
       "172.75349605696"
      ],
      "text/plain": [
       "[1] 172.7535"
      ]
     },
     "metadata": {},
     "output_type": "display_data"
    },
    {
     "data": {
      "text/html": [
       "4.74568164735561"
      ],
      "text/latex": [
       "4.74568164735561"
      ],
      "text/markdown": [
       "4.74568164735561"
      ],
      "text/plain": [
       "[1] 4.745682"
      ]
     },
     "metadata": {},
     "output_type": "display_data"
    }
   ],
   "source": [
    "# The Height data in cm\n",
    "\n",
    "data  <- socr_height_weight\n",
    "\n",
    "emp_distr_height  <- function(n){\n",
    "    \n",
    "    data[sample(x = 1:nrow(data), size = n, replace = T), ]\n",
    "    \n",
    "}\n",
    "\n",
    "sample_dat  <- emp_distr_height(n = 5000)\n",
    "\n",
    "# We convert the units to cm\n",
    "\n",
    "mean(sample_dat$Height*2.54)\n",
    "sd(sample_dat$Height*2.54)"
   ]
  },
  {
   "cell_type": "markdown",
   "id": "420e9725",
   "metadata": {},
   "source": [
    "When we use the full sample we get:"
   ]
  },
  {
   "cell_type": "code",
   "execution_count": 10,
   "id": "669f1af3",
   "metadata": {},
   "outputs": [
    {
     "data": {
      "text/html": [
       "172.702508535872"
      ],
      "text/latex": [
       "172.702508535872"
      ],
      "text/markdown": [
       "172.702508535872"
      ],
      "text/plain": [
       "[1] 172.7025"
      ]
     },
     "metadata": {},
     "output_type": "display_data"
    },
    {
     "data": {
      "text/html": [
       "4.83026407886225"
      ],
      "text/latex": [
       "4.83026407886225"
      ],
      "text/markdown": [
       "4.83026407886225"
      ],
      "text/plain": [
       "[1] 4.830264"
      ]
     },
     "metadata": {},
     "output_type": "display_data"
    }
   ],
   "source": [
    "mean(data$Height*2.54)\n",
    "sd(data$Height*2.54)"
   ]
  },
  {
   "cell_type": "markdown",
   "id": "88bd82d5",
   "metadata": {},
   "source": [
    "The sample is already pretty close to the true parameter values in the population."
   ]
  },
  {
   "cell_type": "markdown",
   "id": "3b0036ea",
   "metadata": {},
   "source": [
    "### Exercise 4: Rolling two dice"
   ]
  },
  {
   "cell_type": "code",
   "execution_count": 11,
   "id": "bf660ddd",
   "metadata": {},
   "outputs": [],
   "source": [
    "roll <- function(){\n",
    "  \n",
    "  # create a die\n",
    "  \n",
    "  die <- 1:6\n",
    "  \n",
    "  # roll the dice by making use of sample. We roll two dice, therefore size has to be equal to 2\n",
    "  # note that we need to set replace to TRUE because both dice should be able to show all possible\n",
    "  # points\n",
    "  \n",
    "  dice <- sample(die, size = 2, replace = TRUE)\n",
    "  \n",
    "  # sum up the points of the two dice\n",
    "  \n",
    "  sum(dice)\n",
    "  \n",
    "}"
   ]
  },
  {
   "cell_type": "markdown",
   "id": "60226f95",
   "metadata": {},
   "source": [
    "Comment: Note that when you choose to sample twice from the points 1 - 6 using the `sample()` \n",
    "function, you need to set the replace argument to `TRUE`. Check the notes or the help for \n",
    "sample if you need to look up what this means. If replace is set to `FALSE` - as is the default with sample - then you have a situation where it is impossible that when the first die shows\n",
    "a particular number, the second dice shows it as well. This is clearly not what we have in mind\n",
    "if we think of dice throws. Of course we want to allow, for example, that both dice ,may show 6."
   ]
  },
  {
   "cell_type": "code",
   "execution_count": 12,
   "id": "e9e017c4",
   "metadata": {},
   "outputs": [],
   "source": [
    "rolls <- replicate(10000, roll())"
   ]
  },
  {
   "cell_type": "code",
   "execution_count": 16,
   "id": "3e6a526b",
   "metadata": {
    "scrolled": true
   },
   "outputs": [
    {
     "data": {
      "image/png": "[encoded data removed]",
      "text/plain": [
       "Plot with title “Histogram of rolls”"
      ]
     },
     "metadata": {
      "image/png": {
       "height": 420,
       "width": 420
      }
     },
     "output_type": "display_data"
    }
   ],
   "source": [
    "hist(rolls)"
   ]
  },
  {
   "cell_type": "markdown",
   "id": "26e3953a",
   "metadata": {},
   "source": [
    "There is no visible bias in the outcomes. The dice seem fair."
   ]
  },
  {
   "cell_type": "markdown",
   "id": "5bb0ca1d",
   "metadata": {},
   "source": [
    "### Exercise 5: Conversion into standard units"
   ]
  },
  {
   "cell_type": "code",
   "execution_count": 17,
   "id": "10857d2b",
   "metadata": {},
   "outputs": [
    {
     "data": {
      "text/html": [
       "<style>\n",
       ".list-inline {list-style: none; margin:0; padding: 0}\n",
       ".list-inline>li {display: inline-block}\n",
       ".list-inline>li:not(:last-child)::after {content: \"\\00b7\"; padding: 0 .5ex}\n",
       "</style>\n",
       "<ol class=list-inline><li>1.32787386211651</li><li>-1.08531948258458</li><li>-0.242554379531931</li></ol>\n"
      ],
      "text/latex": [
       "\\begin{enumerate*}\n",
       "\\item 1.32787386211651\n",
       "\\item -1.08531948258458\n",
       "\\item -0.242554379531931\n",
       "\\end{enumerate*}\n"
      ],
      "text/markdown": [
       "1. 1.32787386211651\n",
       "2. -1.08531948258458\n",
       "3. -0.242554379531931\n",
       "\n",
       "\n"
      ],
      "text/plain": [
       "[1]  1.3278739 -1.0853195 -0.2425544"
      ]
     },
     "metadata": {},
     "output_type": "display_data"
    }
   ],
   "source": [
    "val  <- c(175.9599, 165.3240, 169.0384)\n",
    "\n",
    "z  <- (val - mean(val))/(sd(val)*sqrt(2/3))\n",
    "\n",
    "z"
   ]
  },
  {
   "cell_type": "code",
   "execution_count": 22,
   "id": "37dd2e40",
   "metadata": {},
   "outputs": [
    {
     "data": {
      "text/html": [
       "-2.14645376848723e-15"
      ],
      "text/latex": [
       "-2.14645376848723e-15"
      ],
      "text/markdown": [
       "-2.14645376848723e-15"
      ],
      "text/plain": [
       "[1] -2.146454e-15"
      ]
     },
     "metadata": {},
     "output_type": "display_data"
    },
    {
     "data": {
      "text/html": [
       "1"
      ],
      "text/latex": [
       "1"
      ],
      "text/markdown": [
       "1"
      ],
      "text/plain": [
       "[1] 1"
      ]
     },
     "metadata": {},
     "output_type": "display_data"
    }
   ],
   "source": [
    "mean(z)\n",
    "sd(z)*sqrt(2/3)"
   ]
  },
  {
   "cell_type": "markdown",
   "id": "63b389b8",
   "metadata": {},
   "source": [
    "### Exercise 6: Find the area under the normal curve"
   ]
  },
  {
   "cell_type": "code",
   "execution_count": 24,
   "id": "7bcb0a3a",
   "metadata": {},
   "outputs": [
    {
     "data": {
      "text/html": [
       "0.105649773666855"
      ],
      "text/latex": [
       "0.105649773666855"
      ],
      "text/markdown": [
       "0.105649773666855"
      ],
      "text/plain": [
       "[1] 0.1056498"
      ]
     },
     "metadata": {},
     "output_type": "display_data"
    }
   ],
   "source": [
    "1 - pnorm(1.25)"
   ]
  },
  {
   "cell_type": "code",
   "execution_count": 25,
   "id": "0767f3dd",
   "metadata": {},
   "outputs": [
    {
     "data": {
      "text/html": [
       "0.788144601416603"
      ],
      "text/latex": [
       "0.788144601416603"
      ],
      "text/markdown": [
       "0.788144601416603"
      ],
      "text/plain": [
       "[1] 0.7881446"
      ]
     },
     "metadata": {},
     "output_type": "display_data"
    }
   ],
   "source": [
    "pnorm(0.8)"
   ]
  },
  {
   "cell_type": "code",
   "execution_count": 26,
   "id": "4d8beed8",
   "metadata": {},
   "outputs": [
    {
     "data": {
      "text/html": [
       "0.433851296842193"
      ],
      "text/latex": [
       "0.433851296842193"
      ],
      "text/markdown": [
       "0.433851296842193"
      ],
      "text/plain": [
       "[1] 0.4338513"
      ]
     },
     "metadata": {},
     "output_type": "display_data"
    }
   ],
   "source": [
    "pnorm(0.9) - pnorm(-0.3)"
   ]
  },
  {
   "cell_type": "code",
   "execution_count": 27,
   "id": "a98ab03d",
   "metadata": {},
   "outputs": [
    {
     "data": {
      "text/html": [
       "0.344578258389676"
      ],
      "text/latex": [
       "0.344578258389676"
      ],
      "text/markdown": [
       "0.344578258389676"
      ],
      "text/plain": [
       "[1] 0.3445783"
      ]
     },
     "metadata": {},
     "output_type": "display_data"
    }
   ],
   "source": [
    "pnorm(-0.4)"
   ]
  },
  {
   "cell_type": "code",
   "execution_count": 28,
   "id": "62146796",
   "metadata": {},
   "outputs": [
    {
     "data": {
      "text/html": [
       "0.247777773804066"
      ],
      "text/latex": [
       "0.247777773804066"
      ],
      "text/markdown": [
       "0.247777773804066"
      ],
      "text/plain": [
       "[1] 0.2477778"
      ]
     },
     "metadata": {},
     "output_type": "display_data"
    }
   ],
   "source": [
    "pnorm(1.3)-pnorm(0.4)"
   ]
  },
  {
   "cell_type": "code",
   "execution_count": 29,
   "id": "0a3144a0",
   "metadata": {},
   "outputs": [
    {
     "data": {
      "text/html": [
       "0.133614402537716"
      ],
      "text/latex": [
       "0.133614402537716"
      ],
      "text/markdown": [
       "0.133614402537716"
      ],
      "text/plain": [
       "[1] 0.1336144"
      ]
     },
     "metadata": {},
     "output_type": "display_data"
    }
   ],
   "source": [
    "1 - (pnorm(1.5) - pnorm(-1.5))"
   ]
  },
  {
   "cell_type": "markdown",
   "id": "03f0cbb7",
   "metadata": {},
   "source": [
    "a) 1 stanndard deviation\n",
    "\n",
    "b) 1.15\n",
    " \n",
    " "
   ]
  },
  {
   "cell_type": "markdown",
   "id": "6dd0283a",
   "metadata": {},
   "source": [
    "### Exercise 7: Percentiles, median, interquartile range"
   ]
  },
  {
   "cell_type": "code",
   "execution_count": 35,
   "id": "8210de38",
   "metadata": {},
   "outputs": [
    {
     "data": {
      "text/html": [
       "<style>\n",
       ".dl-inline {width: auto; margin:0; padding: 0}\n",
       ".dl-inline>dt, .dl-inline>dd {float: none; width: auto; display: inline-block}\n",
       ".dl-inline>dt::after {content: \":\\0020\"; padding-right: .5ex}\n",
       ".dl-inline>dt:not(:first-of-type) {padding-left: .5ex}\n",
       "</style><dl class=dl-inline><dt>1%</dt><dd>156</dd><dt>10%</dt><dd>161</dd><dt>25%</dt><dd>163</dd><dt>50%</dt><dd>167</dd><dt>75%</dt><dd>170</dd><dt>90%</dt><dd>173</dd><dt>99%</dt><dd>177</dd></dl>\n"
      ],
      "text/latex": [
       "\\begin{description*}\n",
       "\\item[1\\textbackslash{}\\%] 156\n",
       "\\item[10\\textbackslash{}\\%] 161\n",
       "\\item[25\\textbackslash{}\\%] 163\n",
       "\\item[50\\textbackslash{}\\%] 167\n",
       "\\item[75\\textbackslash{}\\%] 170\n",
       "\\item[90\\textbackslash{}\\%] 173\n",
       "\\item[99\\textbackslash{}\\%] 177\n",
       "\\end{description*}\n"
      ],
      "text/markdown": [
       "1%\n",
       ":   15610%\n",
       ":   16125%\n",
       ":   16350%\n",
       ":   16775%\n",
       ":   17090%\n",
       ":   17399%\n",
       ":   177\n",
       "\n"
      ],
      "text/plain": [
       " 1% 10% 25% 50% 75% 90% 99% \n",
       "156 161 163 167 170 173 177 "
      ]
     },
     "metadata": {},
     "output_type": "display_data"
    }
   ],
   "source": [
    "# height in cm\n",
    "\n",
    "round(quantile((data$Height*2.45), c(0.01, 0.1, 0.25, 0.5, 0.75, 0.9, 0.99), 2))"
   ]
  },
  {
   "cell_type": "code",
   "execution_count": 36,
   "id": "31e57575",
   "metadata": {},
   "outputs": [
    {
     "data": {
      "text/html": [
       "166.58312831216"
      ],
      "text/latex": [
       "166.58312831216"
      ],
      "text/markdown": [
       "166.58312831216"
      ],
      "text/plain": [
       "[1] 166.5831"
      ]
     },
     "metadata": {},
     "output_type": "display_data"
    }
   ],
   "source": [
    "mean(data$Height*2.45)"
   ]
  },
  {
   "cell_type": "code",
   "execution_count": 37,
   "id": "61a561fb",
   "metadata": {},
   "outputs": [
    {
     "data": {
      "text/html": [
       "4.65911298945375"
      ],
      "text/latex": [
       "4.65911298945375"
      ],
      "text/markdown": [
       "4.65911298945375"
      ],
      "text/plain": [
       "[1] 4.659113"
      ]
     },
     "metadata": {},
     "output_type": "display_data"
    }
   ],
   "source": [
    "sd(data$Height*2.45)"
   ]
  },
  {
   "cell_type": "code",
   "execution_count": 38,
   "id": "ab2b6d12",
   "metadata": {},
   "outputs": [
    {
     "data": {
      "text/html": [
       "2.56856000000001"
      ],
      "text/latex": [
       "2.56856000000001"
      ],
      "text/markdown": [
       "2.56856000000001"
      ],
      "text/plain": [
       "[1] 2.56856"
      ]
     },
     "metadata": {},
     "output_type": "display_data"
    }
   ],
   "source": [
    "IQR(data$Height)"
   ]
  },
  {
   "cell_type": "markdown",
   "id": "2803cd70",
   "metadata": {},
   "source": [
    "Median and mean coincide because the distribution is symmetric. Since it is at the same time approximated by a normal curve very well, the sd is larger than the IQR because within 1 sd from the mean are 68 % of all values and in the IQR are only 50%, so it must be narrower."
   ]
  },
  {
   "cell_type": "markdown",
   "id": "ca50c460",
   "metadata": {},
   "source": [
    "### Exercise 8: Practcing the tapply function"
   ]
  },
  {
   "cell_type": "code",
   "execution_count": 46,
   "id": "ee0631b3",
   "metadata": {},
   "outputs": [],
   "source": [
    "library(JWL)\n",
    "dhs_data  <- children_nutrition_data\n",
    "\n",
    "dhs_data$weighted_nt_ch_stunt  <- dhs_data$nt_ch_stunt*dhs_data$wt"
   ]
  },
  {
   "cell_type": "code",
   "execution_count": 49,
   "id": "61bb3ed2",
   "metadata": {},
   "outputs": [
    {
     "data": {
      "text/html": [
       "<style>\n",
       ".dl-inline {width: auto; margin:0; padding: 0}\n",
       ".dl-inline>dt, .dl-inline>dd {float: none; width: auto; display: inline-block}\n",
       ".dl-inline>dt::after {content: \":\\0020\"; padding-right: .5ex}\n",
       ".dl-inline>dt:not(:first-of-type) {padding-left: .5ex}\n",
       "</style><dl class=dl-inline><dt>region 1</dt><dd>360.464472</dd><dt>region 2</dt><dd>221.903655</dd><dt>region 3</dt><dd>105.694042</dd><dt>region 4</dt><dd>207.273796</dd></dl>\n"
      ],
      "text/latex": [
       "\\begin{description*}\n",
       "\\item[region 1] 360.464472\n",
       "\\item[region 2] 221.903655\n",
       "\\item[region 3] 105.694042\n",
       "\\item[region 4] 207.273796\n",
       "\\end{description*}\n"
      ],
      "text/markdown": [
       "region 1\n",
       ":   360.464472region 2\n",
       ":   221.903655region 3\n",
       ":   105.694042region 4\n",
       ":   207.273796\n",
       "\n"
      ],
      "text/plain": [
       "region 1 region 2 region 3 region 4 \n",
       "360.4645 221.9037 105.6940 207.2738 "
      ]
     },
     "metadata": {},
     "output_type": "display_data"
    }
   ],
   "source": [
    "tapply(dhs_data$weighted_nt_ch_stunt, dhs_data$region, sum)"
   ]
  },
  {
   "cell_type": "code",
   "execution_count": 50,
   "id": "70046423",
   "metadata": {},
   "outputs": [
    {
     "data": {
      "text/html": [
       "<style>\n",
       ".dl-inline {width: auto; margin:0; padding: 0}\n",
       ".dl-inline>dt, .dl-inline>dd {float: none; width: auto; display: inline-block}\n",
       ".dl-inline>dt::after {content: \":\\0020\"; padding-right: .5ex}\n",
       ".dl-inline>dt:not(:first-of-type) {padding-left: .5ex}\n",
       "</style><dl class=dl-inline><dt>region 1</dt><dd>1070.344578</dd><dt>region 2</dt><dd>544.079987</dd><dt>region 3</dt><dd>352.525147</dd><dt>region 4</dt><dd>527.152629</dd></dl>\n"
      ],
      "text/latex": [
       "\\begin{description*}\n",
       "\\item[region 1] 1070.344578\n",
       "\\item[region 2] 544.079987\n",
       "\\item[region 3] 352.525147\n",
       "\\item[region 4] 527.152629\n",
       "\\end{description*}\n"
      ],
      "text/markdown": [
       "region 1\n",
       ":   1070.344578region 2\n",
       ":   544.079987region 3\n",
       ":   352.525147region 4\n",
       ":   527.152629\n",
       "\n"
      ],
      "text/plain": [
       " region 1  region 2  region 3  region 4 \n",
       "1070.3446  544.0800  352.5251  527.1526 "
      ]
     },
     "metadata": {},
     "output_type": "display_data"
    }
   ],
   "source": [
    "tapply(dhs_data$wt, dhs_data$region, sum)"
   ]
  },
  {
   "cell_type": "code",
   "execution_count": 51,
   "id": "1ee81820",
   "metadata": {},
   "outputs": [
    {
     "data": {
      "text/html": [
       "<style>\n",
       ".dl-inline {width: auto; margin:0; padding: 0}\n",
       ".dl-inline>dt, .dl-inline>dd {float: none; width: auto; display: inline-block}\n",
       ".dl-inline>dt::after {content: \":\\0020\"; padding-right: .5ex}\n",
       ".dl-inline>dt:not(:first-of-type) {padding-left: .5ex}\n",
       "</style><dl class=dl-inline><dt>region 1</dt><dd>0.33677423084961</dd><dt>region 2</dt><dd>0.407851162149068</dd><dt>region 3</dt><dd>0.29981986504923</dd><dt>region 4</dt><dd>0.393195034222242</dd></dl>\n"
      ],
      "text/latex": [
       "\\begin{description*}\n",
       "\\item[region 1] 0.33677423084961\n",
       "\\item[region 2] 0.407851162149068\n",
       "\\item[region 3] 0.29981986504923\n",
       "\\item[region 4] 0.393195034222242\n",
       "\\end{description*}\n"
      ],
      "text/markdown": [
       "region 1\n",
       ":   0.33677423084961region 2\n",
       ":   0.407851162149068region 3\n",
       ":   0.29981986504923region 4\n",
       ":   0.393195034222242\n",
       "\n"
      ],
      "text/plain": [
       " region 1  region 2  region 3  region 4 \n",
       "0.3367742 0.4078512 0.2998199 0.3931950 "
      ]
     },
     "metadata": {},
     "output_type": "display_data"
    }
   ],
   "source": [
    "tapply(dhs_data$weighted_nt_ch_stunt, dhs_data$region, sum)/tapply(dhs_data$wt, dhs_data$region, sum)"
   ]
  },
  {
   "cell_type": "markdown",
   "id": "819bf9d2",
   "metadata": {},
   "source": [
    "Note that the complication comes from the weighting variable wt. We first created a new variable which weights\n",
    "the stunted cases with wt. The new variable is called here `weighte_nt_ch_stunt` and is appended to the dataframe by `dhs_data$weighted_nt_ch_stunt  <- dhs_data$nt_ch_stunt*dhs_data$wt` and then use `tapply()` twice once for the numerator and then for the denominator and do the necessary division to get the proportion at the end. If you compare we have saved a lot of typing compared with our original solution."
   ]
  },
  {
   "cell_type": "markdown",
   "id": "15032d39",
   "metadata": {},
   "source": [
    "## Project: The present and future of humanity in pictures and numbers"
   ]
  },
  {
   "cell_type": "markdown",
   "id": "6b077cae",
   "metadata": {},
   "source": [
    "### Age percentiles in Kenya, the United States and Japan"
   ]
  },
  {
   "cell_type": "markdown",
   "id": "94c0c9ca",
   "metadata": {},
   "source": [
    "In the last step of our project, people count, we were trying to\n",
    "compute the mean age for Kenya, the US and Japan. But if we look\n",
    "at the distribution of the number of people across age groups, we\n",
    "see not so much symmetric but rather asymmetric distributions. So let's\n",
    "continue our analysis here by considering percentiles and \n",
    "look at the median as one percentile, which can be alternatively\n",
    "used to characterize the center of a distribution. Let us\n",
    "also study spreads using the interquartile range.\n",
    "\n",
    "In order to do so, we can again load the data and make country subsets,\n",
    "as we did last time. Those of you who successfully completed this task\n",
    "last time, can now just recycle the code from the last unit. The others\n",
    "can give it a second trial here. Note the advantage of the notebook. You can now reuse your old code.\n",
    "\n",
    "So let's recycle"
   ]
  },
  {
   "cell_type": "code",
   "execution_count": 53,
   "id": "ca2222e7",
   "metadata": {},
   "outputs": [],
   "source": [
    "# Load data and give them a simpler name\n",
    "\n",
    "library(JWL)\n",
    "dat  <- population_statistics_by_age_and_sex\n",
    "\n",
    "# Form country sets\n",
    "\n",
    "ke_2022 <- dat[dat$Year == 2022 & dat$ISO2 == \"KE\", ]\n",
    "us_2022 <- dat[dat$Year == 2022 & dat$ISO2 == \"US\", ]\n",
    "jp_2022 <- dat[dat$Year == 2022 & dat$ISO2 == \"JP\", ]\n",
    "               \n",
    "# And your own country\n",
    "               \n",
    "at_2022  <-  dat[dat$Year == 2022 & dat$ISO2 == \"AT\", ]              "
   ]
  },
  {
   "cell_type": "markdown",
   "id": "7b79f49a",
   "metadata": {},
   "source": [
    "1. Find the median age group for Kenya, the United States, \n",
    "Japan and for your\n",
    "own country, by constructing a dataframe extended by the cumulative count of\n",
    "people across age groups and the proportion of the cumulative count\n",
    "in the total population."
   ]
  },
  {
   "cell_type": "code",
   "execution_count": 82,
   "id": "72cfe55b",
   "metadata": {},
   "outputs": [
    {
     "data": {
      "text/html": [
       "<table class=\"dataframe\">\n",
       "<caption>A data.frame: 20 × 4</caption>\n",
       "<thead>\n",
       "\t<tr><th scope=col>Country</th><th scope=col>Age</th><th scope=col>POP</th><th scope=col>CumProp</th></tr>\n",
       "\t<tr><th scope=col>&lt;fct&gt;</th><th scope=col>&lt;fct&gt;</th><th scope=col>&lt;dbl&gt;</th><th scope=col>&lt;dbl&gt;</th></tr>\n",
       "</thead>\n",
       "<tbody>\n",
       "\t<tr><td>Kenya</td><td>0-4  </td><td>7018768</td><td>0.1256392</td></tr>\n",
       "\t<tr><td>Kenya</td><td>5-9  </td><td>6835587</td><td>0.2479993</td></tr>\n",
       "\t<tr><td>Kenya</td><td>10-14</td><td>6917709</td><td>0.3718295</td></tr>\n",
       "\t<tr><td>Kenya</td><td>15-19</td><td>6475709</td><td>0.4877476</td></tr>\n",
       "\t<tr><td>Kenya</td><td>20-24</td><td>5321696</td><td>0.5830084</td></tr>\n",
       "\t<tr><td>Kenya</td><td>25-29</td><td>4259157</td><td>0.6592493</td></tr>\n",
       "\t<tr><td>Kenya</td><td>30-34</td><td>3873213</td><td>0.7285816</td></tr>\n",
       "\t<tr><td>Kenya</td><td>35-39</td><td>3680058</td><td>0.7944563</td></tr>\n",
       "\t<tr><td>Kenya</td><td>40-44</td><td>3217009</td><td>0.8520423</td></tr>\n",
       "\t<tr><td>Kenya</td><td>45-49</td><td>2367388</td><td>0.8944196</td></tr>\n",
       "\t<tr><td>Kenya</td><td>50-54</td><td>1749660</td><td>0.9257393</td></tr>\n",
       "\t<tr><td>Kenya</td><td>55-59</td><td>1351968</td><td>0.9499402</td></tr>\n",
       "\t<tr><td>Kenya</td><td>60-64</td><td>1004843</td><td>0.9679273</td></tr>\n",
       "\t<tr><td>Kenya</td><td>65-69</td><td> 728319</td><td>0.9809646</td></tr>\n",
       "\t<tr><td>Kenya</td><td>70-74</td><td> 502232</td><td>0.9899547</td></tr>\n",
       "\t<tr><td>Kenya</td><td>75-79</td><td> 306856</td><td>0.9954476</td></tr>\n",
       "\t<tr><td>Kenya</td><td>80-84</td><td> 166817</td><td>0.9984337</td></tr>\n",
       "\t<tr><td>Kenya</td><td>85-89</td><td>  67699</td><td>0.9996456</td></tr>\n",
       "\t<tr><td>Kenya</td><td>90-94</td><td>  17379</td><td>0.9999566</td></tr>\n",
       "\t<tr><td>Kenya</td><td>95-99</td><td>   2422</td><td>1.0000000</td></tr>\n",
       "</tbody>\n",
       "</table>\n"
      ],
      "text/latex": [
       "A data.frame: 20 × 4\n",
       "\\begin{tabular}{llll}\n",
       " Country & Age & POP & CumProp\\\\\n",
       " <fct> & <fct> & <dbl> & <dbl>\\\\\n",
       "\\hline\n",
       "\t Kenya & 0-4   & 7018768 & 0.1256392\\\\\n",
       "\t Kenya & 5-9   & 6835587 & 0.2479993\\\\\n",
       "\t Kenya & 10-14 & 6917709 & 0.3718295\\\\\n",
       "\t Kenya & 15-19 & 6475709 & 0.4877476\\\\\n",
       "\t Kenya & 20-24 & 5321696 & 0.5830084\\\\\n",
       "\t Kenya & 25-29 & 4259157 & 0.6592493\\\\\n",
       "\t Kenya & 30-34 & 3873213 & 0.7285816\\\\\n",
       "\t Kenya & 35-39 & 3680058 & 0.7944563\\\\\n",
       "\t Kenya & 40-44 & 3217009 & 0.8520423\\\\\n",
       "\t Kenya & 45-49 & 2367388 & 0.8944196\\\\\n",
       "\t Kenya & 50-54 & 1749660 & 0.9257393\\\\\n",
       "\t Kenya & 55-59 & 1351968 & 0.9499402\\\\\n",
       "\t Kenya & 60-64 & 1004843 & 0.9679273\\\\\n",
       "\t Kenya & 65-69 &  728319 & 0.9809646\\\\\n",
       "\t Kenya & 70-74 &  502232 & 0.9899547\\\\\n",
       "\t Kenya & 75-79 &  306856 & 0.9954476\\\\\n",
       "\t Kenya & 80-84 &  166817 & 0.9984337\\\\\n",
       "\t Kenya & 85-89 &   67699 & 0.9996456\\\\\n",
       "\t Kenya & 90-94 &   17379 & 0.9999566\\\\\n",
       "\t Kenya & 95-99 &    2422 & 1.0000000\\\\\n",
       "\\end{tabular}\n"
      ],
      "text/markdown": [
       "\n",
       "A data.frame: 20 × 4\n",
       "\n",
       "| Country &lt;fct&gt; | Age &lt;fct&gt; | POP &lt;dbl&gt; | CumProp &lt;dbl&gt; |\n",
       "|---|---|---|---|\n",
       "| Kenya | 0-4   | 7018768 | 0.1256392 |\n",
       "| Kenya | 5-9   | 6835587 | 0.2479993 |\n",
       "| Kenya | 10-14 | 6917709 | 0.3718295 |\n",
       "| Kenya | 15-19 | 6475709 | 0.4877476 |\n",
       "| Kenya | 20-24 | 5321696 | 0.5830084 |\n",
       "| Kenya | 25-29 | 4259157 | 0.6592493 |\n",
       "| Kenya | 30-34 | 3873213 | 0.7285816 |\n",
       "| Kenya | 35-39 | 3680058 | 0.7944563 |\n",
       "| Kenya | 40-44 | 3217009 | 0.8520423 |\n",
       "| Kenya | 45-49 | 2367388 | 0.8944196 |\n",
       "| Kenya | 50-54 | 1749660 | 0.9257393 |\n",
       "| Kenya | 55-59 | 1351968 | 0.9499402 |\n",
       "| Kenya | 60-64 | 1004843 | 0.9679273 |\n",
       "| Kenya | 65-69 |  728319 | 0.9809646 |\n",
       "| Kenya | 70-74 |  502232 | 0.9899547 |\n",
       "| Kenya | 75-79 |  306856 | 0.9954476 |\n",
       "| Kenya | 80-84 |  166817 | 0.9984337 |\n",
       "| Kenya | 85-89 |   67699 | 0.9996456 |\n",
       "| Kenya | 90-94 |   17379 | 0.9999566 |\n",
       "| Kenya | 95-99 |    2422 | 1.0000000 |\n",
       "\n"
      ],
      "text/plain": [
       "   Country Age   POP     CumProp  \n",
       "1  Kenya   0-4   7018768 0.1256392\n",
       "2  Kenya   5-9   6835587 0.2479993\n",
       "3  Kenya   10-14 6917709 0.3718295\n",
       "4  Kenya   15-19 6475709 0.4877476\n",
       "5  Kenya   20-24 5321696 0.5830084\n",
       "6  Kenya   25-29 4259157 0.6592493\n",
       "7  Kenya   30-34 3873213 0.7285816\n",
       "8  Kenya   35-39 3680058 0.7944563\n",
       "9  Kenya   40-44 3217009 0.8520423\n",
       "10 Kenya   45-49 2367388 0.8944196\n",
       "11 Kenya   50-54 1749660 0.9257393\n",
       "12 Kenya   55-59 1351968 0.9499402\n",
       "13 Kenya   60-64 1004843 0.9679273\n",
       "14 Kenya   65-69  728319 0.9809646\n",
       "15 Kenya   70-74  502232 0.9899547\n",
       "16 Kenya   75-79  306856 0.9954476\n",
       "17 Kenya   80-84  166817 0.9984337\n",
       "18 Kenya   85-89   67699 0.9996456\n",
       "19 Kenya   90-94   17379 0.9999566\n",
       "20 Kenya   95-99    2422 1.0000000"
      ]
     },
     "metadata": {},
     "output_type": "display_data"
    }
   ],
   "source": [
    "table_ke  <- data.frame(Country = ke_2022$Country[1:(nrow(ke_2022)/2)],\n",
    "                        Age = ke_2022$Age[1:(nrow(ke_2022)/2)],\n",
    "                        POP = (ke_2022$POP[ke_2022$Sex == \"F\"] + ke_2022$POP[ke_2022$Sex == \"M\"]))\n",
    "\n",
    "table_ke$CumProp  <- cumsum(table_ke$POP)/sum(table_ke$POP)\n",
    "                            \n",
    "\n",
    "table_ke"
   ]
  },
  {
   "cell_type": "markdown",
   "id": "dc54af3b",
   "metadata": {},
   "source": [
    "The median age is within the age group 15-19. This is lower than the mean age. In the data the mean is pulled up by the older age groups. The difference between median and mean is quite large for Kenya."
   ]
  },
  {
   "cell_type": "code",
   "execution_count": 83,
   "id": "c8eff6e0",
   "metadata": {},
   "outputs": [
    {
     "data": {
      "text/html": [
       "<table class=\"dataframe\">\n",
       "<caption>A data.frame: 20 × 4</caption>\n",
       "<thead>\n",
       "\t<tr><th scope=col>Country</th><th scope=col>Age</th><th scope=col>POP</th><th scope=col>CumProp</th></tr>\n",
       "\t<tr><th scope=col>&lt;fct&gt;</th><th scope=col>&lt;fct&gt;</th><th scope=col>&lt;dbl&gt;</th><th scope=col>&lt;dbl&gt;</th></tr>\n",
       "</thead>\n",
       "<tbody>\n",
       "\t<tr><td>United States of America</td><td>0-4  </td><td>18538353</td><td>0.05563755</td></tr>\n",
       "\t<tr><td>United States of America</td><td>5-9  </td><td>20009195</td><td>0.11568942</td></tr>\n",
       "\t<tr><td>United States of America</td><td>10-14</td><td>20889839</td><td>0.17838428</td></tr>\n",
       "\t<tr><td>United States of America</td><td>15-19</td><td>21635792</td><td>0.24331791</td></tr>\n",
       "\t<tr><td>United States of America</td><td>20-24</td><td>22705779</td><td>0.31146280</td></tr>\n",
       "\t<tr><td>United States of America</td><td>25-29</td><td>22193164</td><td>0.37806922</td></tr>\n",
       "\t<tr><td>United States of America</td><td>30-34</td><td>23308136</td><td>0.44802191</td></tr>\n",
       "\t<tr><td>United States of America</td><td>35-39</td><td>22267949</td><td>0.51485277</td></tr>\n",
       "\t<tr><td>United States of America</td><td>40-44</td><td>21427416</td><td>0.57916102</td></tr>\n",
       "\t<tr><td>United States of America</td><td>45-49</td><td>19624098</td><td>0.63805713</td></tr>\n",
       "\t<tr><td>United States of America</td><td>50-54</td><td>20807547</td><td>0.70050501</td></tr>\n",
       "\t<tr><td>United States of America</td><td>55-59</td><td>20967014</td><td>0.76343150</td></tr>\n",
       "\t<tr><td>United States of America</td><td>60-64</td><td>21118423</td><td>0.82681239</td></tr>\n",
       "\t<tr><td>United States of America</td><td>65-69</td><td>18631422</td><td>0.88272926</td></tr>\n",
       "\t<tr><td>United States of America</td><td>70-74</td><td>15157017</td><td>0.92821870</td></tr>\n",
       "\t<tr><td>United States of America</td><td>75-79</td><td>10861000</td><td>0.96081488</td></tr>\n",
       "\t<tr><td>United States of America</td><td>80-84</td><td> 6659545</td><td>0.98080160</td></tr>\n",
       "\t<tr><td>United States of America</td><td>85-89</td><td> 3906331</td><td>0.99252533</td></tr>\n",
       "\t<tr><td>United States of America</td><td>90-94</td><td> 1908941</td><td>0.99825447</td></tr>\n",
       "\t<tr><td>United States of America</td><td>95-99</td><td>  581608</td><td>1.00000000</td></tr>\n",
       "</tbody>\n",
       "</table>\n"
      ],
      "text/latex": [
       "A data.frame: 20 × 4\n",
       "\\begin{tabular}{llll}\n",
       " Country & Age & POP & CumProp\\\\\n",
       " <fct> & <fct> & <dbl> & <dbl>\\\\\n",
       "\\hline\n",
       "\t United States of America & 0-4   & 18538353 & 0.05563755\\\\\n",
       "\t United States of America & 5-9   & 20009195 & 0.11568942\\\\\n",
       "\t United States of America & 10-14 & 20889839 & 0.17838428\\\\\n",
       "\t United States of America & 15-19 & 21635792 & 0.24331791\\\\\n",
       "\t United States of America & 20-24 & 22705779 & 0.31146280\\\\\n",
       "\t United States of America & 25-29 & 22193164 & 0.37806922\\\\\n",
       "\t United States of America & 30-34 & 23308136 & 0.44802191\\\\\n",
       "\t United States of America & 35-39 & 22267949 & 0.51485277\\\\\n",
       "\t United States of America & 40-44 & 21427416 & 0.57916102\\\\\n",
       "\t United States of America & 45-49 & 19624098 & 0.63805713\\\\\n",
       "\t United States of America & 50-54 & 20807547 & 0.70050501\\\\\n",
       "\t United States of America & 55-59 & 20967014 & 0.76343150\\\\\n",
       "\t United States of America & 60-64 & 21118423 & 0.82681239\\\\\n",
       "\t United States of America & 65-69 & 18631422 & 0.88272926\\\\\n",
       "\t United States of America & 70-74 & 15157017 & 0.92821870\\\\\n",
       "\t United States of America & 75-79 & 10861000 & 0.96081488\\\\\n",
       "\t United States of America & 80-84 &  6659545 & 0.98080160\\\\\n",
       "\t United States of America & 85-89 &  3906331 & 0.99252533\\\\\n",
       "\t United States of America & 90-94 &  1908941 & 0.99825447\\\\\n",
       "\t United States of America & 95-99 &   581608 & 1.00000000\\\\\n",
       "\\end{tabular}\n"
      ],
      "text/markdown": [
       "\n",
       "A data.frame: 20 × 4\n",
       "\n",
       "| Country &lt;fct&gt; | Age &lt;fct&gt; | POP &lt;dbl&gt; | CumProp &lt;dbl&gt; |\n",
       "|---|---|---|---|\n",
       "| United States of America | 0-4   | 18538353 | 0.05563755 |\n",
       "| United States of America | 5-9   | 20009195 | 0.11568942 |\n",
       "| United States of America | 10-14 | 20889839 | 0.17838428 |\n",
       "| United States of America | 15-19 | 21635792 | 0.24331791 |\n",
       "| United States of America | 20-24 | 22705779 | 0.31146280 |\n",
       "| United States of America | 25-29 | 22193164 | 0.37806922 |\n",
       "| United States of America | 30-34 | 23308136 | 0.44802191 |\n",
       "| United States of America | 35-39 | 22267949 | 0.51485277 |\n",
       "| United States of America | 40-44 | 21427416 | 0.57916102 |\n",
       "| United States of America | 45-49 | 19624098 | 0.63805713 |\n",
       "| United States of America | 50-54 | 20807547 | 0.70050501 |\n",
       "| United States of America | 55-59 | 20967014 | 0.76343150 |\n",
       "| United States of America | 60-64 | 21118423 | 0.82681239 |\n",
       "| United States of America | 65-69 | 18631422 | 0.88272926 |\n",
       "| United States of America | 70-74 | 15157017 | 0.92821870 |\n",
       "| United States of America | 75-79 | 10861000 | 0.96081488 |\n",
       "| United States of America | 80-84 |  6659545 | 0.98080160 |\n",
       "| United States of America | 85-89 |  3906331 | 0.99252533 |\n",
       "| United States of America | 90-94 |  1908941 | 0.99825447 |\n",
       "| United States of America | 95-99 |   581608 | 1.00000000 |\n",
       "\n"
      ],
      "text/plain": [
       "   Country                  Age   POP      CumProp   \n",
       "1  United States of America 0-4   18538353 0.05563755\n",
       "2  United States of America 5-9   20009195 0.11568942\n",
       "3  United States of America 10-14 20889839 0.17838428\n",
       "4  United States of America 15-19 21635792 0.24331791\n",
       "5  United States of America 20-24 22705779 0.31146280\n",
       "6  United States of America 25-29 22193164 0.37806922\n",
       "7  United States of America 30-34 23308136 0.44802191\n",
       "8  United States of America 35-39 22267949 0.51485277\n",
       "9  United States of America 40-44 21427416 0.57916102\n",
       "10 United States of America 45-49 19624098 0.63805713\n",
       "11 United States of America 50-54 20807547 0.70050501\n",
       "12 United States of America 55-59 20967014 0.76343150\n",
       "13 United States of America 60-64 21118423 0.82681239\n",
       "14 United States of America 65-69 18631422 0.88272926\n",
       "15 United States of America 70-74 15157017 0.92821870\n",
       "16 United States of America 75-79 10861000 0.96081488\n",
       "17 United States of America 80-84  6659545 0.98080160\n",
       "18 United States of America 85-89  3906331 0.99252533\n",
       "19 United States of America 90-94  1908941 0.99825447\n",
       "20 United States of America 95-99   581608 1.00000000"
      ]
     },
     "metadata": {},
     "output_type": "display_data"
    }
   ],
   "source": [
    "table_us  <- data.frame(Country = us_2022$Country[1:(nrow(us_2022)/2)],\n",
    "                        Age = us_2022$Age[1:(nrow(ke_2022)/2)],\n",
    "                        POP = (us_2022$POP[us_2022$Sex == \"F\"] + us_2022$POP[us_2022$Sex == \"M\"]))\n",
    "\n",
    "table_us$CumProp  <- cumsum(table_us$POP)/sum(table_us$POP)\n",
    "                            \n",
    "\n",
    "table_us"
   ]
  },
  {
   "cell_type": "markdown",
   "id": "0a020d6f",
   "metadata": {},
   "source": [
    "The median age group in the US is at the age group 35 to 39 pretty much at the mean age. This is because the distribution of age groups in the US is less skewed since the US is a middle layered country."
   ]
  },
  {
   "cell_type": "code",
   "execution_count": 84,
   "id": "3a5cce10",
   "metadata": {},
   "outputs": [
    {
     "data": {
      "text/html": [
       "<table class=\"dataframe\">\n",
       "<caption>A data.frame: 20 × 4</caption>\n",
       "<thead>\n",
       "\t<tr><th scope=col>Country</th><th scope=col>Age</th><th scope=col>POP</th><th scope=col>CumProp</th></tr>\n",
       "\t<tr><th scope=col>&lt;fct&gt;</th><th scope=col>&lt;fct&gt;</th><th scope=col>&lt;dbl&gt;</th><th scope=col>&lt;dbl&gt;</th></tr>\n",
       "</thead>\n",
       "<tbody>\n",
       "\t<tr><td>Japan</td><td>0-4  </td><td>4556555</td><td>0.03671436</td></tr>\n",
       "\t<tr><td>Japan</td><td>5-9  </td><td>5278748</td><td>0.07924778</td></tr>\n",
       "\t<tr><td>Japan</td><td>10-14</td><td>5632437</td><td>0.12463104</td></tr>\n",
       "\t<tr><td>Japan</td><td>15-19</td><td>5625932</td><td>0.16996189</td></tr>\n",
       "\t<tr><td>Japan</td><td>20-24</td><td>5959064</td><td>0.21797695</td></tr>\n",
       "\t<tr><td>Japan</td><td>25-29</td><td>6167973</td><td>0.26767528</td></tr>\n",
       "\t<tr><td>Japan</td><td>30-34</td><td>6348230</td><td>0.31882603</td></tr>\n",
       "\t<tr><td>Japan</td><td>35-39</td><td>7275888</td><td>0.37745137</td></tr>\n",
       "\t<tr><td>Japan</td><td>40-44</td><td>7911658</td><td>0.44119942</td></tr>\n",
       "\t<tr><td>Japan</td><td>45-49</td><td>9180119</td><td>0.51516807</td></tr>\n",
       "\t<tr><td>Japan</td><td>50-54</td><td>9069125</td><td>0.58824238</td></tr>\n",
       "\t<tr><td>Japan</td><td>55-59</td><td>7817264</td><td>0.65122985</td></tr>\n",
       "\t<tr><td>Japan</td><td>60-64</td><td>7347215</td><td>0.71042991</td></tr>\n",
       "\t<tr><td>Japan</td><td>65-69</td><td>7575423</td><td>0.77146874</td></tr>\n",
       "\t<tr><td>Japan</td><td>70-74</td><td>9360496</td><td>0.84689078</td></tr>\n",
       "\t<tr><td>Japan</td><td>75-79</td><td>6971647</td><td>0.90306470</td></tr>\n",
       "\t<tr><td>Japan</td><td>80-84</td><td>5652823</td><td>0.94861222</td></tr>\n",
       "\t<tr><td>Japan</td><td>85-89</td><td>3841456</td><td>0.97956469</td></tr>\n",
       "\t<tr><td>Japan</td><td>90-94</td><td>1930225</td><td>0.99511744</td></tr>\n",
       "\t<tr><td>Japan</td><td>95-99</td><td> 605966</td><td>1.00000000</td></tr>\n",
       "</tbody>\n",
       "</table>\n"
      ],
      "text/latex": [
       "A data.frame: 20 × 4\n",
       "\\begin{tabular}{llll}\n",
       " Country & Age & POP & CumProp\\\\\n",
       " <fct> & <fct> & <dbl> & <dbl>\\\\\n",
       "\\hline\n",
       "\t Japan & 0-4   & 4556555 & 0.03671436\\\\\n",
       "\t Japan & 5-9   & 5278748 & 0.07924778\\\\\n",
       "\t Japan & 10-14 & 5632437 & 0.12463104\\\\\n",
       "\t Japan & 15-19 & 5625932 & 0.16996189\\\\\n",
       "\t Japan & 20-24 & 5959064 & 0.21797695\\\\\n",
       "\t Japan & 25-29 & 6167973 & 0.26767528\\\\\n",
       "\t Japan & 30-34 & 6348230 & 0.31882603\\\\\n",
       "\t Japan & 35-39 & 7275888 & 0.37745137\\\\\n",
       "\t Japan & 40-44 & 7911658 & 0.44119942\\\\\n",
       "\t Japan & 45-49 & 9180119 & 0.51516807\\\\\n",
       "\t Japan & 50-54 & 9069125 & 0.58824238\\\\\n",
       "\t Japan & 55-59 & 7817264 & 0.65122985\\\\\n",
       "\t Japan & 60-64 & 7347215 & 0.71042991\\\\\n",
       "\t Japan & 65-69 & 7575423 & 0.77146874\\\\\n",
       "\t Japan & 70-74 & 9360496 & 0.84689078\\\\\n",
       "\t Japan & 75-79 & 6971647 & 0.90306470\\\\\n",
       "\t Japan & 80-84 & 5652823 & 0.94861222\\\\\n",
       "\t Japan & 85-89 & 3841456 & 0.97956469\\\\\n",
       "\t Japan & 90-94 & 1930225 & 0.99511744\\\\\n",
       "\t Japan & 95-99 &  605966 & 1.00000000\\\\\n",
       "\\end{tabular}\n"
      ],
      "text/markdown": [
       "\n",
       "A data.frame: 20 × 4\n",
       "\n",
       "| Country &lt;fct&gt; | Age &lt;fct&gt; | POP &lt;dbl&gt; | CumProp &lt;dbl&gt; |\n",
       "|---|---|---|---|\n",
       "| Japan | 0-4   | 4556555 | 0.03671436 |\n",
       "| Japan | 5-9   | 5278748 | 0.07924778 |\n",
       "| Japan | 10-14 | 5632437 | 0.12463104 |\n",
       "| Japan | 15-19 | 5625932 | 0.16996189 |\n",
       "| Japan | 20-24 | 5959064 | 0.21797695 |\n",
       "| Japan | 25-29 | 6167973 | 0.26767528 |\n",
       "| Japan | 30-34 | 6348230 | 0.31882603 |\n",
       "| Japan | 35-39 | 7275888 | 0.37745137 |\n",
       "| Japan | 40-44 | 7911658 | 0.44119942 |\n",
       "| Japan | 45-49 | 9180119 | 0.51516807 |\n",
       "| Japan | 50-54 | 9069125 | 0.58824238 |\n",
       "| Japan | 55-59 | 7817264 | 0.65122985 |\n",
       "| Japan | 60-64 | 7347215 | 0.71042991 |\n",
       "| Japan | 65-69 | 7575423 | 0.77146874 |\n",
       "| Japan | 70-74 | 9360496 | 0.84689078 |\n",
       "| Japan | 75-79 | 6971647 | 0.90306470 |\n",
       "| Japan | 80-84 | 5652823 | 0.94861222 |\n",
       "| Japan | 85-89 | 3841456 | 0.97956469 |\n",
       "| Japan | 90-94 | 1930225 | 0.99511744 |\n",
       "| Japan | 95-99 |  605966 | 1.00000000 |\n",
       "\n"
      ],
      "text/plain": [
       "   Country Age   POP     CumProp   \n",
       "1  Japan   0-4   4556555 0.03671436\n",
       "2  Japan   5-9   5278748 0.07924778\n",
       "3  Japan   10-14 5632437 0.12463104\n",
       "4  Japan   15-19 5625932 0.16996189\n",
       "5  Japan   20-24 5959064 0.21797695\n",
       "6  Japan   25-29 6167973 0.26767528\n",
       "7  Japan   30-34 6348230 0.31882603\n",
       "8  Japan   35-39 7275888 0.37745137\n",
       "9  Japan   40-44 7911658 0.44119942\n",
       "10 Japan   45-49 9180119 0.51516807\n",
       "11 Japan   50-54 9069125 0.58824238\n",
       "12 Japan   55-59 7817264 0.65122985\n",
       "13 Japan   60-64 7347215 0.71042991\n",
       "14 Japan   65-69 7575423 0.77146874\n",
       "15 Japan   70-74 9360496 0.84689078\n",
       "16 Japan   75-79 6971647 0.90306470\n",
       "17 Japan   80-84 5652823 0.94861222\n",
       "18 Japan   85-89 3841456 0.97956469\n",
       "19 Japan   90-94 1930225 0.99511744\n",
       "20 Japan   95-99  605966 1.00000000"
      ]
     },
     "metadata": {},
     "output_type": "display_data"
    }
   ],
   "source": [
    "table_jp  <- data.frame(Country = jp_2022$Country[1:(nrow(jp_2022)/2)],\n",
    "                        Age = jp_2022$Age[1:(nrow(jp_2022)/2)],\n",
    "                        POP = (jp_2022$POP[jp_2022$Sex == \"F\"] + jp_2022$POP[jp_2022$Sex == \"M\"]))\n",
    "\n",
    "table_jp$CumProp  <- cumsum(table_jp$POP)/sum(table_jp$POP)\n",
    "                            \n",
    "\n",
    "table_jp"
   ]
  },
  {
   "cell_type": "markdown",
   "id": "6e5982a7",
   "metadata": {},
   "source": [
    "Here the median is at the ager group 45-49 also more congruent with the mean."
   ]
  },
  {
   "cell_type": "code",
   "execution_count": 85,
   "id": "b324bb03",
   "metadata": {},
   "outputs": [
    {
     "data": {
      "text/html": [
       "<table class=\"dataframe\">\n",
       "<caption>A data.frame: 20 × 4</caption>\n",
       "<thead>\n",
       "\t<tr><th scope=col>Country</th><th scope=col>Age</th><th scope=col>POP</th><th scope=col>CumProp</th></tr>\n",
       "\t<tr><th scope=col>&lt;fct&gt;</th><th scope=col>&lt;fct&gt;</th><th scope=col>&lt;dbl&gt;</th><th scope=col>&lt;dbl&gt;</th></tr>\n",
       "</thead>\n",
       "<tbody>\n",
       "\t<tr><td>Austria</td><td>0-4  </td><td>423299</td><td>0.04752226</td></tr>\n",
       "\t<tr><td>Austria</td><td>5-9  </td><td>419075</td><td>0.09457030</td></tr>\n",
       "\t<tr><td>Austria</td><td>10-14</td><td>410364</td><td>0.14064039</td></tr>\n",
       "\t<tr><td>Austria</td><td>15-19</td><td>424481</td><td>0.18829535</td></tr>\n",
       "\t<tr><td>Austria</td><td>20-24</td><td>466160</td><td>0.24062946</td></tr>\n",
       "\t<tr><td>Austria</td><td>25-29</td><td>566333</td><td>0.30420963</td></tr>\n",
       "\t<tr><td>Austria</td><td>30-34</td><td>601929</td><td>0.37178604</td></tr>\n",
       "\t<tr><td>Austria</td><td>35-39</td><td>597758</td><td>0.43889418</td></tr>\n",
       "\t<tr><td>Austria</td><td>40-44</td><td>581444</td><td>0.50417081</td></tr>\n",
       "\t<tr><td>Austria</td><td>45-49</td><td>577204</td><td>0.56897143</td></tr>\n",
       "\t<tr><td>Austria</td><td>50-54</td><td>687682</td><td>0.64617502</td></tr>\n",
       "\t<tr><td>Austria</td><td>55-59</td><td>712628</td><td>0.72617920</td></tr>\n",
       "\t<tr><td>Austria</td><td>60-64</td><td>621333</td><td>0.79593403</td></tr>\n",
       "\t<tr><td>Austria</td><td>65-69</td><td>493024</td><td>0.85128406</td></tr>\n",
       "\t<tr><td>Austria</td><td>70-74</td><td>428190</td><td>0.89935541</td></tr>\n",
       "\t<tr><td>Austria</td><td>75-79</td><td>341471</td><td>0.93769113</td></tr>\n",
       "\t<tr><td>Austria</td><td>80-84</td><td>308711</td><td>0.97234901</td></tr>\n",
       "\t<tr><td>Austria</td><td>85-89</td><td>142899</td><td>0.98839177</td></tr>\n",
       "\t<tr><td>Austria</td><td>90-94</td><td> 75808</td><td>0.99690246</td></tr>\n",
       "\t<tr><td>Austria</td><td>95-99</td><td> 27591</td><td>1.00000000</td></tr>\n",
       "</tbody>\n",
       "</table>\n"
      ],
      "text/latex": [
       "A data.frame: 20 × 4\n",
       "\\begin{tabular}{llll}\n",
       " Country & Age & POP & CumProp\\\\\n",
       " <fct> & <fct> & <dbl> & <dbl>\\\\\n",
       "\\hline\n",
       "\t Austria & 0-4   & 423299 & 0.04752226\\\\\n",
       "\t Austria & 5-9   & 419075 & 0.09457030\\\\\n",
       "\t Austria & 10-14 & 410364 & 0.14064039\\\\\n",
       "\t Austria & 15-19 & 424481 & 0.18829535\\\\\n",
       "\t Austria & 20-24 & 466160 & 0.24062946\\\\\n",
       "\t Austria & 25-29 & 566333 & 0.30420963\\\\\n",
       "\t Austria & 30-34 & 601929 & 0.37178604\\\\\n",
       "\t Austria & 35-39 & 597758 & 0.43889418\\\\\n",
       "\t Austria & 40-44 & 581444 & 0.50417081\\\\\n",
       "\t Austria & 45-49 & 577204 & 0.56897143\\\\\n",
       "\t Austria & 50-54 & 687682 & 0.64617502\\\\\n",
       "\t Austria & 55-59 & 712628 & 0.72617920\\\\\n",
       "\t Austria & 60-64 & 621333 & 0.79593403\\\\\n",
       "\t Austria & 65-69 & 493024 & 0.85128406\\\\\n",
       "\t Austria & 70-74 & 428190 & 0.89935541\\\\\n",
       "\t Austria & 75-79 & 341471 & 0.93769113\\\\\n",
       "\t Austria & 80-84 & 308711 & 0.97234901\\\\\n",
       "\t Austria & 85-89 & 142899 & 0.98839177\\\\\n",
       "\t Austria & 90-94 &  75808 & 0.99690246\\\\\n",
       "\t Austria & 95-99 &  27591 & 1.00000000\\\\\n",
       "\\end{tabular}\n"
      ],
      "text/markdown": [
       "\n",
       "A data.frame: 20 × 4\n",
       "\n",
       "| Country &lt;fct&gt; | Age &lt;fct&gt; | POP &lt;dbl&gt; | CumProp &lt;dbl&gt; |\n",
       "|---|---|---|---|\n",
       "| Austria | 0-4   | 423299 | 0.04752226 |\n",
       "| Austria | 5-9   | 419075 | 0.09457030 |\n",
       "| Austria | 10-14 | 410364 | 0.14064039 |\n",
       "| Austria | 15-19 | 424481 | 0.18829535 |\n",
       "| Austria | 20-24 | 466160 | 0.24062946 |\n",
       "| Austria | 25-29 | 566333 | 0.30420963 |\n",
       "| Austria | 30-34 | 601929 | 0.37178604 |\n",
       "| Austria | 35-39 | 597758 | 0.43889418 |\n",
       "| Austria | 40-44 | 581444 | 0.50417081 |\n",
       "| Austria | 45-49 | 577204 | 0.56897143 |\n",
       "| Austria | 50-54 | 687682 | 0.64617502 |\n",
       "| Austria | 55-59 | 712628 | 0.72617920 |\n",
       "| Austria | 60-64 | 621333 | 0.79593403 |\n",
       "| Austria | 65-69 | 493024 | 0.85128406 |\n",
       "| Austria | 70-74 | 428190 | 0.89935541 |\n",
       "| Austria | 75-79 | 341471 | 0.93769113 |\n",
       "| Austria | 80-84 | 308711 | 0.97234901 |\n",
       "| Austria | 85-89 | 142899 | 0.98839177 |\n",
       "| Austria | 90-94 |  75808 | 0.99690246 |\n",
       "| Austria | 95-99 |  27591 | 1.00000000 |\n",
       "\n"
      ],
      "text/plain": [
       "   Country Age   POP    CumProp   \n",
       "1  Austria 0-4   423299 0.04752226\n",
       "2  Austria 5-9   419075 0.09457030\n",
       "3  Austria 10-14 410364 0.14064039\n",
       "4  Austria 15-19 424481 0.18829535\n",
       "5  Austria 20-24 466160 0.24062946\n",
       "6  Austria 25-29 566333 0.30420963\n",
       "7  Austria 30-34 601929 0.37178604\n",
       "8  Austria 35-39 597758 0.43889418\n",
       "9  Austria 40-44 581444 0.50417081\n",
       "10 Austria 45-49 577204 0.56897143\n",
       "11 Austria 50-54 687682 0.64617502\n",
       "12 Austria 55-59 712628 0.72617920\n",
       "13 Austria 60-64 621333 0.79593403\n",
       "14 Austria 65-69 493024 0.85128406\n",
       "15 Austria 70-74 428190 0.89935541\n",
       "16 Austria 75-79 341471 0.93769113\n",
       "17 Austria 80-84 308711 0.97234901\n",
       "18 Austria 85-89 142899 0.98839177\n",
       "19 Austria 90-94  75808 0.99690246\n",
       "20 Austria 95-99  27591 1.00000000"
      ]
     },
     "metadata": {},
     "output_type": "display_data"
    }
   ],
   "source": [
    "table_at  <- data.frame(Country = at_2022$Country[1:(nrow(at_2022)/2)],\n",
    "                        Age = at_2022$Age[1:(nrow(at_2022)/2)],\n",
    "                        POP = (at_2022$POP[at_2022$Sex == \"F\"] + at_2022$POP[at_2022$Sex == \"M\"]))\n",
    "\n",
    "table_at$CumProp  <- cumsum(table_at$POP)/sum(table_at$POP)\n",
    "                            \n",
    "\n",
    "table_at"
   ]
  },
  {
   "cell_type": "markdown",
   "id": "e7d2c870",
   "metadata": {},
   "source": [
    "Here the median age is in the group 40-44 quite congruent with the mean."
   ]
  },
  {
   "cell_type": "code",
   "execution_count": null,
   "id": "eaa414a1",
   "metadata": {},
   "outputs": [],
   "source": []
  }
 ],
 "metadata": {
  "kernelspec": {
   "display_name": "R",
   "language": "R",
   "name": "ir"
  },
  "language_info": {
   "codemirror_mode": "r",
   "file_extension": ".r",
   "mimetype": "text/x-r-source",
   "name": "R",
   "pygments_lexer": "r",
   "version": "4.3.2"
  }
 },
 "nbformat": 4,
 "nbformat_minor": 5
}
